{
  "nbformat": 4,
  "nbformat_minor": 0,
  "metadata": {
    "colab": {
      "name": "LIST 3 2nd Batch.ipynb",
      "provenance": [],
      "collapsed_sections": [],
      "authorship_tag": "ABX9TyNuz7PlLPIUBeg0YZJrrIne",
      "include_colab_link": true
    },
    "kernelspec": {
      "name": "python3",
      "display_name": "Python 3"
    },
    "language_info": {
      "name": "python"
    }
  },
  "cells": [
    {
      "cell_type": "markdown",
      "metadata": {
        "id": "view-in-github",
        "colab_type": "text"
      },
      "source": [
        "<a href=\"https://colab.research.google.com/github/PankajDS1987/AutoMailSystem_using_Python/blob/master/LIST_3_2nd_Batch.ipynb\" target=\"_parent\"><img src=\"https://colab.research.google.com/assets/colab-badge.svg\" alt=\"Open In Colab\"/></a>"
      ]
    },
    {
      "cell_type": "code",
      "execution_count": null,
      "metadata": {
        "colab": {
          "base_uri": "https://localhost:8080/"
        },
        "id": "ThgToCcvwvD9",
        "outputId": "aceab1d6-1f15-4b23-acc1-7f8746b7d18c"
      },
      "outputs": [
        {
          "output_type": "stream",
          "name": "stdout",
          "text": [
            "[[41, 76, 85]]\n"
          ]
        }
      ],
      "source": [
        "# LIST inside lists\n",
        "Scorecard =[]\n",
        "Sem1 = [41,76,85]\n",
        "Scorecard.append(Sem1)\n",
        "print(Scorecard)"
      ]
    },
    {
      "cell_type": "code",
      "source": [
        "ScoreCard1 = []\n",
        "Sem2 = [91,88,76]\n",
        "ScoreCard1.extend(Sem2)\n",
        "print(ScoreCard1)"
      ],
      "metadata": {
        "colab": {
          "base_uri": "https://localhost:8080/"
        },
        "id": "W2ZOOJB3yb9x",
        "outputId": "02bf7e53-884c-4b46-cd7e-93a8ba502957"
      },
      "execution_count": null,
      "outputs": [
        {
          "output_type": "stream",
          "name": "stdout",
          "text": [
            "[91, 88, 76]\n"
          ]
        }
      ]
    },
    {
      "cell_type": "code",
      "source": [
        "StudentScoreCard=[]\n",
        "Sem3 = [69,87,81]\n",
        "StudentScoreCard = [Sem1,Sem2,Sem3]\n",
        "print(StudentScoreCard)"
      ],
      "metadata": {
        "colab": {
          "base_uri": "https://localhost:8080/"
        },
        "id": "omL5oQ0Wyz_T",
        "outputId": "a7dfb242-d505-4cab-8386-e0fd4835069a"
      },
      "execution_count": null,
      "outputs": [
        {
          "output_type": "stream",
          "name": "stdout",
          "text": [
            "[[41, 76, 85], [91, 88, 76], [69, 87, 81]]\n"
          ]
        }
      ]
    },
    {
      "cell_type": "code",
      "source": [
        "print(StudentScoreCard[1])\n",
        "print(StudentScoreCard[1][0])"
      ],
      "metadata": {
        "colab": {
          "base_uri": "https://localhost:8080/"
        },
        "id": "d6WER88QzRUR",
        "outputId": "00f41744-afc2-40e5-b960-43eb40ad2980"
      },
      "execution_count": null,
      "outputs": [
        {
          "output_type": "stream",
          "name": "stdout",
          "text": [
            "[91, 88, 76]\n",
            "91\n"
          ]
        }
      ]
    },
    {
      "cell_type": "code",
      "source": [
        "for i in range(2):\n",
        "  print(i)"
      ],
      "metadata": {
        "colab": {
          "base_uri": "https://localhost:8080/"
        },
        "id": "q0cjJqam53Iz",
        "outputId": "1552368d-ca36-49f8-b5ca-7393bc84a988"
      },
      "execution_count": null,
      "outputs": [
        {
          "output_type": "stream",
          "name": "stdout",
          "text": [
            "0\n",
            "1\n"
          ]
        }
      ]
    },
    {
      "cell_type": "code",
      "source": [
        "for j in range(2):\n",
        "  print(j)"
      ],
      "metadata": {
        "colab": {
          "base_uri": "https://localhost:8080/"
        },
        "id": "sNO4-Bz56Bxy",
        "outputId": "cc48511f-d65b-4365-ff1a-e97de8c2a90e"
      },
      "execution_count": null,
      "outputs": [
        {
          "output_type": "stream",
          "name": "stdout",
          "text": [
            "0\n",
            "1\n"
          ]
        }
      ]
    },
    {
      "cell_type": "code",
      "source": [
        "for i in range(2):\n",
        "  for j in range(2):\n",
        "    print(i,j)"
      ],
      "metadata": {
        "colab": {
          "base_uri": "https://localhost:8080/"
        },
        "id": "9CLm5b9X6FwR",
        "outputId": "d6e3daa7-5d46-4285-981d-2909e8dedc45"
      },
      "execution_count": null,
      "outputs": [
        {
          "output_type": "stream",
          "name": "stdout",
          "text": [
            "0 0\n",
            "0 1\n",
            "1 0\n",
            "1 1\n"
          ]
        }
      ]
    },
    {
      "cell_type": "code",
      "source": [
        "for i in range(len(StudentScoreCard)):\n",
        "  print(\"index\",i)\n",
        "  print(StudentScoreCard[i])"
      ],
      "metadata": {
        "colab": {
          "base_uri": "https://localhost:8080/"
        },
        "id": "krzzCUUo-Gyi",
        "outputId": "ca352cc0-f8cf-4fab-fa68-1a82eaefc0a3"
      },
      "execution_count": null,
      "outputs": [
        {
          "output_type": "stream",
          "name": "stdout",
          "text": [
            "index 0\n",
            "[41, 76, 85]\n",
            "index 1\n",
            "[91, 88, 76]\n",
            "index 2\n",
            "[69, 87, 81]\n"
          ]
        }
      ]
    },
    {
      "cell_type": "code",
      "source": [
        "for i in range(len(StudentScoreCard)):\n",
        "  for j in range(len(StudentScoreCard[i])):\n",
        "    #print(i,j)\n",
        "    print(StudentScoreCard[i][j]*2,end=' ')\n",
        "  print()"
      ],
      "metadata": {
        "colab": {
          "base_uri": "https://localhost:8080/"
        },
        "id": "S2Nrk_KSA7Xe",
        "outputId": "11bc3b7f-7770-4883-e7da-920e0d76b128"
      },
      "execution_count": null,
      "outputs": [
        {
          "output_type": "stream",
          "name": "stdout",
          "text": [
            "82 152 170 \n",
            "182 176 152 \n",
            "138 174 162 \n"
          ]
        }
      ]
    },
    {
      "cell_type": "code",
      "source": [
        "#INPUT In NESTED LOOPS\n",
        "for i in StudentScoreCard:\n",
        "  print(sum(i))\n",
        "  #2nd Approach\n",
        "for i in range(len(StudentScoreCard)):\n",
        "  #for j in range(len(StudentScoreCard[i])):\n",
        "    #print(StudentScoreCard[i][j],end=' ')\n",
        "    #print(StudentScoreCard[j])\n",
        "  print(sum(StudentScoreCard[i]))"
      ],
      "metadata": {
        "colab": {
          "base_uri": "https://localhost:8080/"
        },
        "id": "X7eCuVY6dj3H",
        "outputId": "7d995d17-a241-4a69-c82b-964717637c1f"
      },
      "execution_count": null,
      "outputs": [
        {
          "output_type": "stream",
          "name": "stdout",
          "text": [
            "202\n",
            "255\n",
            "237\n",
            "202\n",
            "255\n",
            "237\n"
          ]
        }
      ]
    },
    {
      "cell_type": "code",
      "source": [
        "tlist =[]\n",
        "for i in range(len(StudentScoreCard)):\n",
        "  for j in range(len(StudentScoreCard)):\n",
        "    if i==j:\n",
        "      tlist.append(StudentScoreCard[i][j])\n",
        "print(tlist)\n",
        "  "
      ],
      "metadata": {
        "colab": {
          "base_uri": "https://localhost:8080/"
        },
        "id": "YSKdzgS4VJqt",
        "outputId": "e7aa4316-f25f-4006-a382-1aa16b6b73ac"
      },
      "execution_count": null,
      "outputs": [
        {
          "output_type": "stream",
          "name": "stdout",
          "text": [
            "[41, 88, 81]\n"
          ]
        }
      ]
    },
    {
      "cell_type": "code",
      "source": [
        "n_list=[12,41,29,32,7]\n",
        "def  swap(n_list):\n",
        "\n",
        "\n",
        "\n",
        "       return n_list\n",
        "\n",
        "swap(n_list)"
      ],
      "metadata": {
        "colab": {
          "base_uri": "https://localhost:8080/"
        },
        "id": "aNAzFq8AdVhE",
        "outputId": "c9abf16d-562b-4a5b-e194-c53508db5160"
      },
      "execution_count": null,
      "outputs": [
        {
          "output_type": "execute_result",
          "data": {
            "text/plain": [
              "[12, 41, 29, 32, 7]"
            ]
          },
          "metadata": {},
          "execution_count": 18
        }
      ]
    },
    {
      "cell_type": "code",
      "source": [
        "n_list[0], n_list[-1] = n_list[-1], n_list[0]\n",
        "print(n_list)"
      ],
      "metadata": {
        "colab": {
          "base_uri": "https://localhost:8080/"
        },
        "id": "Mqdhe8vBmakx",
        "outputId": "8c3ac181-acd3-4b58-b5e4-1aa1806de761"
      },
      "execution_count": null,
      "outputs": [
        {
          "output_type": "stream",
          "name": "stdout",
          "text": [
            "[7, 41, 29, 32, 12]\n"
          ]
        }
      ]
    },
    {
      "cell_type": "code",
      "source": [
        "n_list[0], n_list[-1] = n_list[0], n_list[-1]\n",
        "print(n_list)"
      ],
      "metadata": {
        "colab": {
          "base_uri": "https://localhost:8080/"
        },
        "id": "ql9Bmu4EmlX5",
        "outputId": "66a47fa6-4546-4253-ac4b-c5db866be9d8"
      },
      "execution_count": null,
      "outputs": [
        {
          "output_type": "stream",
          "name": "stdout",
          "text": [
            "[7, 41, 29, 32, 12]\n"
          ]
        }
      ]
    },
    {
      "cell_type": "code",
      "source": [
        "n_list[-1], n_list[0] = n_list[0], n_list[-1]\n",
        "print(n_list)"
      ],
      "metadata": {
        "id": "HTmon5Dfmrph",
        "outputId": "66f29bfd-79db-4b95-dc28-09f5adbd53e4",
        "colab": {
          "base_uri": "https://localhost:8080/"
        }
      },
      "execution_count": null,
      "outputs": [
        {
          "output_type": "stream",
          "name": "stdout",
          "text": [
            "[12, 41, 29, 32, 7]\n"
          ]
        }
      ]
    },
    {
      "cell_type": "code",
      "source": [
        "n_list[-1], n_list[0] = n_list[-1], n_list[0]\n",
        "print(n_list)"
      ],
      "metadata": {
        "id": "jWBR00icmvYq",
        "outputId": "2f0dff14-545e-4484-87e8-c8fe31fd46a2",
        "colab": {
          "base_uri": "https://localhost:8080/"
        }
      },
      "execution_count": null,
      "outputs": [
        {
          "output_type": "stream",
          "name": "stdout",
          "text": [
            "[12, 41, 29, 32, 7]\n"
          ]
        }
      ]
    },
    {
      "cell_type": "code",
      "source": [
        "# Mutliple Approachs to remove an element within the list.\n",
        "#The list languages contains the names of different kinds of programming languages. Choose the suitable options that can be used to remove the element 'Java' from the given list.\n",
        "languages=['C' , 'C++' ,'R', 'Python' , 'Java', 'Scala']"
      ],
      "metadata": {
        "id": "v5n5GC5lxzoY"
      },
      "execution_count": 31,
      "outputs": []
    },
    {
      "cell_type": "code",
      "source": [
        "# 1st Method:\n",
        "languages.pop(4)\n",
        "print(languages)"
      ],
      "metadata": {
        "colab": {
          "base_uri": "https://localhost:8080/"
        },
        "id": "whNDcfI9yNAb",
        "outputId": "9eb57a13-d27b-42f5-c37d-60dbfeed1683"
      },
      "execution_count": 28,
      "outputs": [
        {
          "output_type": "stream",
          "name": "stdout",
          "text": [
            "['C', 'C++', 'R', 'Python', 'Scala']\n"
          ]
        }
      ]
    },
    {
      "cell_type": "code",
      "source": [
        "#2nd Method:\n",
        "del languages[-2]\n",
        "print(languages)"
      ],
      "metadata": {
        "colab": {
          "base_uri": "https://localhost:8080/"
        },
        "id": "O9q2JoPNx9pg",
        "outputId": "f5208c32-13a3-497c-98b9-49a23391e15e"
      },
      "execution_count": 25,
      "outputs": [
        {
          "output_type": "stream",
          "name": "stdout",
          "text": [
            "['C', 'C++', 'R', 'Python', 'Scala']\n"
          ]
        }
      ]
    },
    {
      "cell_type": "code",
      "source": [
        "languages.remove('Java')"
      ],
      "metadata": {
        "id": "f4hI7w9lywwh"
      },
      "execution_count": 32,
      "outputs": []
    },
    {
      "cell_type": "code",
      "source": [
        "#Write a program that reads an integer array A from input and modifies the array by shifting each element to the right by one position and by shifting the last element to the first position.\n",
        "#Return the modified array.\n",
        "\n",
        "N=int(input())\n",
        "T=list(map(int,input().split()))\n",
        "lst=T[-1] + T[1:]\n",
        "print(*lst)"
      ],
      "metadata": {
        "colab": {
          "base_uri": "https://localhost:8080/",
          "height": 252
        },
        "id": "VBjEi92V1fTP",
        "outputId": "1d36ecf6-8ea2-4edc-cb6f-cadb6a34ff19"
      },
      "execution_count": 37,
      "outputs": [
        {
          "name": "stdout",
          "output_type": "stream",
          "text": [
            "5\n",
            "1 2 3 4 5\n"
          ]
        },
        {
          "output_type": "error",
          "ename": "TypeError",
          "evalue": "ignored",
          "traceback": [
            "\u001b[0;31m---------------------------------------------------------------------------\u001b[0m",
            "\u001b[0;31mTypeError\u001b[0m                                 Traceback (most recent call last)",
            "\u001b[0;32m<ipython-input-37-7539b7f4fd64>\u001b[0m in \u001b[0;36m<module>\u001b[0;34m()\u001b[0m\n\u001b[1;32m      4\u001b[0m \u001b[0mN\u001b[0m\u001b[0;34m=\u001b[0m\u001b[0mint\u001b[0m\u001b[0;34m(\u001b[0m\u001b[0minput\u001b[0m\u001b[0;34m(\u001b[0m\u001b[0;34m)\u001b[0m\u001b[0;34m)\u001b[0m\u001b[0;34m\u001b[0m\u001b[0;34m\u001b[0m\u001b[0m\n\u001b[1;32m      5\u001b[0m \u001b[0mT\u001b[0m\u001b[0;34m=\u001b[0m\u001b[0mlist\u001b[0m\u001b[0;34m(\u001b[0m\u001b[0mmap\u001b[0m\u001b[0;34m(\u001b[0m\u001b[0mint\u001b[0m\u001b[0;34m,\u001b[0m\u001b[0minput\u001b[0m\u001b[0;34m(\u001b[0m\u001b[0;34m)\u001b[0m\u001b[0;34m.\u001b[0m\u001b[0msplit\u001b[0m\u001b[0;34m(\u001b[0m\u001b[0;34m)\u001b[0m\u001b[0;34m)\u001b[0m\u001b[0;34m)\u001b[0m\u001b[0;34m\u001b[0m\u001b[0;34m\u001b[0m\u001b[0m\n\u001b[0;32m----> 6\u001b[0;31m \u001b[0mlst\u001b[0m\u001b[0;34m=\u001b[0m\u001b[0mT\u001b[0m\u001b[0;34m[\u001b[0m\u001b[0;34m-\u001b[0m\u001b[0;36m1\u001b[0m\u001b[0;34m]\u001b[0m \u001b[0;34m+\u001b[0m \u001b[0mT\u001b[0m\u001b[0;34m[\u001b[0m\u001b[0;36m1\u001b[0m\u001b[0;34m:\u001b[0m\u001b[0;34m]\u001b[0m\u001b[0;34m\u001b[0m\u001b[0;34m\u001b[0m\u001b[0m\n\u001b[0m\u001b[1;32m      7\u001b[0m \u001b[0mprint\u001b[0m\u001b[0;34m(\u001b[0m\u001b[0;34m*\u001b[0m\u001b[0mlst\u001b[0m\u001b[0;34m)\u001b[0m\u001b[0;34m\u001b[0m\u001b[0;34m\u001b[0m\u001b[0m\n",
            "\u001b[0;31mTypeError\u001b[0m: unsupported operand type(s) for +: 'int' and 'list'"
          ]
        }
      ]
    },
    {
      "cell_type": "markdown",
      "source": [
        " #Write a program that will keep track of items for a shopping list. The program should keep asking for new items as input until “end” is entered and also print the full shopping list.\n",
        " #inputs: Notebooks Perfume Shoes end"
      ],
      "metadata": {
        "id": "GuNsG8RTIh1h"
      }
    },
    {
      "cell_type": "code",
      "source": [
        "#Method 1:\n",
        "def shopping_list():\n",
        "  shoplist=[]\n",
        "  ''' input:take items as inputs (strings) from the user\n",
        "      output:Print the shopping list.'''\n",
        "  # YOUR CODE GOES HERE\n",
        "  while True:\n",
        "      item=input()\n",
        "      if item=='end':\n",
        "          break\n",
        "      else:\n",
        "          shoplist.append(item)\n",
        "\n",
        "\n",
        "  \n",
        "  print(shoplist)\n",
        "  \n",
        "  '''Calling the function'''\n",
        "\n",
        "shopping_list() "
      ],
      "metadata": {
        "id": "GxR80ji3HTek"
      },
      "execution_count": null,
      "outputs": []
    },
    {
      "cell_type": "code",
      "source": [
        "# Method 2:\n",
        "def shopping_list():\n",
        "    shoplist=[]\n",
        "    ''' input:take items as inputs (strings) from the user\n",
        "        output:Print the shopping list.'''\n",
        "    # YOUR CODE GOES HERE\n",
        "    i=0\n",
        "    while i<1:\n",
        "        item=input()\n",
        "        if item=='end':\n",
        "            i=1\n",
        "        else:\n",
        "            shoplist.append(item)\n",
        "  \n",
        "    print(shoplist)\n",
        "  \n",
        "    '''Calling the function'''\n",
        "\n",
        "shopping_list() "
      ],
      "metadata": {
        "id": "l2hwVliJIRcx"
      },
      "execution_count": null,
      "outputs": []
    }
  ]
}