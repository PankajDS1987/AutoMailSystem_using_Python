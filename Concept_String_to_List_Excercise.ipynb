{
  "nbformat": 4,
  "nbformat_minor": 0,
  "metadata": {
    "colab": {
      "name": "Concept String to List Excercise.ipynb",
      "provenance": [],
      "authorship_tag": "ABX9TyPRZlPKEPum+aHt/kpVZu3Z",
      "include_colab_link": true
    },
    "kernelspec": {
      "name": "python3",
      "display_name": "Python 3"
    },
    "language_info": {
      "name": "python"
    }
  },
  "cells": [
    {
      "cell_type": "markdown",
      "metadata": {
        "id": "view-in-github",
        "colab_type": "text"
      },
      "source": [
        "<a href=\"https://colab.research.google.com/github/PankajDS1987/AutoMailSystem_using_Python/blob/master/Concept_String_to_List_Excercise.ipynb\" target=\"_parent\"><img src=\"https://colab.research.google.com/assets/colab-badge.svg\" alt=\"Open In Colab\"/></a>"
      ]
    },
    {
      "cell_type": "code",
      "execution_count": 10,
      "metadata": {
        "colab": {
          "base_uri": "https://localhost:8080/"
        },
        "id": "tqGaL5vguOkd",
        "outputId": "8705db13-35b6-4a8a-d760-ef871f5003cb"
      },
      "outputs": [
        {
          "output_type": "stream",
          "name": "stdout",
          "text": [
            "5 4 3\n",
            "[5, 4, 3]\n",
            "<class 'int'>\n"
          ]
        }
      ],
      "source": [
        "\n",
        "\n",
        "a=input().split()\n",
        "\n",
        "b=[]\n",
        "for i in a:\n",
        "  b.append(int(i))\n",
        "print(b)\n",
        "print(type(b[0]))\n"
      ]
    },
    {
      "cell_type": "code",
      "source": [
        "a=input().split()\n",
        "\n",
        "a=[int(i) for i in a]\n",
        "\n",
        "print(\"a is \",end='')\n",
        "print(type(a[0]))\n",
        "\n",
        "\n",
        "\n"
      ],
      "metadata": {
        "colab": {
          "base_uri": "https://localhost:8080/"
        },
        "id": "CHqoBMF2zr7V",
        "outputId": "aa441be9-a6a4-42f7-a282-218a3863fbd7"
      },
      "execution_count": 17,
      "outputs": [
        {
          "output_type": "stream",
          "name": "stdout",
          "text": [
            "3 4 5 \n",
            "b is <class 'int'>\n"
          ]
        }
      ]
    },
    {
      "cell_type": "code",
      "source": [
        "a=input().split()\n",
        "b=input()\n",
        "cnt=0\n",
        "for i in a:\n",
        "  cnt+=1\n",
        "  if b==i:\n",
        "    print(\"found\")\n",
        "    break\n",
        "print(cnt)\n",
        "\n",
        "\n",
        "\n",
        "\n",
        "\n",
        "\n"
      ],
      "metadata": {
        "colab": {
          "base_uri": "https://localhost:8080/"
        },
        "id": "P-bkrsOAxdq5",
        "outputId": "aed7183e-c058-401e-a85d-12a4f440236d"
      },
      "execution_count": 19,
      "outputs": [
        {
          "output_type": "stream",
          "name": "stdout",
          "text": [
            "5 4 6 7 \n",
            "7\n",
            "found\n",
            "4\n"
          ]
        }
      ]
    },
    {
      "cell_type": "code",
      "source": [
        "a=input().split()\n",
        "b=int(input())\n",
        "\n",
        "a=[int(i) for i in a]\n",
        "\n",
        "for i in range(len(a)):\n",
        "  if b==a[i]:\n",
        "    print(\"found\",\"posittion: \", i)\n",
        "    break"
      ],
      "metadata": {
        "colab": {
          "base_uri": "https://localhost:8080/"
        },
        "id": "lrwAOvuFyt5k",
        "outputId": "be5b1c23-4c51-4b31-ee44-d7283e8759dd"
      },
      "execution_count": 20,
      "outputs": [
        {
          "output_type": "stream",
          "name": "stdout",
          "text": [
            " 4 5 6 7 8 9\n",
            "8\n",
            "found posittion:  4\n"
          ]
        }
      ]
    }
  ]
}