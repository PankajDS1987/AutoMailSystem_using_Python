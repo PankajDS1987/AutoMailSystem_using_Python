{
  "cells": [
    {
      "cell_type": "markdown",
      "metadata": {
        "id": "view-in-github",
        "colab_type": "text"
      },
      "source": [
        "<a href=\"https://colab.research.google.com/github/PankajDS1987/AutoMailSystem_using_Python/blob/master/WHILE_Loops.ipynb\" target=\"_parent\"><img src=\"https://colab.research.google.com/assets/colab-badge.svg\" alt=\"Open In Colab\"/></a>"
      ]
    },
    {
      "cell_type": "markdown",
      "source": [
        "While Loop works like an IF Else (itself) as it checks for conditions if its true or not and then executes the next (mentioned in next block) accordingly."
      ],
      "metadata": {
        "id": "P3a-1nLc0cx1"
      }
    },
    {
      "cell_type": "markdown",
      "source": [
        "** Take total number of Inputs and run a loop to run that many times and also print the sum of the digits of that **\n",
        "\n",
        "``\n",
        "\n"
      ],
      "metadata": {
        "id": "CX1zYnLKfVci"
      }
    },
    {
      "cell_type": "code",
      "source": [
        "T=int(input())\n",
        "i=1\n",
        "while i < T:\n",
        "    n=int(input())\n",
        "    sum=0\n",
        "    while n>0:\n",
        "        rem=n%10\n",
        "        n//=10\n",
        "        sum= (sum+rem)    \n",
        "    print(sum)\n",
        "    i+=1     "
      ],
      "metadata": {
        "colab": {
          "base_uri": "https://localhost:8080/"
        },
        "id": "0HKOk7sBneeU",
        "outputId": "3196df04-e9f9-4b51-a2a0-2950e4f06303"
      },
      "execution_count": null,
      "outputs": [
        {
          "output_type": "stream",
          "name": "stdout",
          "text": [
            "4\n",
            "123\n",
            "6\n",
            "234\n",
            "9\n",
            "4535\n",
            "17\n"
          ]
        }
      ]
    },
    {
      "cell_type": "markdown",
      "source": [
        "** Taking User Input --and Creating Table upto 10 multiples**\n"
      ],
      "metadata": {
        "id": "BspRjfo30Hy9"
      }
    },
    {
      "cell_type": "code",
      "source": [
        "A=int(input())\n",
        "i=1\n",
        "while i<=10:\n",
        "    print(A,\"*\",i,\"=\",A*i)\n",
        "    i+=1"
      ],
      "metadata": {
        "colab": {
          "base_uri": "https://localhost:8080/"
        },
        "id": "KAn35-lAy530",
        "outputId": "957a5ca2-b43a-42f8-eb35-cd1b3752df47"
      },
      "execution_count": null,
      "outputs": [
        {
          "output_type": "stream",
          "name": "stdout",
          "text": [
            "4\n",
            "4 * 1 = 4\n",
            "4 * 2 = 8\n",
            "4 * 3 = 12\n",
            "4 * 4 = 16\n",
            "4 * 5 = 20\n",
            "4 * 6 = 24\n",
            "4 * 7 = 28\n",
            "4 * 8 = 32\n",
            "4 * 9 = 36\n",
            "4 * 10 = 40\n"
          ]
        }
      ]
    },
    {
      "cell_type": "markdown",
      "source": [
        "**Find A power B**"
      ],
      "metadata": {
        "id": "8CgheRlj383G"
      }
    },
    {
      "cell_type": "markdown",
      "source": [
        "\n",
        "\n",
        "> Indented block\n",
        "\n"
      ],
      "metadata": {
        "id": "XUe3-KWb0Gn_"
      }
    },
    {
      "cell_type": "code",
      "source": [
        "#Given an integer N, print the corresponding stair pattern for N.\n",
        "\n",
        "#Approach 1:\n",
        "\n",
        "N=int(input())\n",
        "for i in range(1,N+1):\n",
        "    print('*'*i)"
      ],
      "metadata": {
        "colab": {
          "base_uri": "https://localhost:8080/"
        },
        "id": "xlZWJDkDX464",
        "outputId": "b37cd764-d1f8-4283-90a7-160ae942c3b5"
      },
      "execution_count": 2,
      "outputs": [
        {
          "output_type": "stream",
          "name": "stdout",
          "text": [
            "5\n",
            "*\n",
            "**\n",
            "***\n",
            "****\n",
            "*****\n"
          ]
        }
      ]
    },
    {
      "cell_type": "code",
      "source": [
        "#Approach 2:\n",
        "N=5\n",
        "i=1\n",
        "while i <=N:\n",
        "  print('*'*i)\n",
        "  i+=1"
      ],
      "metadata": {
        "colab": {
          "base_uri": "https://localhost:8080/"
        },
        "id": "CKG-QSfPYPuB",
        "outputId": "f0506177-6bf1-4371-b978-6f82ddbed333"
      },
      "execution_count": 7,
      "outputs": [
        {
          "output_type": "stream",
          "name": "stdout",
          "text": [
            "*\n",
            "**\n",
            "***\n",
            "****\n",
            "*****\n"
          ]
        }
      ]
    },
    {
      "cell_type": "code",
      "source": [
        "#Approach3:\n",
        "N=5\n",
        "i=1\n",
        "for i in range(1,N+1):\n",
        "  for j in range(i):\n",
        "    print('*',end='')\n",
        "  print()"
      ],
      "metadata": {
        "colab": {
          "base_uri": "https://localhost:8080/"
        },
        "id": "kzWOjksaYqzW",
        "outputId": "d24cd6cd-45b5-4b41-d695-52c34c135f3d"
      },
      "execution_count": 8,
      "outputs": [
        {
          "output_type": "stream",
          "name": "stdout",
          "text": [
            "*\n",
            "**\n",
            "***\n",
            "****\n",
            "*****\n"
          ]
        }
      ]
    }
  ],
  "metadata": {
    "colab": {
      "name": "WHILE-Loops.ipynb",
      "provenance": [],
      "authorship_tag": "ABX9TyNcTX2OFovecXkJd0e+L+I2",
      "include_colab_link": true
    },
    "kernelspec": {
      "display_name": "Python 3",
      "name": "python3"
    },
    "language_info": {
      "name": "python"
    }
  },
  "nbformat": 4,
  "nbformat_minor": 0
}