{
  "cells": [
    {
      "cell_type": "markdown",
      "metadata": {
        "id": "view-in-github",
        "colab_type": "text"
      },
      "source": [
        "<a href=\"https://colab.research.google.com/github/PankajDS1987/AutoMailSystem_using_Python/blob/master/WHILE_Loops.ipynb\" target=\"_parent\"><img src=\"https://colab.research.google.com/assets/colab-badge.svg\" alt=\"Open In Colab\"/></a>"
      ]
    },
    {
      "cell_type": "markdown",
      "source": [
        "While Loop works like an IF Else (itself) as it checks for conditions if its true or not and then executes the next (mentioned in next block) accordingly."
      ],
      "metadata": {
        "id": "P3a-1nLc0cx1"
      }
    },
    {
      "cell_type": "markdown",
      "source": [
        "** Take total number of Inputs and run a loop to run that many times and also print the sum of the digits of that **\n",
        "\n",
        "``\n",
        "\n"
      ],
      "metadata": {
        "id": "CX1zYnLKfVci"
      }
    },
    {
      "cell_type": "code",
      "source": [
        "T=int(input())\n",
        "i=1\n",
        "while i < T:\n",
        "    n=int(input())\n",
        "    sum=0\n",
        "    while n>0:\n",
        "        rem=n%10\n",
        "        n//=10\n",
        "        sum= (sum+rem)    \n",
        "    print(sum)\n",
        "    i+=1     "
      ],
      "metadata": {
        "colab": {
          "base_uri": "https://localhost:8080/"
        },
        "id": "0HKOk7sBneeU",
        "outputId": "3196df04-e9f9-4b51-a2a0-2950e4f06303"
      },
      "execution_count": null,
      "outputs": [
        {
          "output_type": "stream",
          "name": "stdout",
          "text": [
            "4\n",
            "123\n",
            "6\n",
            "234\n",
            "9\n",
            "4535\n",
            "17\n"
          ]
        }
      ]
    },
    {
      "cell_type": "markdown",
      "source": [
        "** Taking User Input --and Creating Table upto 10 multiples**\n"
      ],
      "metadata": {
        "id": "BspRjfo30Hy9"
      }
    },
    {
      "cell_type": "code",
      "source": [
        "A=int(input())\n",
        "i=1\n",
        "while i<=10:\n",
        "    print(A,\"*\",i,\"=\",A*i)\n",
        "    i+=1"
      ],
      "metadata": {
        "colab": {
          "base_uri": "https://localhost:8080/"
        },
        "id": "KAn35-lAy530",
        "outputId": "957a5ca2-b43a-42f8-eb35-cd1b3752df47"
      },
      "execution_count": null,
      "outputs": [
        {
          "output_type": "stream",
          "name": "stdout",
          "text": [
            "4\n",
            "4 * 1 = 4\n",
            "4 * 2 = 8\n",
            "4 * 3 = 12\n",
            "4 * 4 = 16\n",
            "4 * 5 = 20\n",
            "4 * 6 = 24\n",
            "4 * 7 = 28\n",
            "4 * 8 = 32\n",
            "4 * 9 = 36\n",
            "4 * 10 = 40\n"
          ]
        }
      ]
    },
    {
      "cell_type": "markdown",
      "source": [
        "**Find A power B**"
      ],
      "metadata": {
        "id": "8CgheRlj383G"
      }
    },
    {
      "cell_type": "code",
      "source": [
        "100\n"
      ],
      "metadata": {
        "colab": {
          "base_uri": "https://localhost:8080/"
        },
        "id": "tzgZCxoc4CJQ",
        "outputId": "6ce9af5d-be46-40ef-babb-9b44ad4d4ad3"
      },
      "execution_count": null,
      "outputs": [
        {
          "output_type": "stream",
          "name": "stdout",
          "text": [
            "2\n",
            "4\n",
            "16\n"
          ]
        }
      ]
    },
    {
      "cell_type": "markdown",
      "source": [
        ""
      ],
      "metadata": {
        "id": "XUe3-KWb0Gn_"
      }
    }
  ],
  "metadata": {
    "colab": {
      "name": "WHILE-Loops.ipynb",
      "provenance": [],
      "authorship_tag": "ABX9TyPx3tcx00mdwT84CzR/W51Y",
      "include_colab_link": true
    },
    "kernelspec": {
      "display_name": "Python 3",
      "name": "python3"
    },
    "language_info": {
      "name": "python"
    }
  },
  "nbformat": 4,
  "nbformat_minor": 0
}