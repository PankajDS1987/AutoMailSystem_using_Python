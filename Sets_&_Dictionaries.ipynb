{
  "nbformat": 4,
  "nbformat_minor": 0,
  "metadata": {
    "colab": {
      "name": "Sets & Dictionaries.ipynb",
      "provenance": [],
      "authorship_tag": "ABX9TyM6siSK7vDPjCdshospzE37",
      "include_colab_link": true
    },
    "kernelspec": {
      "name": "python3",
      "display_name": "Python 3"
    },
    "language_info": {
      "name": "python"
    }
  },
  "cells": [
    {
      "cell_type": "markdown",
      "metadata": {
        "id": "view-in-github",
        "colab_type": "text"
      },
      "source": [
        "<a href=\"https://colab.research.google.com/github/PankajDS1987/AutoMailSystem_using_Python/blob/master/Sets_%26_Dictionaries.ipynb\" target=\"_parent\"><img src=\"https://colab.research.google.com/assets/colab-badge.svg\" alt=\"Open In Colab\"/></a>"
      ]
    },
    {
      "cell_type": "markdown",
      "source": [
        "Sets and *Dictionaries*\n",
        "\n",
        "# In Python Dictionaries are unordered\n",
        "its a Key : Value Pair\n",
        "e.g. Country : Capital\n",
        "Dictionaries are implemented by {}\n"
      ],
      "metadata": {
        "id": "RWo6wuCeaHQp"
      }
    },
    {
      "cell_type": "code",
      "source": [
        "def nickname(name):\n",
        "  if name == \"Pankaj\":\n",
        "    return 'Panku'\n",
        "  elif name == \"Bandna\":\n",
        "    return 'Bandu'  \n",
        "\n",
        "  return nickname"
      ],
      "metadata": {
        "id": "wnRu66VBaJWY"
      },
      "execution_count": 3,
      "outputs": []
    },
    {
      "cell_type": "code",
      "source": [
        "nickname(\"Pankaj\")"
      ],
      "metadata": {
        "colab": {
          "base_uri": "https://localhost:8080/",
          "height": 35
        },
        "id": "BZQCsurNbt_Y",
        "outputId": "64bccbca-4c82-474d-a4c7-a8d8b79a5e38"
      },
      "execution_count": 4,
      "outputs": [
        {
          "output_type": "execute_result",
          "data": {
            "text/plain": [
              "'Panku'"
            ],
            "application/vnd.google.colaboratory.intrinsic+json": {
              "type": "string"
            }
          },
          "metadata": {},
          "execution_count": 4
        }
      ]
    },
    {
      "cell_type": "code",
      "source": [
        "#another approach can be using tuples inside list\n",
        "def nicknames (name):\n",
        "  names = [('')]"
      ],
      "metadata": {
        "id": "HACfS1IYfrPC"
      },
      "execution_count": null,
      "outputs": []
    },
    {
      "cell_type": "code",
      "source": [
        "# Let's understand Dictionary\n",
        "\n",
        "nick_name = {\n",
        "    'Pankaj': 'Panku',\n",
        "    'Bandna': 'Bandu',\n",
        "    'Pritish': 'Prashu',\n",
        "    'Shirish': 'Shishu'\n",
        "  \n",
        "}"
      ],
      "metadata": {
        "id": "EY12j3pAbScz"
      },
      "execution_count": 7,
      "outputs": []
    },
    {
      "cell_type": "code",
      "source": [
        "print(nick_name)"
      ],
      "metadata": {
        "colab": {
          "base_uri": "https://localhost:8080/"
        },
        "id": "aSzd4DKGhw2B",
        "outputId": "1dd38178-7d5c-4734-a7e1-b87198eee384"
      },
      "execution_count": 8,
      "outputs": [
        {
          "output_type": "stream",
          "name": "stdout",
          "text": [
            "{'Pankaj': 'Panku', 'Bandna': 'Bandu', 'Pritish': 'Prashu', 'Shirish': 'Shishu'}\n"
          ]
        }
      ]
    },
    {
      "cell_type": "code",
      "source": [
        "# Indexing : it does not work in dictionaries since it does not keep any order so it does not know which key value was entered at first.\n",
        "nick_names(0)"
      ],
      "metadata": {
        "colab": {
          "base_uri": "https://localhost:8080/",
          "height": 183
        },
        "id": "kkoDKwgGh_vH",
        "outputId": "fbed8075-9cda-429c-b0db-ec65aef1e26e"
      },
      "execution_count": 9,
      "outputs": [
        {
          "output_type": "error",
          "ename": "NameError",
          "evalue": "ignored",
          "traceback": [
            "\u001b[0;31m---------------------------------------------------------------------------\u001b[0m",
            "\u001b[0;31mNameError\u001b[0m                                 Traceback (most recent call last)",
            "\u001b[0;32m<ipython-input-9-b39ee79efedb>\u001b[0m in \u001b[0;36m<module>\u001b[0;34m()\u001b[0m\n\u001b[1;32m      1\u001b[0m \u001b[0;31m# Indexing : it does not work in dictionaries since it does not keep any order so it does not know which key value was entered at first.\u001b[0m\u001b[0;34m\u001b[0m\u001b[0;34m\u001b[0m\u001b[0;34m\u001b[0m\u001b[0m\n\u001b[0;32m----> 2\u001b[0;31m \u001b[0mnick_names\u001b[0m\u001b[0;34m(\u001b[0m\u001b[0;36m0\u001b[0m\u001b[0;34m)\u001b[0m\u001b[0;34m\u001b[0m\u001b[0;34m\u001b[0m\u001b[0m\n\u001b[0m",
            "\u001b[0;31mNameError\u001b[0m: name 'nick_names' is not defined"
          ]
        }
      ]
    },
    {
      "cell_type": "code",
      "source": [
        ""
      ],
      "metadata": {
        "id": "_11aHBO2iTEh"
      },
      "execution_count": null,
      "outputs": []
    }
  ]
}