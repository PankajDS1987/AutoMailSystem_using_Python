{
  "nbformat": 4,
  "nbformat_minor": 0,
  "metadata": {
    "colab": {
      "name": "Algorithm Sorting.ipynb",
      "provenance": [],
      "collapsed_sections": [],
      "authorship_tag": "ABX9TyPoFGAJLV1pVFOhl2Kq2QfD",
      "include_colab_link": true
    },
    "kernelspec": {
      "name": "python3",
      "display_name": "Python 3"
    },
    "language_info": {
      "name": "python"
    }
  },
  "cells": [
    {
      "cell_type": "markdown",
      "metadata": {
        "id": "view-in-github",
        "colab_type": "text"
      },
      "source": [
        "<a href=\"https://colab.research.google.com/github/PankajDS1987/AutoMailSystem_using_Python/blob/master/Algorithm_Sorting.ipynb\" target=\"_parent\"><img src=\"https://colab.research.google.com/assets/colab-badge.svg\" alt=\"Open In Colab\"/></a>"
      ]
    },
    {
      "cell_type": "markdown",
      "source": [
        "                                              **SORTING **\n",
        "Main 4 Types:\n",
        "\n",
        "BUBBLE\n",
        "\n",
        "SELECTION\n",
        "\n",
        "INSERTION\n",
        "\n",
        "MERGE\n",
        "\n",
        "\n",
        "Python does not use any of these sorts\n",
        "it uses combination of INSERTION and MERGE -which is called TimSort (named after the person who created it)\n",
        "\n"
      ],
      "metadata": {
        "id": "uMtIEsEJCrbz"
      }
    },
    {
      "cell_type": "code",
      "source": [
        ""
      ],
      "metadata": {
        "id": "UQ_LaGGHCvm-"
      },
      "execution_count": null,
      "outputs": []
    },
    {
      "cell_type": "markdown",
      "source": [
        "**BUBBLE SORT **\n",
        "**bold text**\n",
        "\n",
        "A = [7,6,6,3,4,7,7,5,3,5]\n",
        "we need to sort above list\n",
        "\n",
        "so we create 2 variables (i,j) - both initially point to first element\n",
        "A[i]\n",
        "A[j]\n",
        "\n",
        "so it will check \n",
        "    if A[j] < A[i]\n",
        "    (so its not true as element is same)\n",
        "\n",
        "    Instead of this we will do something else:\n",
        "    if A[j] > A[j+1]\n",
        "\n",
        "    which is greater (TRUE)\n",
        "    SWAP it\n",
        "\n",
        "    so we will just swap when the condition meets\n",
        "now the list is \n",
        "A = [6,7,6,3,4,7,7,5,3,5]\n",
        "    if A[j] > A[j+1]\n",
        "    SWAP it\n",
        "A = [6,6,7,3,4,7,7,5,3,5]\n",
        "  J keeps moving \n",
        "  it won't swap when not TRUE\n",
        "  but would keep on moving,\n",
        "  j goes till n-1\n",
        "\n",
        "\n",
        "in first iteration of bubble sort we get the max value to right (end ) of the list.\n",
        "\n",
        "\n",
        "\n",
        "\n",
        "\n",
        "\n",
        "\n",
        "\n",
        "\n",
        "\n",
        "\n",
        "\n",
        "\n",
        "\n",
        "\n"
      ],
      "metadata": {
        "id": "hXATMQw4C9hd"
      }
    },
    {
      "cell_type": "code",
      "source": [
        "def bubblesort(ls):\n",
        "  # for i in ls:\n",
        "  #   if ls[i]>ls[i+1]\n",
        "\n",
        "  for i in range(len(ls)):\n",
        "    for j in range(i,len(ls)-1):\n",
        "      if ls[j]>ls[j+1]:\n",
        "        ls[j], ls[j+1] = ls[j+1], ls[j]\n",
        "  return ls\n",
        "\n",
        "'''\n",
        "O(n^2)\n",
        "'''"
      ],
      "metadata": {
        "id": "Rh3LN7UQI5GS"
      },
      "execution_count": null,
      "outputs": []
    },
    {
      "cell_type": "code",
      "source": [
        "ls = [4,5,3,2,8,4,6,]\n",
        "x = bubblesort(ls)\n",
        "print(x)"
      ],
      "metadata": {
        "colab": {
          "base_uri": "https://localhost:8080/"
        },
        "id": "FNkBC1S9N1vy",
        "outputId": "5e24a736-9e96-4c54-96d2-ad3be67c57d7"
      },
      "execution_count": null,
      "outputs": [
        {
          "output_type": "stream",
          "name": "stdout",
          "text": [
            "[4, 2, 3, 4, 5, 6, 8]\n"
          ]
        }
      ]
    },
    {
      "cell_type": "code",
      "source": [
        ""
      ],
      "metadata": {
        "id": "mweg40-mOUv7"
      },
      "execution_count": null,
      "outputs": []
    },
    {
      "cell_type": "markdown",
      "source": [
        "# Its Incorrect Slightly\n",
        "# Its not the optimal bubble sort\n",
        "\n",
        "And also we don't need to run j loop at same frequency \n",
        "it needs to be reduced one index from right after every loop.\n",
        "\n",
        "---> (n-1) + (n-2) + (n-3)........list\n",
        "  (this is Arithmetic Progression)\n",
        "\n",
        "  Sum of this series comes down to n(n-1)/2 = n^2-n / 2\n",
        "  so, cost is = O(n2)\n",
        "  so BUBBLE sort is big O of n2 (n square)\n",
        "\n"
      ],
      "metadata": {
        "id": "8sQwDftmQj7P"
      }
    },
    {
      "cell_type": "code",
      "source": [
        "def bubblesort(ls):\n",
        "  # for i in ls:\n",
        "  #   if ls[i]>ls[i+1]\n",
        "\n",
        "  for i in range(len(ls)):\n",
        "    for j in range(len(ls)-1):\n",
        "      if ls[j]>ls[j+1]:\n",
        "        ls[j], ls[j+1] = ls[j+1], ls[j]\n",
        "  return ls\n",
        "\n",
        "'''\n",
        "O(n^2)\n",
        "'''"
      ],
      "metadata": {
        "colab": {
          "base_uri": "https://localhost:8080/",
          "height": 35
        },
        "id": "nFr25TyZQF2w",
        "outputId": "f25c36a8-b2fe-4247-9347-390c8b1debce"
      },
      "execution_count": null,
      "outputs": [
        {
          "output_type": "execute_result",
          "data": {
            "text/plain": [
              "'\\nO(n^2)\\n'"
            ],
            "application/vnd.google.colaboratory.intrinsic+json": {
              "type": "string"
            }
          },
          "metadata": {},
          "execution_count": 3
        }
      ]
    },
    {
      "cell_type": "markdown",
      "source": [
        ""
      ],
      "metadata": {
        "id": "5RmvGhSWO60B"
      }
    },
    {
      "cell_type": "markdown",
      "source": [
        "CLASS 2 -on - SORTING TIME COMPLEXITY - 2\n",
        "\n",
        "1. Bubble Sort (Correct one)\n",
        "2. Selection Sort\n",
        "3. Insertion Sort\n",
        "4. INtro to Merge Sort (with Recursion)"
      ],
      "metadata": {
        "id": "2bZlXDEYvZ1K"
      }
    },
    {
      "cell_type": "code",
      "source": [
        "def bubblesort(ls):\n",
        "  # for i in ls:\n",
        "  \n",
        "  #   if ls[i]>ls[i+1]\n",
        "\n",
        "  cnt = 0\n",
        "  for i in range(len(ls)):\n",
        "    for j in range(0,len(ls)-i-1): # we are changing the index to start from 0, and reducing it by i elements since that many items have already been tested \n",
        "      cnt += 1                              #and made to reach the end of the list. so we need to review less items after every iteration from right.\n",
        "      if ls[j]>ls[j+1]:\n",
        "        ls[j], ls[j+1] = ls[j+1], ls[j]\n",
        "  return ls, cnt\n",
        "\n",
        "'''\n",
        "O(n^2)\n",
        "'''"
      ],
      "metadata": {
        "colab": {
          "base_uri": "https://localhost:8080/",
          "height": 35
        },
        "id": "jeaK1zCIv1a_",
        "outputId": "833f30ce-b90f-4257-a311-4a0896e89a96"
      },
      "execution_count": null,
      "outputs": [
        {
          "output_type": "execute_result",
          "data": {
            "text/plain": [
              "'\\nO(n^2)\\n'"
            ],
            "application/vnd.google.colaboratory.intrinsic+json": {
              "type": "string"
            }
          },
          "metadata": {},
          "execution_count": 12
        }
      ]
    },
    {
      "cell_type": "code",
      "source": [
        "# bubble_ Sort_ Optimized\n",
        "#\n",
        "def bubble_Sort_Optimized(ls):\n",
        "  counter = 0\n",
        "  for i in range (len(ls)-1):\n",
        "    is_sorted = True\n",
        "\n",
        "    for j in range(0,len(ls)-i-1):\n",
        "      counter += 1\n",
        "      if ls[j] > ls[j+1]:\n",
        "        ls[j],ls[j+1] = ls[j+1],ls[j]\n",
        "        is_sorted = False\n",
        "    \n",
        "    #if is_sorted = True or this can also be written as below\n",
        "    if is_sorted:\n",
        "      break\n",
        "  return ls, counter\n"
      ],
      "metadata": {
        "id": "GQ-IFzcpDmme"
      },
      "execution_count": null,
      "outputs": []
    },
    {
      "cell_type": "code",
      "source": [
        "ls = [1,2,3,4,5]\n",
        "x = bubble_Sort_Optimized(ls)\n",
        "print(x)"
      ],
      "metadata": {
        "colab": {
          "base_uri": "https://localhost:8080/"
        },
        "id": "H8PCCdEVR1Oe",
        "outputId": "de4d5ee6-fbac-489b-8acc-bf1c55820c02"
      },
      "execution_count": null,
      "outputs": [
        {
          "output_type": "stream",
          "name": "stdout",
          "text": [
            "([1, 2, 3, 4, 5], 4)\n"
          ]
        }
      ]
    },
    {
      "cell_type": "code",
      "source": [
        "ls = [1,2,3,4,5]\n",
        "x = bubblesort(ls)\n",
        "print(x)"
      ],
      "metadata": {
        "colab": {
          "base_uri": "https://localhost:8080/"
        },
        "id": "wRSXM7_4R8QZ",
        "outputId": "c8b3df92-676b-41c0-cb90-d322691d16b1"
      },
      "execution_count": null,
      "outputs": [
        {
          "output_type": "stream",
          "name": "stdout",
          "text": [
            "([1, 2, 3, 4, 5], 10)\n"
          ]
        }
      ]
    },
    {
      "cell_type": "code",
      "source": [
        "lst1= ['bhupen', 'rt', \"python\"]\n",
        "lx = ' '.join(lst1)\n",
        "print(type(lx))\n",
        "print(lx)"
      ],
      "metadata": {
        "colab": {
          "base_uri": "https://localhost:8080/"
        },
        "id": "MK25iCNsdPgw",
        "outputId": "9b311501-1d44-493a-a8ae-c39a9c3003e2"
      },
      "execution_count": null,
      "outputs": [
        {
          "output_type": "stream",
          "name": "stdout",
          "text": [
            "<class 'str'>\n",
            "bhupen rt python\n"
          ]
        }
      ]
    },
    {
      "cell_type": "markdown",
      "source": [
        ""
      ],
      "metadata": {
        "id": "klt1GjZWLb2x"
      }
    },
    {
      "cell_type": "code",
      "source": [
        "ls = [1,23,44,4,59,65,76]\n",
        "x = bubble_Sort_Optimized(ls)\n",
        "print(x)"
      ],
      "metadata": {
        "colab": {
          "base_uri": "https://localhost:8080/"
        },
        "id": "Q2Qc4oBMKGfI",
        "outputId": "bf5ec85a-716d-4a3a-b8a5-0ef719f01d38"
      },
      "execution_count": null,
      "outputs": [
        {
          "output_type": "stream",
          "name": "stdout",
          "text": [
            "([1, 23, 44, 54, 59, 65, 76], 6)\n"
          ]
        }
      ]
    },
    {
      "cell_type": "code",
      "source": [
        "ls = [1,233,44,4,59,05,76]\n",
        "x = bubble_Sort_Optimized(ls)\n",
        "print(x)"
      ],
      "metadata": {
        "colab": {
          "base_uri": "https://localhost:8080/",
          "height": 130
        },
        "id": "jeVRo60gKiwD",
        "outputId": "d9535681-0137-456c-953c-dfe0f8c84def"
      },
      "execution_count": null,
      "outputs": [
        {
          "output_type": "error",
          "ename": "SyntaxError",
          "evalue": "ignored",
          "traceback": [
            "\u001b[0;36m  File \u001b[0;32m\"<ipython-input-8-afebb9dd5afb>\"\u001b[0;36m, line \u001b[0;32m1\u001b[0m\n\u001b[0;31m    ls = [1,233,44,4,59,05,76]\u001b[0m\n\u001b[0m                         ^\u001b[0m\n\u001b[0;31mSyntaxError\u001b[0m\u001b[0;31m:\u001b[0m invalid token\n"
          ]
        }
      ]
    },
    {
      "cell_type": "code",
      "source": [
        "ls = [1,233,44,4,59,5,76]\n",
        "x = bubble_Sort_Optimized(ls)\n",
        "print(x)"
      ],
      "metadata": {
        "colab": {
          "base_uri": "https://localhost:8080/"
        },
        "id": "acXn64QhKxd4",
        "outputId": "5cd64677-bd4a-4ced-c2d4-57024b913215"
      },
      "execution_count": null,
      "outputs": [
        {
          "output_type": "stream",
          "name": "stdout",
          "text": [
            "([1, 4, 5, 44, 59, 76, 233], 18)\n"
          ]
        }
      ]
    },
    {
      "cell_type": "markdown",
      "source": [
        "So Let's understand the purpose of OPTIMIZED BUBBLE SORT ALGORITHM\n",
        "How it is different from earlier algorithm and what is the anatomy of it.\n",
        "\n",
        "1. We are applying a check to perform on each iteration - it would check if the list is already sorted.\n",
        "\n",
        "Bubble sort has Omega n) -- already sorted list\n",
        "\n",
        "Omega (Best case time complexity) -- already sorted list\n",
        "Omega (n)\n",
        "\n",
        "there would be one operation atleast - changing the FLAG\n",
        "\n"
      ],
      "metadata": {
        "id": "keEqqnhELcrN"
      }
    },
    {
      "cell_type": "markdown",
      "source": [
        "*** 2. SELECTION SORT text ***\n",
        "\n",
        "ls = [4,5,2,5,7,9,3]\n",
        "\n",
        "We have 2 counters (variables)\n",
        "\n",
        "1. Current Element (e)\n",
        "2. Current Minimum (m) \n",
        "\n",
        "we pick an element and consider it as current minimum, \n",
        "we traverse through the list one by one till end to check for minimum element\n",
        "then we perform the swap at the end of the each iteration.\n",
        "\n",
        "#O (n^2)\n",
        "#Omega (n^2)\n",
        "\n",
        "\n",
        "Logic of Selection sort helps build the INSERTION SORT\n",
        "\n",
        "\n"
      ],
      "metadata": {
        "id": "HFO9XKpeNgUJ"
      }
    },
    {
      "cell_type": "code",
      "source": [
        "ls = [4,5,2,5,7,9,3]\n",
        "e = ls[0]\n",
        "m = ls[0]\n",
        "#we traverse  the remaining list one by one.\n",
        "\n",
        "for i in range(len(ls)):\n",
        "  m = i\n",
        "  for j in range(i,len(ls)):\n",
        "    if ls[j]<ls[m]:\n",
        "      m=j\n",
        "  ls[i],ls[m]=ls[m],ls[i]\n",
        "\n",
        "print(ls)    \n",
        "\n",
        "\n"
      ],
      "metadata": {
        "colab": {
          "base_uri": "https://localhost:8080/"
        },
        "id": "VCWIuHZlOZWK",
        "outputId": "a913627a-64cf-4622-c2d5-cf264af1af93"
      },
      "execution_count": null,
      "outputs": [
        {
          "output_type": "stream",
          "name": "stdout",
          "text": [
            "[2, 3, 4, 5, 5, 7, 9]\n"
          ]
        }
      ]
    },
    {
      "cell_type": "code",
      "source": [
        "def sort(ls):\n",
        "  cnt = 0\n",
        "  for i in range(len(ls)):\n",
        "    print(ls)\n",
        "    m = i\n",
        "    for j in range(i+1,len(ls)):\n",
        "      if ls[j]<ls[m]:\n",
        "       m=j\n",
        "    if m != i:  #optimized\n",
        "      ls[i],ls[m]=ls[m],ls[i]\n",
        "    cnt += 1\n",
        "  return ls,cnt"
      ],
      "metadata": {
        "id": "ISXP7DyH_sdk"
      },
      "execution_count": null,
      "outputs": []
    },
    {
      "cell_type": "code",
      "source": [
        "def sort(ls):\n",
        "  cnt=0\n",
        "  for i in range(len(ls)):\n",
        "    print(ls)\n",
        "    m = i\n",
        "    for j in range(i+1,len(ls)):\n",
        "      if ls[j]<ls[m]:\n",
        "       m=j\n",
        "    if m != i:  #optimized\n",
        "      ls[i],ls[m]=ls[m],ls[i]\n",
        "      cnt+=1\n",
        "  return ls,cnt"
      ],
      "metadata": {
        "id": "iUfygK7d7dkp"
      },
      "execution_count": null,
      "outputs": []
    },
    {
      "cell_type": "code",
      "source": [
        "ls = [56,23,7,36,4,68,49,9,57,66,57,43,5,44,34,45,83,77,1]\n",
        "x = sort(ls)\n",
        "print(x)"
      ],
      "metadata": {
        "colab": {
          "base_uri": "https://localhost:8080/"
        },
        "id": "0Qnugd3X-Bar",
        "outputId": "9d1c2660-06d3-4e94-bc3d-e7a1852eebaa"
      },
      "execution_count": null,
      "outputs": [
        {
          "output_type": "stream",
          "name": "stdout",
          "text": [
            "[56, 23, 7, 36, 4, 68, 49, 9, 57, 66, 57, 43, 5, 44, 34, 45, 83, 77, 1]\n",
            "[1, 23, 7, 36, 4, 68, 49, 9, 57, 66, 57, 43, 5, 44, 34, 45, 83, 77, 56]\n",
            "[1, 4, 7, 36, 23, 68, 49, 9, 57, 66, 57, 43, 5, 44, 34, 45, 83, 77, 56]\n",
            "[1, 4, 5, 36, 23, 68, 49, 9, 57, 66, 57, 43, 7, 44, 34, 45, 83, 77, 56]\n",
            "[1, 4, 5, 7, 23, 68, 49, 9, 57, 66, 57, 43, 36, 44, 34, 45, 83, 77, 56]\n",
            "[1, 4, 5, 7, 9, 68, 49, 23, 57, 66, 57, 43, 36, 44, 34, 45, 83, 77, 56]\n",
            "[1, 4, 5, 7, 9, 23, 49, 68, 57, 66, 57, 43, 36, 44, 34, 45, 83, 77, 56]\n",
            "[1, 4, 5, 7, 9, 23, 34, 68, 57, 66, 57, 43, 36, 44, 49, 45, 83, 77, 56]\n",
            "[1, 4, 5, 7, 9, 23, 34, 36, 57, 66, 57, 43, 68, 44, 49, 45, 83, 77, 56]\n",
            "[1, 4, 5, 7, 9, 23, 34, 36, 43, 66, 57, 57, 68, 44, 49, 45, 83, 77, 56]\n",
            "[1, 4, 5, 7, 9, 23, 34, 36, 43, 44, 57, 57, 68, 66, 49, 45, 83, 77, 56]\n",
            "[1, 4, 5, 7, 9, 23, 34, 36, 43, 44, 45, 57, 68, 66, 49, 57, 83, 77, 56]\n",
            "[1, 4, 5, 7, 9, 23, 34, 36, 43, 44, 45, 49, 68, 66, 57, 57, 83, 77, 56]\n",
            "[1, 4, 5, 7, 9, 23, 34, 36, 43, 44, 45, 49, 56, 66, 57, 57, 83, 77, 68]\n",
            "[1, 4, 5, 7, 9, 23, 34, 36, 43, 44, 45, 49, 56, 57, 66, 57, 83, 77, 68]\n",
            "[1, 4, 5, 7, 9, 23, 34, 36, 43, 44, 45, 49, 56, 57, 57, 66, 83, 77, 68]\n",
            "[1, 4, 5, 7, 9, 23, 34, 36, 43, 44, 45, 49, 56, 57, 57, 66, 83, 77, 68]\n",
            "[1, 4, 5, 7, 9, 23, 34, 36, 43, 44, 45, 49, 56, 57, 57, 66, 68, 77, 83]\n",
            "[1, 4, 5, 7, 9, 23, 34, 36, 43, 44, 45, 49, 56, 57, 57, 66, 68, 77, 83]\n",
            "([1, 4, 5, 7, 9, 23, 34, 36, 43, 44, 45, 49, 56, 57, 57, 66, 68, 77, 83], 16)\n"
          ]
        }
      ]
    },
    {
      "cell_type": "code",
      "source": [
        "#O (n^2)\n",
        "#Omega (n^2)"
      ],
      "metadata": {
        "id": "Zf_aXZyCArG_"
      },
      "execution_count": null,
      "outputs": []
    },
    {
      "cell_type": "markdown",
      "source": [
        "INSERTION SORT \n",
        "\n",
        "We pick first element and treat it as sorted\n",
        "we divide the list into 2 parts\n",
        "\n",
        "sorted           and         unsorted\n",
        "first element                 rest of the list\n",
        "\n",
        "we traverse to the second element\n",
        "and we draw comparison between two elements and check if second element is less than first. \n",
        "If it is:\n",
        " then we move it to its correct position.\n",
        "else:\n",
        "  we move it to sorted list side (remb. list is split) # we \n",
        "\n",
        "\n",
        "in a list 4 5 1 3 2\n",
        "\n",
        "| 4 | 5 1 3 2 |\n",
        "\n",
        "list divided in 2 parts \n",
        "one element and remaining element\n",
        "(a list with a single element is already a sorted list)\n",
        "\n",
        "we then pick 5 from unsorted side and put it at correct position in sorted list.\n",
        "5 is not less than 4 \n",
        "\n",
        "4 5 | 1  3 2\n",
        "\n",
        "so now 1 -- first comparison with number 5 -- since 1 is less than 5\n",
        "\n",
        "4 1 5 | 3 2\n",
        "\n",
        "then again we check by comparing with every element other side of the boundary as long as condition keeps on meeting that is to shift the element if its less than peer\n",
        "\n",
        "\n",
        "1 4 5 | 3 2\n",
        "\n",
        "\n",
        "so now we pick 3  -- first comparison with number 5 -- since 1 is less than 5\n",
        "\n",
        "1 4 3 5 |  2\n",
        "\n",
        "1 3 4 5 | 2\n",
        "\n",
        "last comparison with one is FALSE - it stops\n",
        "\n",
        "1 3 4 2 5 \n",
        "1 3 2 4 5\n",
        "1 2 3 4 5\n",
        "\n",
        "so in Insertion sort we pick an element and insert it in at correct position in the sorted list. \n",
        "We are swapping everytime where the need is for swapping.\n",
        "\n",
        "\n",
        "INSERTION SORT TIME COMPLEXITY  -- very popular\n",
        "\n",
        "let's think if LIST is sorted. \n",
        "Omega O(n) - since it just has to go through list once \n",
        "it would check the element with first element in the sorted list.\n",
        "\n",
        "worst case = O(n^2)\n",
        "\n",
        "\n",
        "\n",
        "\n",
        "\n"
      ],
      "metadata": {
        "id": "69H9wcbyBMUW"
      }
    },
    {
      "cell_type": "markdown",
      "source": [
        ""
      ],
      "metadata": {
        "id": "xUHXXiso2RlW"
      }
    },
    {
      "cell_type": "code",
      "source": [
        "def Insertion_Sort(ls):\n",
        "  for i in range(1, len(ls)):\n",
        "    starting_index = i\n",
        "    j = i-1\n",
        "\n",
        "    print(ls[:starting_index], \"|\" , ls[starting_index:])\n",
        "    print(\"-\"*50)\n",
        "\n",
        "    while j >= 0:\n",
        "      if ls[j] < ls[starting_index]:\n",
        "\n",
        "        break\n",
        "      else:\n",
        "        ls[j], ls[starting_index] = ls[starting_index], ls[j]\n",
        "        starting_index = j\n",
        "        j -= 1\n",
        "\n",
        "  return ls\n"
      ],
      "metadata": {
        "id": "eNiFKTtQ2SSb"
      },
      "execution_count": 15,
      "outputs": []
    },
    {
      "cell_type": "code",
      "source": [
        "ls = ['2','5','3','6','1']\n",
        "x = Insertion_Sort(ls)\n",
        "print(x)"
      ],
      "metadata": {
        "colab": {
          "base_uri": "https://localhost:8080/"
        },
        "id": "IQ2C-n9N9nlQ",
        "outputId": "8c59cd87-83fb-4017-b35a-9d94248fe4e5"
      },
      "execution_count": 16,
      "outputs": [
        {
          "output_type": "stream",
          "name": "stdout",
          "text": [
            "['2'] | ['5', '3', '6', '1']\n",
            "--------------------------------------------------\n",
            "['2', '5'] | ['3', '6', '1']\n",
            "--------------------------------------------------\n",
            "['2', '3', '5'] | ['6', '1']\n",
            "--------------------------------------------------\n",
            "['2', '3', '5', '6'] | ['1']\n",
            "--------------------------------------------------\n",
            "['1', '2', '3', '5', '6']\n"
          ]
        }
      ]
    },
    {
      "cell_type": "markdown",
      "source": [
        "MERGE LOST\n",
        "\n",
        "O (n log n) \n",
        "O (nlogn)\n",
        "\n",
        "Merge sort is popular is the realm of DIVIDE & CONCUR  (Divide the problem and solve) again divide the problem in half\n",
        "\n",
        "Here we break the list apart in 2 halves\n",
        "\n",
        "\n",
        "                4 1 5 3 2 \n",
        "\n",
        "4 1 5               |             3 2 \n",
        "\n",
        "4 1  |   5        |            3   | 2 \n",
        "\n",
        "\n",
        "4 | 1   |   5      |            3   | 2 \n",
        "\n",
        "\n",
        "so 4 1 (variable (a,b) -- we will compare these 2 and build a list out it\n",
        "4 (a) , 1 (b)\n",
        "1,4 -- will be built\n",
        "\n",
        "then -- merge with 5 -- \n",
        "1,4 (a) --- 5 (b)\n",
        "\n",
        "4 is less than 5\n",
        "\n",
        "1,4,5 (output)\n",
        "\n",
        "we will now go to \n",
        "\n",
        "1,4,5(a)   3 2 (b)\n",
        "\n",
        "first we will merge 3 and 2\n",
        "3, 2 will change into 2,3\n",
        "\n",
        "so now 1,4,5(a)   2 3 (b)\n",
        "\n",
        "so now 1 and 3 (first element from both sides will be compared)\n",
        "\n",
        "1 already less than 2  (from list a -- 1 will be taken  out ) - new list with 1\n",
        "\n",
        "then 2 will be compared with 4 out of remaining (4,5)\n",
        "\n",
        "from list b - 2 will be out \n",
        "\n",
        "new list is merged as 1 and 2 \n",
        "\n",
        "now 3 from side (b) is compared with 4 \n",
        "3 is less \n",
        "\n",
        "new list (1,2,3) -- \n",
        "now from left side 4,5 \n",
        "will be moved as it is sorted already and it will be moved in new merge list\n",
        "\n",
        "1,2,3,4,5\n",
        "\n",
        "\n",
        "WE STEP by STEP BREAK the LIST APART and MERGE the LIST STEP by STEP\n",
        "\n",
        "we need to put it back together STEP by STEP\n",
        "\n",
        "At every step - we are halving the LIST\n",
        "\n",
        "by halving -- We are reducing by a POWER of 2 \n",
        "We are decreasing the power of 2 in each step until we reach individual elements or we can stop at 2 elements as we can compare and swap those \n",
        "and also save a step for our algo. (Algorithm Optimization)\n",
        "\n",
        "\n",
        "--\n",
        "So we already get (n) -- so we have to know how much to raise 2 to make it n\n",
        "\n",
        "So we need to know by how much we have to raise the 2 to make it equal to n\n",
        "\n",
        "the number of steps are log n to the base of 2 = no. of steps\n",
        "\n",
        "log n is the number of steps\n",
        "\n",
        "\n",
        "we traversed the actual list log n number of itme\n",
        "\n",
        "\n",
        "Traversing a list of n elements take when we go through each element\n",
        "O(n)\n",
        "n = number of iterations\n",
        "\n",
        "\n",
        "Traversing a list log n times will take = n log n times\n",
        "\n",
        "log n == is the number of times\n",
        "\n",
        "\n",
        "\n",
        "this is crux of log n complexity.\n",
        "TIme complexity for Binary search is also log n\n",
        "every algorithm where you have to divide the element in half (divide & concur)\n",
        "would be = log n\n",
        "\n",
        "\n",
        "SO NOW When We have to divide a list by 3 parts instead of 2 parts\n",
        "then = log n to the base of 3\n",
        "\n",
        "\n",
        "\n",
        "\n",
        "\n",
        "\n"
      ],
      "metadata": {
        "id": "sWwT7HSLD5sq"
      }
    },
    {
      "cell_type": "markdown",
      "source": [
        "TIME COMPLEXITY\n",
        "\n",
        "log b to the base of a = x\n",
        "\n",
        "log a(b) = x\n",
        "\n",
        "it means a to the power x = b\n",
        "a^x =b\n",
        "\n",
        "its another way of writing an EQUATION\n",
        "this is INVERSE of EXPONENTIATION in mathematics\n",
        "\n"
      ],
      "metadata": {
        "id": "P39J8R0QwjdA"
      }
    },
    {
      "cell_type": "code",
      "source": [
        ""
      ],
      "metadata": {
        "id": "eLxjsqfUIjq0"
      },
      "execution_count": null,
      "outputs": []
    },
    {
      "cell_type": "markdown",
      "source": [
        "Next question is finding the RUNNER UP"
      ],
      "metadata": {
        "id": "BpfQBYDLIke1"
      }
    },
    {
      "cell_type": "code",
      "source": [
        "record=[['Harry', 37.21], ['Berry', 37.21], ['Tina', 37.2], ['Akriti', 41], ['Harsh', 39]]\n",
        "\n",
        "low = []\n",
        "second low = []\n"
      ],
      "metadata": {
        "id": "liWQspgMwkcJ"
      },
      "execution_count": null,
      "outputs": []
    },
    {
      "cell_type": "markdown",
      "source": [
        ""
      ],
      "metadata": {
        "id": "y_6A0K5ctEwb"
      }
    },
    {
      "cell_type": "code",
      "source": [
        "# arr = map(int, input().split()) 2 3 6 6 5\n",
        "\n",
        "arr = ['2', '3', '6', '6' ,'5']\n",
        "mx = arr[0]\n",
        "res = arr[0]\n",
        "el =[]\n",
        "\n",
        "for i in range(1,len(arr)):\n",
        "  if arr[i] > mx:\n",
        "    mx = arr[i]\n",
        "  if arr[i] < mx and arr[i] > res:\n",
        "    el.append(arr[i])\n",
        "els = \" \".join(el)\n",
        "\n",
        "print(res)\n",
        "print(els)"
      ],
      "metadata": {
        "colab": {
          "base_uri": "https://localhost:8080/"
        },
        "id": "TY6gawbQtFQH",
        "outputId": "84a673d3-1fbd-41e6-840b-92cdae5caae1"
      },
      "execution_count": 6,
      "outputs": [
        {
          "output_type": "stream",
          "name": "stdout",
          "text": [
            "2\n",
            "5\n"
          ]
        }
      ]
    }
  ]
}