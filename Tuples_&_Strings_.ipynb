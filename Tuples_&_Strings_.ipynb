{
  "nbformat": 4,
  "nbformat_minor": 0,
  "metadata": {
    "colab": {
      "name": "Tuples & Strings .ipynb",
      "provenance": [],
      "collapsed_sections": [],
      "authorship_tag": "ABX9TyMTWSTfxgYzg9HfB4wM1wiA",
      "include_colab_link": true
    },
    "kernelspec": {
      "name": "python3",
      "display_name": "Python 3"
    },
    "language_info": {
      "name": "python"
    }
  },
  "cells": [
    {
      "cell_type": "markdown",
      "metadata": {
        "id": "view-in-github",
        "colab_type": "text"
      },
      "source": [
        "<a href=\"https://colab.research.google.com/github/PankajDS1987/AutoMailSystem_using_Python/blob/master/Tuples_%26_Strings_.ipynb\" target=\"_parent\"><img src=\"https://colab.research.google.com/assets/colab-badge.svg\" alt=\"Open In Colab\"/></a>"
      ]
    },
    {
      "cell_type": "code",
      "execution_count": null,
      "metadata": {
        "id": "jdQJSjnUFXAS"
      },
      "outputs": [],
      "source": [
        "# LISTS are mutable - you can change (modify/remove) data within list\n",
        "#TUPLES are immutable data types - these are generally used where we don't have to change the data e.g. defining a week or year or planets or some record that you would not want to be changed. \n"
      ]
    },
    {
      "cell_type": "code",
      "source": [
        "t = (\"Rahul\", \"Pankaj\")\n",
        "print(type(t))\n",
        "\n",
        "et=(\"Rahul\")\n",
        "print(type(et))\n",
        "\n",
        "tup=(11)\n",
        "print(type(tup))\n",
        "\n",
        "tuple1=()\n",
        "print(type(tuple1))\n",
        "\n",
        "tuple2=(\"Pankaj\",)\n",
        "print(type(tuple2))\n",
        "\n",
        "tuple3 = (11,)\n",
        "print(type(tuple3))\n",
        "\n",
        "#by using comma we tell it that there can be another value coming in future though we are assigning single value at this time. It will consider it as tuple then."
      ],
      "metadata": {
        "colab": {
          "base_uri": "https://localhost:8080/"
        },
        "id": "qpwLQrabIz5U",
        "outputId": "8d071e45-3a22-44b8-da3d-e83431a7511c"
      },
      "execution_count": 6,
      "outputs": [
        {
          "output_type": "stream",
          "name": "stdout",
          "text": [
            "<class 'tuple'>\n",
            "<class 'str'>\n",
            "<class 'int'>\n",
            "<class 'tuple'>\n",
            "<class 'tuple'>\n",
            "<class 'tuple'>\n"
          ]
        }
      ]
    },
    {
      "cell_type": "code",
      "source": [
        "t= (11,21,32)\n",
        "l=list(t)\n",
        "lt=tuple(l)\n",
        "\n",
        "print(type(t))\n",
        "print(type(l))\n",
        "print(type(lt))"
      ],
      "metadata": {
        "colab": {
          "base_uri": "https://localhost:8080/"
        },
        "id": "vepvNTuWJUMK",
        "outputId": "1c232c7f-7c05-4ab6-a1ef-2b9a2c9543eb"
      },
      "execution_count": 9,
      "outputs": [
        {
          "output_type": "stream",
          "name": "stdout",
          "text": [
            "<class 'tuple'>\n",
            "<class 'list'>\n",
            "<class 'tuple'>\n"
          ]
        }
      ]
    },
    {
      "cell_type": "code",
      "source": [
        "for i in lt:\n",
        "  print(i,end=' ')"
      ],
      "metadata": {
        "colab": {
          "base_uri": "https://localhost:8080/"
        },
        "id": "kxouKVfOLRzb",
        "outputId": "e24b8d34-3d6d-4388-bb42-d395c9b6d7f3"
      },
      "execution_count": 11,
      "outputs": [
        {
          "output_type": "stream",
          "name": "stdout",
          "text": [
            "11 21 32 "
          ]
        }
      ]
    },
    {
      "cell_type": "code",
      "source": [
        "print(len(lt))"
      ],
      "metadata": {
        "colab": {
          "base_uri": "https://localhost:8080/"
        },
        "id": "CFrLEvY6WikU",
        "outputId": "13472135-c04e-4b29-b044-337780d0b022"
      },
      "execution_count": 26,
      "outputs": [
        {
          "output_type": "stream",
          "name": "stdout",
          "text": [
            "3\n"
          ]
        }
      ]
    },
    {
      "cell_type": "markdown",
      "source": [
        "**STRINGS** - its a sequence of characters\n",
        "characters can be alphabets, numbers, special characters, spaces.\n",
        "You need to assign a string inside 'string' OR \"string\" OR \"'string\"' OR \"\"\"string\"\"\" \n",
        "ASCII :: American Standard Code for Information Exchange\n",
        "Since computers understand only binary numbers so question arises how do they know or remember the characters.\n",
        "so there is a standard maintained to bring everyone to a common understanding and values gets \n",
        "\n",
        "e.g.\n",
        "input: ord('Y'), ord('y') \n",
        "output: (89, 121)"
      ],
      "metadata": {
        "id": "6zzCn47BLjS7"
      }
    },
    {
      "cell_type": "code",
      "source": [
        "ord('a')"
      ],
      "metadata": {
        "colab": {
          "base_uri": "https://localhost:8080/"
        },
        "id": "ytphp-q7QP5o",
        "outputId": "a9d19219-ee6d-4e8c-83fd-20a41601c2b4"
      },
      "execution_count": 16,
      "outputs": [
        {
          "output_type": "execute_result",
          "data": {
            "text/plain": [
              "97"
            ]
          },
          "metadata": {},
          "execution_count": 16
        }
      ]
    },
    {
      "cell_type": "code",
      "source": [
        "\"a\"==int(97)"
      ],
      "metadata": {
        "colab": {
          "base_uri": "https://localhost:8080/"
        },
        "id": "bnMU587rQZC3",
        "outputId": "6ea0ce64-5613-48ad-b86b-f877236e8bfb"
      },
      "execution_count": 18,
      "outputs": [
        {
          "output_type": "execute_result",
          "data": {
            "text/plain": [
              "False"
            ]
          },
          "metadata": {},
          "execution_count": 18
        }
      ]
    },
    {
      "cell_type": "code",
      "source": [
        "ord('97')\n"
      ],
      "metadata": {
        "colab": {
          "base_uri": "https://localhost:8080/",
          "height": 165
        },
        "id": "q2WS49OSQwCG",
        "outputId": "28f02b6a-680c-4784-ecb9-49641a4d8e4b"
      },
      "execution_count": 20,
      "outputs": [
        {
          "output_type": "error",
          "ename": "TypeError",
          "evalue": "ignored",
          "traceback": [
            "\u001b[0;31m---------------------------------------------------------------------------\u001b[0m",
            "\u001b[0;31mTypeError\u001b[0m                                 Traceback (most recent call last)",
            "\u001b[0;32m<ipython-input-20-2bb07e009c25>\u001b[0m in \u001b[0;36m<module>\u001b[0;34m()\u001b[0m\n\u001b[0;32m----> 1\u001b[0;31m \u001b[0mord\u001b[0m\u001b[0;34m(\u001b[0m\u001b[0;34m'97'\u001b[0m\u001b[0;34m)\u001b[0m\u001b[0;34m\u001b[0m\u001b[0;34m\u001b[0m\u001b[0m\n\u001b[0m",
            "\u001b[0;31mTypeError\u001b[0m: ord() expected a character, but string of length 2 found"
          ]
        }
      ]
    },
    {
      "cell_type": "code",
      "source": [
        "ord('Y'), ord('y')"
      ],
      "metadata": {
        "colab": {
          "base_uri": "https://localhost:8080/"
        },
        "id": "iJd-fyBKLmr7",
        "outputId": "5a1ea3aa-b7c8-41ad-bbe7-89425eb81bc0"
      },
      "execution_count": 14,
      "outputs": [
        {
          "output_type": "execute_result",
          "data": {
            "text/plain": [
              "(89, 121)"
            ]
          },
          "metadata": {},
          "execution_count": 14
        }
      ]
    },
    {
      "cell_type": "code",
      "source": [
        "chr(97)\n",
        "chr(9)"
      ],
      "metadata": {
        "colab": {
          "base_uri": "https://localhost:8080/",
          "height": 35
        },
        "id": "WQSX7Nw3RQZ3",
        "outputId": "4cfec9f7-820a-40ac-8fdb-9f05cacd6278"
      },
      "execution_count": 25,
      "outputs": [
        {
          "output_type": "execute_result",
          "data": {
            "text/plain": [
              "'\\t'"
            ],
            "application/vnd.google.colaboratory.intrinsic+json": {
              "type": "string"
            }
          },
          "metadata": {},
          "execution_count": 25
        }
      ]
    },
    {
      "cell_type": "markdown",
      "source": [
        "# Capitalize would set first letter of first world to capital\n",
        "# Title would set every word's first letter to Capital"
      ],
      "metadata": {
        "id": "WrCT57cKXu1Q"
      }
    },
    {
      "cell_type": "code",
      "source": [
        "txt = \"text typed is in small characters.\"\n",
        "print(txt)\n",
        "txt1 = txt.capitalize\n",
        "print(txt1)\n",
        "print(txt.capitalize())\n",
        "print(txt.title())"
      ],
      "metadata": {
        "colab": {
          "base_uri": "https://localhost:8080/"
        },
        "id": "WvdYy4K7VhKI",
        "outputId": "71606aba-cce5-42c3-cc0a-32948053058f"
      },
      "execution_count": 31,
      "outputs": [
        {
          "output_type": "stream",
          "name": "stdout",
          "text": [
            "text typed is in small characters.\n",
            "<built-in method capitalize of str object at 0x7efefbcd4630>\n",
            "Text typed is in small characters.\n",
            "Text Typed Is In Small Characters.\n"
          ]
        }
      ]
    },
    {
      "cell_type": "code",
      "source": [
        "txt.count(\"i\")\n",
        "#count functions gets the count of character/s requested."
      ],
      "metadata": {
        "colab": {
          "base_uri": "https://localhost:8080/"
        },
        "id": "G80oaa6hX53B",
        "outputId": "6b530762-1f51-41e4-f5f7-ddacf58e1d5b"
      },
      "execution_count": 34,
      "outputs": [
        {
          "output_type": "execute_result",
          "data": {
            "text/plain": [
              "2"
            ]
          },
          "metadata": {},
          "execution_count": 34
        }
      ]
    },
    {
      "cell_type": "code",
      "source": [
        "txt.replace(\"a\",\"*\")\n",
        "#replace takes 2 arguments replacable character and to be replaced with character"
      ],
      "metadata": {
        "colab": {
          "base_uri": "https://localhost:8080/",
          "height": 35
        },
        "id": "aYtcQxBkYYlp",
        "outputId": "0c62b9c9-6764-4736-b9a9-6305b2094f5e"
      },
      "execution_count": 36,
      "outputs": [
        {
          "output_type": "execute_result",
          "data": {
            "text/plain": [
              "'text typed is in sm*ll ch*r*cters.'"
            ],
            "application/vnd.google.colaboratory.intrinsic+json": {
              "type": "string"
            }
          },
          "metadata": {},
          "execution_count": 36
        }
      ]
    },
    {
      "cell_type": "code",
      "source": [
        "txt.split()"
      ],
      "metadata": {
        "colab": {
          "base_uri": "https://localhost:8080/"
        },
        "id": "l5umADp_YpLz",
        "outputId": "1aeefc4a-754c-435c-8e4d-57a9adbce273"
      },
      "execution_count": 37,
      "outputs": [
        {
          "output_type": "execute_result",
          "data": {
            "text/plain": [
              "['text', 'typed', 'is', 'in', 'small', 'characters.']"
            ]
          },
          "metadata": {},
          "execution_count": 37
        }
      ]
    },
    {
      "cell_type": "code",
      "source": [
        "txt.split(\"i\")"
      ],
      "metadata": {
        "colab": {
          "base_uri": "https://localhost:8080/"
        },
        "id": "2kq9XWE4ZFIN",
        "outputId": "6baa1b20-e7da-4096-abc9-b2a96f23b5b7"
      },
      "execution_count": 38,
      "outputs": [
        {
          "output_type": "execute_result",
          "data": {
            "text/plain": [
              "['text typed ', 's ', 'n small characters.']"
            ]
          },
          "metadata": {},
          "execution_count": 38
        }
      ]
    },
    {
      "cell_type": "code",
      "source": [
        "num=\"9876\"\n",
        "num.split()\n"
      ],
      "metadata": {
        "colab": {
          "base_uri": "https://localhost:8080/"
        },
        "id": "V22FZSSXZLyk",
        "outputId": "9265c136-9127-4f53-c115-0546066da871"
      },
      "execution_count": 41,
      "outputs": [
        {
          "output_type": "execute_result",
          "data": {
            "text/plain": [
              "['9876']"
            ]
          },
          "metadata": {},
          "execution_count": 41
        }
      ]
    },
    {
      "cell_type": "code",
      "source": [
        "num=\"9 8 7 6\"\n",
        "num.split()\n"
      ],
      "metadata": {
        "colab": {
          "base_uri": "https://localhost:8080/"
        },
        "id": "rlnyeOqBZZAx",
        "outputId": "63655797-c7d7-4ea2-da26-71e3cea8d1a5"
      },
      "execution_count": 42,
      "outputs": [
        {
          "output_type": "execute_result",
          "data": {
            "text/plain": [
              "['9', '8', '7', '6']"
            ]
          },
          "metadata": {},
          "execution_count": 42
        }
      ]
    },
    {
      "cell_type": "code",
      "source": [
        "name=\"Pankaj\"\n",
        "for i in name:\n",
        "  print(i)"
      ],
      "metadata": {
        "colab": {
          "base_uri": "https://localhost:8080/"
        },
        "id": "7_5Zj3HAZNpp",
        "outputId": "63e02752-0032-4a4e-f2f0-73886a562034"
      },
      "execution_count": 43,
      "outputs": [
        {
          "output_type": "stream",
          "name": "stdout",
          "text": [
            "P\n",
            "a\n",
            "n\n",
            "k\n",
            "a\n",
            "j\n"
          ]
        }
      ]
    },
    {
      "cell_type": "code",
      "source": [
        "for i in txt:\n",
        "  print(i)"
      ],
      "metadata": {
        "colab": {
          "base_uri": "https://localhost:8080/"
        },
        "id": "ex3goYGhZ-au",
        "outputId": "925be485-6444-4db8-c8f9-6f7b2f4750a3"
      },
      "execution_count": 44,
      "outputs": [
        {
          "output_type": "stream",
          "name": "stdout",
          "text": [
            "t\n",
            "e\n",
            "x\n",
            "t\n",
            " \n",
            "t\n",
            "y\n",
            "p\n",
            "e\n",
            "d\n",
            " \n",
            "i\n",
            "s\n",
            " \n",
            "i\n",
            "n\n",
            " \n",
            "s\n",
            "m\n",
            "a\n",
            "l\n",
            "l\n",
            " \n",
            "c\n",
            "h\n",
            "a\n",
            "r\n",
            "a\n",
            "c\n",
            "t\n",
            "e\n",
            "r\n",
            "s\n",
            ".\n"
          ]
        }
      ]
    },
    {
      "cell_type": "code",
      "source": [
        "print(txt[2]) # prints the 3 character(i.e. index 0)\n",
        "print(txt[-1]) # prints the dot\n",
        "#"
      ],
      "metadata": {
        "colab": {
          "base_uri": "https://localhost:8080/"
        },
        "id": "E21RblegaD-M",
        "outputId": "f2fa781a-87c6-4d5e-b23e-22e9fb307f2d"
      },
      "execution_count": 46,
      "outputs": [
        {
          "output_type": "stream",
          "name": "stdout",
          "text": [
            "x\n",
            ".\n"
          ]
        }
      ]
    },
    {
      "cell_type": "code",
      "source": [
        "print(name.reverse)"
      ],
      "metadata": {
        "colab": {
          "base_uri": "https://localhost:8080/",
          "height": 165
        },
        "id": "QyGrOuCoarqe",
        "outputId": "17b4bbda-db9d-435f-baf6-07178987e33a"
      },
      "execution_count": 47,
      "outputs": [
        {
          "output_type": "error",
          "ename": "AttributeError",
          "evalue": "ignored",
          "traceback": [
            "\u001b[0;31m---------------------------------------------------------------------------\u001b[0m",
            "\u001b[0;31mAttributeError\u001b[0m                            Traceback (most recent call last)",
            "\u001b[0;32m<ipython-input-47-45009ba05e26>\u001b[0m in \u001b[0;36m<module>\u001b[0;34m()\u001b[0m\n\u001b[0;32m----> 1\u001b[0;31m \u001b[0mprint\u001b[0m\u001b[0;34m(\u001b[0m\u001b[0mname\u001b[0m\u001b[0;34m.\u001b[0m\u001b[0mreverse\u001b[0m\u001b[0;34m)\u001b[0m\u001b[0;34m\u001b[0m\u001b[0;34m\u001b[0m\u001b[0m\n\u001b[0m",
            "\u001b[0;31mAttributeError\u001b[0m: 'str' object has no attribute 'reverse'"
          ]
        }
      ]
    },
    {
      "cell_type": "code",
      "source": [
        "#Palindrome -- a word which when reversed would mean the same thing, there are many such words i.e. mom dad radar level tat did etc.\n",
        "\n",
        "name = input()\n",
        "\n",
        "reverse = name[::-1]\n",
        "print(reverse)\n",
        "\n",
        "if name == reverse:\n",
        "  print(\"Yes\")\n",
        "else:\n",
        "  print(\"No\")"
      ],
      "metadata": {
        "colab": {
          "base_uri": "https://localhost:8080/"
        },
        "id": "GCVDfgZ2a1Hx",
        "outputId": "21f3bd03-1e4a-4cbc-c624-4d69cb6c6132"
      },
      "execution_count": 49,
      "outputs": [
        {
          "output_type": "stream",
          "name": "stdout",
          "text": [
            "Pankaj\n",
            "jaknaP\n",
            "No\n"
          ]
        }
      ]
    },
    {
      "cell_type": "code",
      "source": [
        "for i in range(len(name)):\n",
        "  print(i,end=' ')\n",
        "  #this prints the index not the characters when we use the range."
      ],
      "metadata": {
        "colab": {
          "base_uri": "https://localhost:8080/"
        },
        "id": "ZJcGMNcHcReC",
        "outputId": "0dfc43e5-1718-4439-b814-cdf6474bc4b6"
      },
      "execution_count": 50,
      "outputs": [
        {
          "output_type": "stream",
          "name": "stdout",
          "text": [
            "0 1 2 3 4 5 "
          ]
        }
      ]
    },
    {
      "cell_type": "code",
      "source": [
        "for i in name:\n",
        "  print(i)\n",
        "  print(ord(i),end=' ')"
      ],
      "metadata": {
        "id": "lIVW775Rcepa"
      },
      "execution_count": null,
      "outputs": []
    }
  ]
}