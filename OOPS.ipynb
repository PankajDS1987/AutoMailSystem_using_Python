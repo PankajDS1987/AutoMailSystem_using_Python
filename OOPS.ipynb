{
  "nbformat": 4,
  "nbformat_minor": 0,
  "metadata": {
    "colab": {
      "name": "OOPS.ipynb",
      "provenance": [],
      "collapsed_sections": [],
      "authorship_tag": "ABX9TyOFkcvtzEULCbe1vVQ8ljul",
      "include_colab_link": true
    },
    "kernelspec": {
      "name": "python3",
      "display_name": "Python 3"
    },
    "language_info": {
      "name": "python"
    }
  },
  "cells": [
    {
      "cell_type": "markdown",
      "metadata": {
        "id": "view-in-github",
        "colab_type": "text"
      },
      "source": [
        "<a href=\"https://colab.research.google.com/github/PankajDS1987/AutoMailSystem_using_Python/blob/master/OOPS.ipynb\" target=\"_parent\"><img src=\"https://colab.research.google.com/assets/colab-badge.svg\" alt=\"Open In Colab\"/></a>"
      ]
    },
    {
      "cell_type": "code",
      "execution_count": null,
      "metadata": {
        "colab": {
          "base_uri": "https://localhost:8080/"
        },
        "id": "jvVqtjpoDnRP",
        "outputId": "c400f9cc-aa56-427e-b73b-76817148a212"
      },
      "outputs": [
        {
          "output_type": "stream",
          "name": "stdout",
          "text": [
            "<class 'type'> 5\n",
            "<class 'bool'>\n",
            "<class 'str'>\n",
            "<class 'list'>\n"
          ]
        }
      ],
      "source": [
        "x= 5\n",
        "print(type,(x))\n",
        "z = True\n",
        "print(type(z))\n",
        "y = \"Alpha\"\n",
        "print(type(y))\n",
        "lst=[11,1213]\n",
        "print(type(lst))"
      ]
    },
    {
      "cell_type": "code",
      "source": [
        "lst.append(1012)\n",
        "print(lst)\n",
        "print(len(lst))\n",
        "lst.extend([143,33])\n",
        "print(lst)"
      ],
      "metadata": {
        "colab": {
          "base_uri": "https://localhost:8080/"
        },
        "id": "SMvj1lamEK2g",
        "outputId": "6e32d579-3065-4b6c-cc96-f44415a8b1ee"
      },
      "execution_count": null,
      "outputs": [
        {
          "output_type": "stream",
          "name": "stdout",
          "text": [
            "[11, 1213, 1012, 1012, 1012, 1012]\n",
            "6\n",
            "[11, 1213, 1012, 1012, 1012, 1012, 143, 33]\n"
          ]
        }
      ]
    },
    {
      "cell_type": "code",
      "source": [
        "class Students:\n",
        "  name = 'Pankaj' #data\n",
        "  rollNo= '11' #data"
      ],
      "metadata": {
        "id": "iZJAQ2twIbzC"
      },
      "execution_count": null,
      "outputs": []
    },
    {
      "cell_type": "code",
      "source": [
        "s1 = Students()\n",
        "s2 = Students()\n",
        "print(type(s1))\n",
        "print(type(s2))"
      ],
      "metadata": {
        "colab": {
          "base_uri": "https://localhost:8080/"
        },
        "id": "u3toqZDHIqVB",
        "outputId": "75d88124-ee12-42f2-e389-8b5b95ba4991"
      },
      "execution_count": null,
      "outputs": [
        {
          "output_type": "stream",
          "name": "stdout",
          "text": [
            "<class '__main__.Students'>\n",
            "<class '__main__.Students'>\n"
          ]
        }
      ]
    },
    {
      "cell_type": "code",
      "source": [
        "class Car:\n",
        "  color = ()\n",
        "  model = ()\n",
        "  brand = ()"
      ],
      "metadata": {
        "id": "yMMzULbNJKwq"
      },
      "execution_count": null,
      "outputs": []
    },
    {
      "cell_type": "code",
      "source": [
        "m1 = Car()\n",
        "m2 = Car()"
      ],
      "metadata": {
        "id": "_bsahgKCJVh7"
      },
      "execution_count": null,
      "outputs": []
    },
    {
      "cell_type": "code",
      "source": [
        "print(m1.brand)"
      ],
      "metadata": {
        "colab": {
          "base_uri": "https://localhost:8080/"
        },
        "id": "RVTv_RBfJl_L",
        "outputId": "cd0eb3b8-37b6-43c7-8c7a-320aca0ad07f"
      },
      "execution_count": null,
      "outputs": [
        {
          "output_type": "stream",
          "name": "stdout",
          "text": [
            "()\n"
          ]
        }
      ]
    },
    {
      "cell_type": "code",
      "source": [
        "print(m2,m1)\n",
        "# it gives actual memory location"
      ],
      "metadata": {
        "colab": {
          "base_uri": "https://localhost:8080/"
        },
        "id": "VD4C0TLIJ5Lr",
        "outputId": "a0fbd5fb-17b9-4538-e309-d50892f02b2a"
      },
      "execution_count": null,
      "outputs": [
        {
          "output_type": "stream",
          "name": "stdout",
          "text": [
            "<__main__.Car object at 0x7ff4697dd110> <__main__.Car object at 0x7ff4697dd590>\n"
          ]
        }
      ]
    },
    {
      "cell_type": "code",
      "source": [
        "m1.color='Red'\n",
        "m2.color='brand'\n",
        "m2.model='2011'\n",
        "m2.brand ='Audi'\n",
        "\n",
        "print(m1.color,m1.brand)\n",
        "print(m2.model,m2.color,m2.brand)"
      ],
      "metadata": {
        "colab": {
          "base_uri": "https://localhost:8080/"
        },
        "id": "lQYP8tY4KRVt",
        "outputId": "71fbe338-a50b-4872-ec15-6c6857390a31"
      },
      "execution_count": null,
      "outputs": [
        {
          "output_type": "stream",
          "name": "stdout",
          "text": [
            "Red ()\n",
            "2011 brand Audi\n"
          ]
        }
      ]
    },
    {
      "cell_type": "code",
      "source": [
        "class Student:\n",
        "  def __init__(self,name):\n",
        "    self.name = name\n"
      ],
      "metadata": {
        "id": "x45Dp-CQMOko"
      },
      "execution_count": null,
      "outputs": []
    },
    {
      "cell_type": "code",
      "source": [
        "t1 = Student(\"Richard\")\n",
        "t2 = Student(\"Gary\")\n",
        "\n",
        "print(t1.name)\n",
        "print(t2.name)"
      ],
      "metadata": {
        "colab": {
          "base_uri": "https://localhost:8080/"
        },
        "id": "RiQBC-M3Mflh",
        "outputId": "e724bc70-130d-4491-8ffe-f8621b19ad09"
      },
      "execution_count": null,
      "outputs": [
        {
          "output_type": "stream",
          "name": "stdout",
          "text": [
            "Richard\n",
            "Gary\n"
          ]
        }
      ]
    },
    {
      "cell_type": "code",
      "source": [
        ""
      ],
      "metadata": {
        "id": "68NDppEPlX27"
      },
      "execution_count": null,
      "outputs": []
    },
    {
      "cell_type": "markdown",
      "source": [
        "**Class has functionality \n",
        "Data, Behavior, Methods\n",
        "Class has power of features \n",
        "list.append has this method within the list class**\n",
        "\n",
        "Properties --..> data /attributes\n",
        "functionality ----> method / behavior // action"
      ],
      "metadata": {
        "id": "jn2YlkAGlYFs"
      }
    },
    {
      "cell_type": "code",
      "source": [
        "class Village:\n",
        "  def __init__ (self,roadname):\n",
        "    self.roadname = name\n",
        "\n",
        "    village1 = Village(\"Link Road\")\n",
        "    village2 = Village(\"Colony Road\")\n",
        "\n",
        "    print(village1.roadname)\n",
        "    print(village2.roadname)"
      ],
      "metadata": {
        "id": "b5qYVugClgLq"
      },
      "execution_count": null,
      "outputs": []
    },
    {
      "cell_type": "markdown",
      "source": [
        "** DUNDER -- dunder init (double underscore init doublescore -- called as constructor ** this function's job is to make sure that it has the data or properties it needs e.g. to make a car you need wheels certainly\n",
        ".It is automtically called when you create an object.\n",
        "\n",
        "** SELF in a function ** Self is the object on which you are working e.g. student for which you are creating objects in a student class \n",
        "car for which you are creating objects\n",
        "\n",
        "So using this you will not have to pass the function - this self would be the first argument passed into the object. its called automatically at first. /n\n",
        "Self is automatically passed\n",
        "It is created on same id in the memory\n",
        "#Self is a reference\n"
      ],
      "metadata": {
        "id": "DqwrtLzH-_7J"
      }
    },
    {
      "cell_type": "code",
      "source": [
        "#self is a variable (its the object on which you are working) \n",
        "\n",
        "class Meeting:\n",
        "  def __init__ (self, meeting_tool):\n",
        "    print('Creating Self inside the constructor')\n",
        "    print(self)\n",
        "    self.name = meeting_tool\n",
        "\n",
        "meet1 = Meeting(\"Speaker Series\")\n",
        "print()\n",
        "\n",
        "print('Printing meet1 ourside')\n",
        "print(meet1)\n",
        "\n",
        "print()\n",
        "print(meet1.meeting_tool)"
      ],
      "metadata": {
        "colab": {
          "base_uri": "https://localhost:8080/",
          "height": 304
        },
        "id": "7h7cJlmkCNBl",
        "outputId": "17a7753a-48b6-48cb-c4f4-4dab3c1eed1e"
      },
      "execution_count": null,
      "outputs": [
        {
          "output_type": "stream",
          "name": "stdout",
          "text": [
            "Creating Self inside the constructor\n",
            "<__main__.Meeting object at 0x7f5568fbbd50>\n",
            "\n",
            "Printing meet1 ourside\n",
            "<__main__.Meeting object at 0x7f5568fbbd50>\n",
            "\n"
          ]
        },
        {
          "output_type": "error",
          "ename": "AttributeError",
          "evalue": "ignored",
          "traceback": [
            "\u001b[0;31m---------------------------------------------------------------------------\u001b[0m",
            "\u001b[0;31mAttributeError\u001b[0m                            Traceback (most recent call last)",
            "\u001b[0;32m<ipython-input-2-582f79a2bc3b>\u001b[0m in \u001b[0;36m<module>\u001b[0;34m()\u001b[0m\n\u001b[1;32m     14\u001b[0m \u001b[0;34m\u001b[0m\u001b[0m\n\u001b[1;32m     15\u001b[0m \u001b[0mprint\u001b[0m\u001b[0;34m(\u001b[0m\u001b[0;34m)\u001b[0m\u001b[0;34m\u001b[0m\u001b[0;34m\u001b[0m\u001b[0m\n\u001b[0;32m---> 16\u001b[0;31m \u001b[0mprint\u001b[0m\u001b[0;34m(\u001b[0m\u001b[0mmeet1\u001b[0m\u001b[0;34m.\u001b[0m\u001b[0mmeeting_tool\u001b[0m\u001b[0;34m)\u001b[0m\u001b[0;34m\u001b[0m\u001b[0;34m\u001b[0m\u001b[0m\n\u001b[0m",
            "\u001b[0;31mAttributeError\u001b[0m: 'Meeting' object has no attribute 'meeting_tool'"
          ]
        }
      ]
    },
    {
      "cell_type": "code",
      "source": [
        "class Applicant:\n",
        "  def __init__(self, input_name, input_roll_no):\n",
        "    self.name = input_name\n",
        "    self.roll_no = input_roll_no\n",
        "\n",
        "applicant1 = Applicant('Baba','1')\n",
        "applicant2 = Applicant('Dada','2')\n",
        "\n",
        "print(applicant1.name, applicant1.roll_no)\n",
        "print(applicant2.name, applicant2.roll_no)"
      ],
      "metadata": {
        "colab": {
          "base_uri": "https://localhost:8080/"
        },
        "id": "nPl0BBH6IcPr",
        "outputId": "d80b6bf1-c1a5-4e23-b774-24167ddf9f42"
      },
      "execution_count": null,
      "outputs": [
        {
          "output_type": "stream",
          "name": "stdout",
          "text": [
            "Baba 1\n",
            "Dada 2\n"
          ]
        }
      ]
    },
    {
      "cell_type": "code",
      "source": [
        "#so it automatically gets the both arguments \n",
        "#incase if we don't provide the roll number it would give us an error while we try to creat the object.\n",
        "#or there is another way we can simply give default value while creating the constructor. class Applicant:   def __init__(self, input_name, input_roll_no=000): \n",
        "#e.g applicant3 = Applicant('Pankaj') TypeError: __init__() missing 1 required positional argument: 'input_roll_no'\n",
        "#Self is a reference\n",
        "\n"
      ],
      "metadata": {
        "id": "JIVgz53_KIgW"
      },
      "execution_count": null,
      "outputs": []
    },
    {
      "cell_type": "code",
      "source": [
        "# Class Behavior Method\n",
        "class Game:\n",
        "  def __init__(self, name):\n",
        "    self.name = name\n",
        "\n",
        "  #Game which is getting created\n",
        "  def round(self):\n",
        "    print('Welcome to first round of:', self.name)\n",
        "  \n",
        " "
      ],
      "metadata": {
        "id": "F5s9jk66OaR1"
      },
      "execution_count": null,
      "outputs": []
    },
    {
      "cell_type": "code",
      "source": [
        "game1 = Game ('Race_Warrior')\n",
        "game1.round()\n",
        "game1.levels = 5\n",
        "\n",
        "print(game1.round, game1.levels)"
      ],
      "metadata": {
        "colab": {
          "base_uri": "https://localhost:8080/"
        },
        "id": "rATFO8NhW8T5",
        "outputId": "7f36dcd8-513d-4e3f-d846-13b519a9cf9f"
      },
      "execution_count": null,
      "outputs": [
        {
          "output_type": "stream",
          "name": "stdout",
          "text": [
            "Welcome to first round of: Race_Warrior\n",
            "<bound method Game.round of <__main__.Game object at 0x7f5568eb7d10>> 5\n"
          ]
        }
      ]
    },
    {
      "cell_type": "code",
      "source": [
        "class Bill():\n",
        "\n",
        "    def __init__(self, prev_read, cur_read):\n",
        "        #YOUR CODE GOESS HERE\n",
        "        billable_read = cur_read-prev_read\n",
        "        first100=[]\n",
        "        second100=[]\n",
        "        remainingUnit=[]\n",
        "              \n",
        "                \n",
        "    def total_bill():\n",
        "        total=0.0\n",
        "        #YOUR CODE GOESS HERE\n",
        "        n = 650\n",
        "        p = 200\n",
        "        b_units = n-p\n",
        "\n",
        "        a=0\n",
        "        b=0\n",
        "        c=0\n",
        "        cost_c=0\n",
        "        cost_b=0\n",
        "\n",
        "        while b_units >200\n",
        "\n",
        "        if b_units > 200:\n",
        "            c=b_units - 200\n",
        "        cost_c = c*8\n",
        "        if b_units > 100 and b_units <=200:\n",
        "            b=b_units - 100\n",
        "        cost_b = *5==\n",
        "        else:\n",
        "            a=b_units\n",
        "        return total"
      ],
      "metadata": {
        "colab": {
          "base_uri": "https://localhost:8080/",
          "height": 130
        },
        "id": "CJyt1oddCnfI",
        "outputId": "df39cd10-e963-420b-c647-9ced3e7e3325"
      },
      "execution_count": 1,
      "outputs": [
        {
          "output_type": "error",
          "ename": "SyntaxError",
          "evalue": "ignored",
          "traceback": [
            "\u001b[0;36m  File \u001b[0;32m\"<ipython-input-1-c7cfa59d8ca1>\"\u001b[0;36m, line \u001b[0;32m24\u001b[0m\n\u001b[0;31m    cost_c*8==\u001b[0m\n\u001b[0m              ^\u001b[0m\n\u001b[0;31mSyntaxError\u001b[0m\u001b[0;31m:\u001b[0m invalid syntax\n"
          ]
        }
      ]
    }
  ]
}