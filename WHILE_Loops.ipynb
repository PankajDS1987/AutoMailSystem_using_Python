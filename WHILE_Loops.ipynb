{
  "cells": [
    {
      "cell_type": "markdown",
      "metadata": {
        "id": "view-in-github",
        "colab_type": "text"
      },
      "source": [
        "<a href=\"https://colab.research.google.com/github/PankajDS1987/AutoMailSystem_using_Python/blob/master/WHILE_Loops.ipynb\" target=\"_parent\"><img src=\"https://colab.research.google.com/assets/colab-badge.svg\" alt=\"Open In Colab\"/></a>"
      ]
    },
    {
      "cell_type": "markdown",
      "source": [
        "While Loop works like an IF Else (itself) as it checks for conditions if its true or not and then executes the next (mentioned in next block) accordingly."
      ],
      "metadata": {
        "id": "P3a-1nLc0cx1"
      }
    },
    {
      "cell_type": "markdown",
      "source": [
        "** Take total number of Inputs and run a loop to run that many times and also print the sum of the digits of that **\n",
        "\n",
        "``\n",
        "\n"
      ],
      "metadata": {
        "id": "CX1zYnLKfVci"
      }
    },
    {
      "cell_type": "code",
      "source": [
        "T=int(input())\n",
        "i=1\n",
        "while i < T:\n",
        "    n=int(input())\n",
        "    sum=0\n",
        "    while n>0:\n",
        "        rem=n%10\n",
        "        n//=10\n",
        "        sum= (sum+rem)    \n",
        "    print(sum)\n",
        "    i+=1     "
      ],
      "metadata": {
        "colab": {
          "base_uri": "https://localhost:8080/"
        },
        "id": "0HKOk7sBneeU",
        "outputId": "3196df04-e9f9-4b51-a2a0-2950e4f06303"
      },
      "execution_count": null,
      "outputs": [
        {
          "output_type": "stream",
          "name": "stdout",
          "text": [
            "4\n",
            "123\n",
            "6\n",
            "234\n",
            "9\n",
            "4535\n",
            "17\n"
          ]
        }
      ]
    },
    {
      "cell_type": "markdown",
      "source": [
        "** Taking User Input --and Creating Table upto 10 multiples**\n"
      ],
      "metadata": {
        "id": "BspRjfo30Hy9"
      }
    },
    {
      "cell_type": "code",
      "source": [
        "A=int(input())\n",
        "i=1\n",
        "while i<=10:\n",
        "    print(A,\"*\",i,\"=\",A*i)\n",
        "    i+=1"
      ],
      "metadata": {
        "colab": {
          "base_uri": "https://localhost:8080/"
        },
        "id": "KAn35-lAy530",
        "outputId": "957a5ca2-b43a-42f8-eb35-cd1b3752df47"
      },
      "execution_count": null,
      "outputs": [
        {
          "output_type": "stream",
          "name": "stdout",
          "text": [
            "4\n",
            "4 * 1 = 4\n",
            "4 * 2 = 8\n",
            "4 * 3 = 12\n",
            "4 * 4 = 16\n",
            "4 * 5 = 20\n",
            "4 * 6 = 24\n",
            "4 * 7 = 28\n",
            "4 * 8 = 32\n",
            "4 * 9 = 36\n",
            "4 * 10 = 40\n"
          ]
        }
      ]
    },
    {
      "cell_type": "markdown",
      "source": [
        "**Find A power B**"
      ],
      "metadata": {
        "id": "8CgheRlj383G"
      }
    },
    {
      "cell_type": "markdown",
      "source": [
        "\n",
        "\n",
        "> Indented block\n",
        "\n"
      ],
      "metadata": {
        "id": "XUe3-KWb0Gn_"
      }
    },
    {
      "cell_type": "code",
      "source": [
        "#Given an integer N, print the corresponding stair pattern for N.\n",
        "\n",
        "#Approach 1:\n",
        "\n",
        "N=int(input())\n",
        "for i in range(1,N+1):\n",
        "    print('*'*i)"
      ],
      "metadata": {
        "colab": {
          "base_uri": "https://localhost:8080/"
        },
        "id": "xlZWJDkDX464",
        "outputId": "b37cd764-d1f8-4283-90a7-160ae942c3b5"
      },
      "execution_count": null,
      "outputs": [
        {
          "output_type": "stream",
          "name": "stdout",
          "text": [
            "5\n",
            "*\n",
            "**\n",
            "***\n",
            "****\n",
            "*****\n"
          ]
        }
      ]
    },
    {
      "cell_type": "code",
      "source": [
        "#Approach 2:\n",
        "N=5\n",
        "i=1\n",
        "while i <=N:\n",
        "  print('*'*i)\n",
        "  i+=1"
      ],
      "metadata": {
        "colab": {
          "base_uri": "https://localhost:8080/"
        },
        "id": "CKG-QSfPYPuB",
        "outputId": "f0506177-6bf1-4371-b978-6f82ddbed333"
      },
      "execution_count": null,
      "outputs": [
        {
          "output_type": "stream",
          "name": "stdout",
          "text": [
            "*\n",
            "**\n",
            "***\n",
            "****\n",
            "*****\n"
          ]
        }
      ]
    },
    {
      "cell_type": "code",
      "source": [
        "#Approach3:\n",
        "N=5\n",
        "i=1\n",
        "for i in range(1,N+1):\n",
        "  for j in range(i):\n",
        "    print('*',end='')\n",
        "  print()"
      ],
      "metadata": {
        "colab": {
          "base_uri": "https://localhost:8080/"
        },
        "id": "kzWOjksaYqzW",
        "outputId": "d24cd6cd-45b5-4b41-d695-52c34c135f3d"
      },
      "execution_count": null,
      "outputs": [
        {
          "output_type": "stream",
          "name": "stdout",
          "text": [
            "*\n",
            "**\n",
            "***\n",
            "****\n",
            "*****\n"
          ]
        }
      ]
    },
    {
      "cell_type": "code",
      "source": [
        "variable_name = ()\n",
        "id(variable_name)\n",
        "type(variable_name)"
      ],
      "metadata": {
        "colab": {
          "base_uri": "https://localhost:8080/"
        },
        "id": "bJqnbCOlMueu",
        "outputId": "a405e5fc-8c33-462b-ed34-08a26bf67c1f"
      },
      "execution_count": null,
      "outputs": [
        {
          "output_type": "execute_result",
          "data": {
            "text/plain": [
              "tuple"
            ]
          },
          "metadata": {},
          "execution_count": 10
        }
      ]
    },
    {
      "cell_type": "code",
      "source": [
        "N=15\n",
        "if N>=10 and N<=20:\n",
        "  print(\"yes\")\n",
        "\n",
        "        "
      ],
      "metadata": {
        "colab": {
          "base_uri": "https://localhost:8080/"
        },
        "id": "D1TJYjZk25uA",
        "outputId": "e682d6f4-f8d2-498a-d35a-b6f20badd128"
      },
      "execution_count": null,
      "outputs": [
        {
          "output_type": "stream",
          "name": "stdout",
          "text": [
            "yes\n"
          ]
        }
      ]
    },
    {
      "cell_type": "markdown",
      "source": [
        "Write a program that asks the user to input a number N.\n",
        "If N is between 10 and 20, your program should ask the user to enter another number M and then print the sum of the two numbers.\n",
        "If the sum is now over 100, your program should also print \"That is a large sum!\" on a new line.\n",
        "If N is not between 10 and 20, your program should not print anything.\n",
        "\n",
        "Input Format\n",
        "\n",
        "The first line in the input is an integer N.\n",
        "If N is between 10 and 20 (both included), then the second line is there in the input containing another integer M.\n",
        "\n",
        "\n",
        "Output Format\n",
        "\n",
        "If N is not between 10 and 20, there is no output.\n",
        "If N is between 10 and 20, the first line of the output contains N + M.\n",
        "If N + M is greater than or equal to 100, the second line of the output contains That is a large sum!"
      ],
      "metadata": {
        "id": "A3pGm3Sw38x5"
      }
    },
    {
      "cell_type": "code",
      "source": [
        "N=int(input())\n",
        "if N>=10 and N<=20:\n",
        "  M=int(input())\n",
        "  sum=N\n",
        "  sum+=M\n",
        "  if sum>100:\n",
        "    print(\"That is a large sum!\")\n",
        "  else:\n",
        "    print(sum)\n",
        "else:\n",
        "  pass "
      ],
      "metadata": {
        "colab": {
          "base_uri": "https://localhost:8080/"
        },
        "id": "gi3mLxGp36Ki",
        "outputId": "eda0cae1-8b1a-4203-924e-dd3e684d3acf"
      },
      "execution_count": null,
      "outputs": [
        {
          "output_type": "stream",
          "name": "stdout",
          "text": [
            "15\n",
            "90\n",
            "That is a large sum!\n"
          ]
        }
      ]
    },
    {
      "cell_type": "code",
      "source": [
        "N=5\n",
        "for i in range(N):\n",
        "  print(\"*\") "
      ],
      "metadata": {
        "colab": {
          "base_uri": "https://localhost:8080/"
        },
        "id": "a1YPn7CW7hBV",
        "outputId": "9401d5dd-f3bd-450c-c259-acdb6207c0f5"
      },
      "execution_count": null,
      "outputs": [
        {
          "output_type": "stream",
          "name": "stdout",
          "text": [
            "*\n",
            "*\n",
            "*\n",
            "*\n",
            "*\n"
          ]
        }
      ]
    },
    {
      "cell_type": "code",
      "source": [
        "N=1\n",
        "for i in range(2):\n",
        "  print(\"8\")"
      ],
      "metadata": {
        "colab": {
          "base_uri": "https://localhost:8080/"
        },
        "id": "hX4ja8G17oc0",
        "outputId": "1abf1364-4b3a-4ced-f7ab-657f85855f52"
      },
      "execution_count": null,
      "outputs": [
        {
          "output_type": "stream",
          "name": "stdout",
          "text": [
            "8\n",
            "8\n"
          ]
        }
      ]
    },
    {
      "cell_type": "code",
      "source": [
        "A=int(input())\n",
        "B=int(input())\n",
        "res=floor(A/B)\n",
        "print(res)"
      ],
      "metadata": {
        "colab": {
          "base_uri": "https://localhost:8080/",
          "height": 252
        },
        "id": "uzaERUrR-hE5",
        "outputId": "669780ff-5ac8-4db8-b638-ae285cf015bc"
      },
      "execution_count": null,
      "outputs": [
        {
          "name": "stdout",
          "output_type": "stream",
          "text": [
            "24\n",
            "72\n"
          ]
        },
        {
          "output_type": "error",
          "ename": "NameError",
          "evalue": "ignored",
          "traceback": [
            "\u001b[0;31m---------------------------------------------------------------------------\u001b[0m",
            "\u001b[0;31mNameError\u001b[0m                                 Traceback (most recent call last)",
            "\u001b[0;32m<ipython-input-23-1e0cf9d1ab3e>\u001b[0m in \u001b[0;36m<module>\u001b[0;34m()\u001b[0m\n\u001b[1;32m      1\u001b[0m \u001b[0mA\u001b[0m\u001b[0;34m=\u001b[0m\u001b[0mint\u001b[0m\u001b[0;34m(\u001b[0m\u001b[0minput\u001b[0m\u001b[0;34m(\u001b[0m\u001b[0;34m)\u001b[0m\u001b[0;34m)\u001b[0m\u001b[0;34m\u001b[0m\u001b[0;34m\u001b[0m\u001b[0m\n\u001b[1;32m      2\u001b[0m \u001b[0mB\u001b[0m\u001b[0;34m=\u001b[0m\u001b[0mint\u001b[0m\u001b[0;34m(\u001b[0m\u001b[0minput\u001b[0m\u001b[0;34m(\u001b[0m\u001b[0;34m)\u001b[0m\u001b[0;34m)\u001b[0m\u001b[0;34m\u001b[0m\u001b[0;34m\u001b[0m\u001b[0m\n\u001b[0;32m----> 3\u001b[0;31m \u001b[0mres\u001b[0m\u001b[0;34m=\u001b[0m\u001b[0mfloor\u001b[0m\u001b[0;34m(\u001b[0m\u001b[0mA\u001b[0m\u001b[0;34m/\u001b[0m\u001b[0mB\u001b[0m\u001b[0;34m)\u001b[0m\u001b[0;34m\u001b[0m\u001b[0;34m\u001b[0m\u001b[0m\n\u001b[0m\u001b[1;32m      4\u001b[0m \u001b[0mprint\u001b[0m\u001b[0;34m(\u001b[0m\u001b[0mres\u001b[0m\u001b[0;34m)\u001b[0m\u001b[0;34m\u001b[0m\u001b[0;34m\u001b[0m\u001b[0m\n",
            "\u001b[0;31mNameError\u001b[0m: name 'floor' is not defined"
          ]
        }
      ]
    },
    {
      "cell_type": "code",
      "source": [
        "print(bool(True))\n",
        "print(bool(False))"
      ],
      "metadata": {
        "colab": {
          "base_uri": "https://localhost:8080/"
        },
        "id": "FFpbGkzR1Zxd",
        "outputId": "f6fb1349-b3a9-43e6-c1dc-5b2aaa12cc9c"
      },
      "execution_count": 4,
      "outputs": [
        {
          "output_type": "stream",
          "name": "stdout",
          "text": [
            "True\n",
            "False\n"
          ]
        }
      ]
    },
    {
      "cell_type": "code",
      "source": [
        "for i in range(5,0):\n",
        "  print(i)\n",
        "#it will not print since range start is 5, end is 0, so, it will not be able to increment by 1 which is default until we say (5,0,-1 )"
      ],
      "metadata": {
        "id": "4qOrDtzM8Vym"
      },
      "execution_count": 6,
      "outputs": []
    },
    {
      "cell_type": "code",
      "source": [
        ""
      ],
      "metadata": {
        "id": "n6sqmklV9dgr"
      },
      "execution_count": null,
      "outputs": []
    },
    {
      "cell_type": "code",
      "source": [
        "print(1)\n",
        "print(0)"
      ],
      "metadata": {
        "colab": {
          "base_uri": "https://localhost:8080/"
        },
        "id": "HFZM6PZb1dfG",
        "outputId": "a10dad90-73ad-4b08-ec5c-4ca4129738b6"
      },
      "execution_count": 3,
      "outputs": [
        {
          "output_type": "stream",
          "name": "stdout",
          "text": [
            "1\n",
            "0\n"
          ]
        }
      ]
    },
    {
      "cell_type": "code",
      "source": [
        "if True:\n",
        "  print(bool)"
      ],
      "metadata": {
        "colab": {
          "base_uri": "https://localhost:8080/"
        },
        "id": "XJFwVIqF1fs5",
        "outputId": "8c1cc1f5-ea8f-41a7-8d1d-e539df6d3a51"
      },
      "execution_count": 2,
      "outputs": [
        {
          "output_type": "stream",
          "name": "stdout",
          "text": [
            "<class 'bool'>\n"
          ]
        }
      ]
    },
    {
      "cell_type": "code",
      "source": [
        "n=10\n",
        "i=0\n",
        "while i<=10:\n",
        "  if i%2:"
      ],
      "metadata": {
        "id": "iUmimmgVGOQ4"
      },
      "execution_count": null,
      "outputs": []
    },
    {
      "cell_type": "code",
      "source": [
        "if 10%2:\n",
        "  print(1)\n",
        "else:\n",
        "  print(2)\n",
        "#here if statement checks for True which by default is 1 - so its testing (if for 0 or 1)- -- here if is getting 0 on calculation of 10 modulus 2 -- so its false, when its false it will do nothing."
      ],
      "metadata": {
        "colab": {
          "base_uri": "https://localhost:8080/"
        },
        "id": "yzZdkv3nGZI0",
        "outputId": "04c564f1-b989-415f-dc8d-34221f3ef895"
      },
      "execution_count": 10,
      "outputs": [
        {
          "output_type": "stream",
          "name": "stdout",
          "text": [
            "2\n"
          ]
        }
      ]
    }
  ],
  "metadata": {
    "colab": {
      "name": "WHILE-Loops.ipynb",
      "provenance": [],
      "authorship_tag": "ABX9TyPHueING/MtjDeJEVYu1AcY",
      "include_colab_link": true
    },
    "kernelspec": {
      "display_name": "Python 3",
      "name": "python3"
    },
    "language_info": {
      "name": "python"
    }
  },
  "nbformat": 4,
  "nbformat_minor": 0
}