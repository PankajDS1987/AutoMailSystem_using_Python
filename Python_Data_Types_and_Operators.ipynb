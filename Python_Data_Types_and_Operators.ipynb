{
  "nbformat": 4,
  "nbformat_minor": 0,
  "metadata": {
    "colab": {
      "name": "Python Data Types and Operators.ipynb",
      "provenance": [],
      "collapsed_sections": [],
      "authorship_tag": "ABX9TyPUBFTboiAM28Tx+zMSrFsb",
      "include_colab_link": true
    },
    "kernelspec": {
      "name": "python3",
      "display_name": "Python 3"
    },
    "language_info": {
      "name": "python"
    }
  },
  "cells": [
    {
      "cell_type": "markdown",
      "metadata": {
        "id": "view-in-github",
        "colab_type": "text"
      },
      "source": [
        "<a href=\"https://colab.research.google.com/github/PankajDS1987/AutoMailSystem_using_Python/blob/master/Python_Data_Types_and_Operators.ipynb\" target=\"_parent\"><img src=\"https://colab.research.google.com/assets/colab-badge.svg\" alt=\"Open In Colab\"/></a>"
      ]
    },
    {
      "cell_type": "code",
      "execution_count": null,
      "metadata": {
        "colab": {
          "base_uri": "https://localhost:8080/"
        },
        "id": "DIlLj5lZV023",
        "outputId": "bd558cc6-9b24-409d-ba8d-d25fbbf92885"
      },
      "outputs": [
        {
          "output_type": "stream",
          "name": "stdout",
          "text": [
            "0\n"
          ]
        }
      ],
      "source": [
        "r = 100 % 25\n",
        "print(r)"
      ]
    },
    {
      "cell_type": "code",
      "source": [
        "n=int(input())\n",
        "if n%4 ==0:\n",
        "  if n%100==0:\n",
        "    if n% 400==0:\n",
        "      print('leap')\n",
        "    else:\n",
        "      print('not leap')\n",
        "        "
      ],
      "metadata": {
        "colab": {
          "base_uri": "https://localhost:8080/"
        },
        "id": "eVymM7bnWmN9",
        "outputId": "dc33ec50-5a90-4822-d5e4-c6b85debb679"
      },
      "execution_count": null,
      "outputs": [
        {
          "output_type": "stream",
          "name": "stdout",
          "text": [
            "2300\n",
            "not leap\n"
          ]
        }
      ]
    },
    {
      "cell_type": "code",
      "source": [
        ""
      ],
      "metadata": {
        "id": "avGHORY3ha0y"
      },
      "execution_count": null,
      "outputs": []
    },
    {
      "cell_type": "code",
      "source": [
        "1800, 1900, 2100, 2200, 2300 and 2500"
      ],
      "metadata": {
        "id": "N1AACbbKdSFB"
      },
      "execution_count": null,
      "outputs": []
    },
    {
      "cell_type": "code",
      "source": [
        "bool(None)"
      ],
      "metadata": {
        "colab": {
          "base_uri": "https://localhost:8080/"
        },
        "id": "R-N84jPHbh7J",
        "outputId": "e7683bb6-534a-469e-9bdf-5467fe4aea55"
      },
      "execution_count": null,
      "outputs": [
        {
          "output_type": "execute_result",
          "data": {
            "text/plain": [
              "False"
            ]
          },
          "metadata": {},
          "execution_count": 2
        }
      ]
    },
    {
      "cell_type": "code",
      "source": [
        "bool(True)"
      ],
      "metadata": {
        "colab": {
          "base_uri": "https://localhost:8080/"
        },
        "id": "If4ar2JWbmro",
        "outputId": "46fa0a03-9439-4e33-f9d5-307e384353e3"
      },
      "execution_count": null,
      "outputs": [
        {
          "output_type": "execute_result",
          "data": {
            "text/plain": [
              "True"
            ]
          },
          "metadata": {},
          "execution_count": 4
        }
      ]
    },
    {
      "cell_type": "code",
      "source": [
        "bool(0.0)"
      ],
      "metadata": {
        "colab": {
          "base_uri": "https://localhost:8080/"
        },
        "id": "oghjZk3ScUA0",
        "outputId": "d42c73ca-da33-4a14-b1b5-947e35acd56f"
      },
      "execution_count": null,
      "outputs": [
        {
          "output_type": "execute_result",
          "data": {
            "text/plain": [
              "False"
            ]
          },
          "metadata": {},
          "execution_count": 5
        }
      ]
    },
    {
      "cell_type": "code",
      "source": [
        "bool(1.0)"
      ],
      "metadata": {
        "colab": {
          "base_uri": "https://localhost:8080/"
        },
        "id": "U85EQYapcX7a",
        "outputId": "7be9523e-f6fe-49ca-eb27-f4b84deb9026"
      },
      "execution_count": null,
      "outputs": [
        {
          "output_type": "execute_result",
          "data": {
            "text/plain": [
              "True"
            ]
          },
          "metadata": {},
          "execution_count": 6
        }
      ]
    },
    {
      "cell_type": "code",
      "source": [
        "bool"
      ],
      "metadata": {
        "id": "-Fp9ARBucbiY"
      },
      "execution_count": null,
      "outputs": []
    },
    {
      "cell_type": "code",
      "source": [
        "bool()"
      ],
      "metadata": {
        "colab": {
          "base_uri": "https://localhost:8080/"
        },
        "id": "W8CPeRn9cicz",
        "outputId": "405d3d70-06ca-421d-a2d5-4e018978fef0"
      },
      "execution_count": null,
      "outputs": [
        {
          "output_type": "execute_result",
          "data": {
            "text/plain": [
              "False"
            ]
          },
          "metadata": {},
          "execution_count": 7
        }
      ]
    },
    {
      "cell_type": "code",
      "source": [
        "bool(0)"
      ],
      "metadata": {
        "colab": {
          "base_uri": "https://localhost:8080/"
        },
        "id": "S6KSaBu5e1Ch",
        "outputId": "214a3b8c-76a3-4946-eafd-e3b71515a76a"
      },
      "execution_count": null,
      "outputs": [
        {
          "output_type": "execute_result",
          "data": {
            "text/plain": [
              "False"
            ]
          },
          "metadata": {},
          "execution_count": 8
        }
      ]
    },
    {
      "cell_type": "code",
      "source": [
        "bool(1)"
      ],
      "metadata": {
        "colab": {
          "base_uri": "https://localhost:8080/"
        },
        "id": "H8IYokB1e68H",
        "outputId": "cb9dc0ae-cf28-4420-8417-e0ba73d5c488"
      },
      "execution_count": null,
      "outputs": [
        {
          "output_type": "execute_result",
          "data": {
            "text/plain": [
              "True"
            ]
          },
          "metadata": {},
          "execution_count": 9
        }
      ]
    },
    {
      "cell_type": "code",
      "source": [
        "a=\"apple\"\n",
        "A=\"orange\"\n",
        "print(a)\n",
        "print(A)"
      ],
      "metadata": {
        "colab": {
          "base_uri": "https://localhost:8080/"
        },
        "id": "22M1V69se5lH",
        "outputId": "c955aeac-bd53-4b84-850d-1d1d50bba273"
      },
      "execution_count": null,
      "outputs": [
        {
          "output_type": "stream",
          "name": "stdout",
          "text": [
            "apple\n",
            "orange\n"
          ]
        }
      ]
    },
    {
      "cell_type": "code",
      "source": [
        "b=int(\"45\")\n",
        "print(type(b))"
      ],
      "metadata": {
        "colab": {
          "base_uri": "https://localhost:8080/"
        },
        "id": "W9Qi1Ai6h0NK",
        "outputId": "336683f4-9da6-459f-86e2-fc1ebcce6b60"
      },
      "execution_count": null,
      "outputs": [
        {
          "output_type": "stream",
          "name": "stdout",
          "text": [
            "<class 'int'>\n"
          ]
        }
      ]
    },
    {
      "cell_type": "code",
      "source": [
        "print?"
      ],
      "metadata": {
        "id": "m9e7pKuKkfUf"
      },
      "execution_count": null,
      "outputs": []
    },
    {
      "cell_type": "code",
      "source": [
        "print(\"This\"), print (\"is\"), print(\"not a single line\")"
      ],
      "metadata": {
        "colab": {
          "base_uri": "https://localhost:8080/"
        },
        "id": "WJusnKQGmhN0",
        "outputId": "5aaab3cb-ae2e-49fb-f109-078fb4906885"
      },
      "execution_count": null,
      "outputs": [
        {
          "output_type": "stream",
          "name": "stdout",
          "text": [
            "This\n",
            "is\n",
            "not a single line\n"
          ]
        },
        {
          "output_type": "execute_result",
          "data": {
            "text/plain": [
              "(None, None, None)"
            ]
          },
          "metadata": {},
          "execution_count": 20
        }
      ]
    },
    {
      "cell_type": "code",
      "source": [
        "#separator works when we have multiple values in a single cell"
      ],
      "metadata": {
        "id": "b0292xnTmrke"
      },
      "execution_count": null,
      "outputs": []
    },
    {
      "cell_type": "code",
      "source": [
        "print(1,2,3,4,sep=\"0\")"
      ],
      "metadata": {
        "colab": {
          "base_uri": "https://localhost:8080/"
        },
        "id": "Ij8w_Y2_m4YO",
        "outputId": "a488ba23-017b-476b-cb13-ad43b62290ee"
      },
      "execution_count": null,
      "outputs": [
        {
          "output_type": "stream",
          "name": "stdout",
          "text": [
            "1020304\n"
          ]
        }
      ]
    },
    {
      "cell_type": "code",
      "source": [
        "print(\"Coding\",\"Classes\",\"for\",\"Python\",sep = \" variable -> \")"
      ],
      "metadata": {
        "colab": {
          "base_uri": "https://localhost:8080/"
        },
        "id": "2-vgbM1AnN-c",
        "outputId": "dd08b6dc-38bc-47ee-df10-493e95098585"
      },
      "execution_count": null,
      "outputs": [
        {
          "output_type": "stream",
          "name": "stdout",
          "text": [
            "Coding variable -> Classes variable -> for variable -> Python\n"
          ]
        }
      ]
    },
    {
      "cell_type": "code",
      "source": [
        "print(\"Check\",\"for\"),print(\"Single Line\")"
      ],
      "metadata": {
        "colab": {
          "base_uri": "https://localhost:8080/"
        },
        "id": "TJoTpDSwnx51",
        "outputId": "0775c064-943c-4092-c59f-21acec094e36"
      },
      "execution_count": null,
      "outputs": [
        {
          "output_type": "stream",
          "name": "stdout",
          "text": [
            "Check for\n",
            "Single Line\n"
          ]
        },
        {
          "output_type": "execute_result",
          "data": {
            "text/plain": [
              "(None, None)"
            ]
          },
          "metadata": {},
          "execution_count": 29
        }
      ]
    },
    {
      "cell_type": "code",
      "source": [
        "user_input = input()\n",
        "print(type(user_input))"
      ],
      "metadata": {
        "colab": {
          "base_uri": "https://localhost:8080/"
        },
        "id": "DoYheYb-omoA",
        "outputId": "8e314cd6-e0b9-4eab-a0b4-e59c99345e9e"
      },
      "execution_count": null,
      "outputs": [
        {
          "output_type": "stream",
          "name": "stdout",
          "text": [
            "2300\n",
            "<class 'str'>\n"
          ]
        }
      ]
    },
    {
      "cell_type": "code",
      "source": [
        "A=input()\n",
        "print(\"Hello\",A)\n",
        "print(\"A\")\n",
        "print(\"B\")\n",
        "print(\"C\")\n",
        "print(\"D\")\n",
        "print(\"E\")\n",
        "print(\"A\"\\nB\")"
      ],
      "metadata": {
        "colab": {
          "base_uri": "https://localhost:8080/",
          "height": 130
        },
        "id": "0VzYum5Yy9cY",
        "outputId": "86cb7651-1ae5-43f1-dc34-c15284d8ce5f"
      },
      "execution_count": null,
      "outputs": [
        {
          "output_type": "error",
          "ename": "SyntaxError",
          "evalue": "ignored",
          "traceback": [
            "\u001b[0;36m  File \u001b[0;32m\"<ipython-input-14-43c64c1155a9>\"\u001b[0;36m, line \u001b[0;32m8\u001b[0m\n\u001b[0;31m    print(\"A\",\\n,\"B\")\u001b[0m\n\u001b[0m                     ^\u001b[0m\n\u001b[0;31mSyntaxError\u001b[0m\u001b[0;31m:\u001b[0m unexpected character after line continuation character\n"
          ]
        }
      ]
    },
    {
      "cell_type": "code",
      "source": [
        "#Excercise7 -- int() by default it gives 0 as result while no argument is passed into the function.\n",
        "print(int())\n",
        "print(int(1))"
      ],
      "metadata": {
        "id": "PWxKj4IZoz5c",
        "colab": {
          "base_uri": "https://localhost:8080/"
        },
        "outputId": "37cbc115-b931-42a7-cfe5-189a2cca5a45"
      },
      "execution_count": null,
      "outputs": [
        {
          "output_type": "stream",
          "name": "stdout",
          "text": [
            "0\n",
            "1\n"
          ]
        }
      ]
    },
    {
      "cell_type": "code",
      "source": [
        "value ='Default Text'\n",
        "try:\n",
        "  int(value)\n",
        "except:\n",
        "  print(\"Unable to convert\", value, \" To an Integer\")"
      ],
      "metadata": {
        "colab": {
          "base_uri": "https://localhost:8080/"
        },
        "id": "gBic0RduvkOJ",
        "outputId": "6e3b08bd-6c5f-47d2-f912-ee26427d4f5f"
      },
      "execution_count": null,
      "outputs": [
        {
          "output_type": "stream",
          "name": "stdout",
          "text": [
            "Unable to convert Default Text  To an Integer\n"
          ]
        }
      ]
    },
    {
      "cell_type": "code",
      "source": [
        "print(int(126.5/5))\n",
        "print(abs(126.5/5))\n",
        "print(int(126.5//5))\n",
        "print(float(126.5/5))\n"
      ],
      "metadata": {
        "colab": {
          "base_uri": "https://localhost:8080/"
        },
        "id": "G2o4VfpFqJWm",
        "outputId": "0036f669-4f96-451a-e277-0efa81003539"
      },
      "execution_count": null,
      "outputs": [
        {
          "output_type": "stream",
          "name": "stdout",
          "text": [
            "25\n",
            "25.3\n",
            "25\n",
            "25.3\n"
          ]
        }
      ]
    },
    {
      "cell_type": "code",
      "source": [
        "N=float(input())\n",
        "print(N)\n",
        "print(type(N))"
      ],
      "metadata": {
        "colab": {
          "base_uri": "https://localhost:8080/"
        },
        "id": "t7786VWzrVsq",
        "outputId": "f3638070-d229-4165-b877-94918d6b3a95"
      },
      "execution_count": null,
      "outputs": [
        {
          "output_type": "stream",
          "name": "stdout",
          "text": [
            "126.5\n",
            "126.5\n",
            "<class 'float'>\n"
          ]
        }
      ]
    },
    {
      "cell_type": "code",
      "source": [
        "not True\n",
        "not False"
      ],
      "metadata": {
        "colab": {
          "base_uri": "https://localhost:8080/"
        },
        "id": "7pn3vDWCxvGX",
        "outputId": "fa22be11-765d-43fb-cc8c-9f9808d981c7"
      },
      "execution_count": 1,
      "outputs": [
        {
          "output_type": "execute_result",
          "data": {
            "text/plain": [
              "True"
            ]
          },
          "metadata": {},
          "execution_count": 1
        }
      ]
    },
    {
      "cell_type": "code",
      "source": [
        "False and False\n",
        "True and True\n",
        "True and False\n",
        "False and True\n"
      ],
      "metadata": {
        "colab": {
          "base_uri": "https://localhost:8080/"
        },
        "id": "ck9ZpKS8x0oL",
        "outputId": "7b2c967a-82f8-4a54-c6c0-b6b76aaa7c75"
      },
      "execution_count": 2,
      "outputs": [
        {
          "output_type": "execute_result",
          "data": {
            "text/plain": [
              "False"
            ]
          },
          "metadata": {},
          "execution_count": 2
        }
      ]
    }
  ]
}