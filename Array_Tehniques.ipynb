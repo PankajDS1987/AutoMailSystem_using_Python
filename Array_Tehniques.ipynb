{
  "nbformat": 4,
  "nbformat_minor": 0,
  "metadata": {
    "colab": {
      "name": "Array Tehniques.ipynb",
      "provenance": [],
      "authorship_tag": "ABX9TyMJcT8/56X8Mp09RXgYnIUr",
      "include_colab_link": true
    },
    "kernelspec": {
      "name": "python3",
      "display_name": "Python 3"
    },
    "language_info": {
      "name": "python"
    }
  },
  "cells": [
    {
      "cell_type": "markdown",
      "metadata": {
        "id": "view-in-github",
        "colab_type": "text"
      },
      "source": [
        "<a href=\"https://colab.research.google.com/github/PankajDS1987/AutoMailSystem_using_Python/blob/master/Array_Tehniques.ipynb\" target=\"_parent\"><img src=\"https://colab.research.google.com/assets/colab-badge.svg\" alt=\"Open In Colab\"/></a>"
      ]
    },
    {
      "cell_type": "markdown",
      "source": [
        "**Must Know Array Techniques - Master Class by Naman Bhalla text**\n"
      ],
      "metadata": {
        "id": "_sseqDfR7wl7"
      }
    },
    {
      "cell_type": "code",
      "source": [
        ""
      ],
      "metadata": {
        "id": "O_tFOV9M78ve"
      },
      "execution_count": null,
      "outputs": []
    },
    {
      "cell_type": "markdown",
      "source": [
        "#Use Case: Store names of all the students who are attending this master class\n",
        "questions--\n",
        "How do we store data -- \n",
        "we use variables to store the data\n",
        "what type of data needs to be stored e.g. string, boolean, double, integer\n",
        "Values get stored as data.\n",
        "e.g. string Student Name = Pankaj\n",
        "string student name -- Lavanaya\n",
        "\n",
        "so we will have to write the code againa and again which makes it quite time taking activity.\n",
        "\n",
        "so, we have Data type (structure) that allows to store a collection of values.\n",
        "ARRAYS -- arranys are a data structure that allows programmers to store a collection of values together. (in layman term understand it as LIST arrays ==list)\n",
        "\n",
        "arrays\n",
        "1 2 4 4 5 6 6 7 8 9 10 11 12\n",
        "---------------------------\n",
        "---------------------------\n",
        "\n",
        "think of above row as aan array -- it can be used to store a collection of data (student names) -- condition is that each data type has to be same \n",
        "\n",
        "\n",
        "**How arrays work internally. **\n",
        "whenever we run a program, all the data in the program is stored in the RAM (memory)\n",
        "--------\n",
        "--------\n",
        "--------\n",
        "--------\n",
        "--------\n",
        "--------\n",
        "imagine above as a memory.\n",
        "an integer takes 4 bytes of data.\n",
        "so when we says (int student name (20))\n",
        "it will consume the size (20 x size of the student name)\n",
        "\n",
        "e.g of roll number \n",
        "int student roll no [5]\n",
        "let's day int is consuming (4 bytes)\n",
        "so it will store data for 5 students (5 x 4 = 20 )\n",
        "\n",
        "RUN time gives you space in the memory\n",
        "\n",
        "so memory starts allocating at memory location (address) \n",
        "e.g if memory has empty space at 225 address\n",
        "values \n",
        "225 to 228 (1st roll nu_\n",
        "229-232\n",
        "232-236\n",
        "237-240\n",
        "241-244 (until 5th roll number)\n",
        "\n",
        "\n",
        "It allows us to get the value at any position very fast. (saves time complexity)\n",
        "\n",
        "e.g. you want to call 4th value (from above list)\n",
        "to find it\n",
        "we know the first element address\n",
        "225 + (4-1)*4 (bytes for each value) \n",
        "225 + 3*4\n",
        "225+12\n",
        "=237 \n",
        "(memory address to locate the 4th element value)\n",
        "\n",
        "so its O(1) access time.\n",
        "\n",
        "Start Address (225) + (Position(4th)-1)* size of Data Type (4 bytes)\n",
        "since in many programming languages indexing starts with 0 \n",
        "so we this 4th element was at position of 3\n",
        "hence, (N-1)\n",
        "\n",
        "Array is a data struture that allows us to store multiple values of same data type.\n",
        "\n",
        "Internally memory each element is stored one after the other (contiguous)\n",
        "\n",
        "This allows to get value at any position in order 1  or O(1) or very fast.\n",
        "\n",
        "Indexing of array in most langauge starts from 0 index\n",
        "e.g. 8 bytes for a value \n",
        "0-7 (memory address index)\n",
        "\n",
        "\n",
        "float value with 8 bytes\n",
        "Starting index at 172 + 8 (for next element)\n",
        "so system can locate any random address which is free\n",
        "so memory will block 172-173-174....179 \n",
        "next elements starts at 180\n",
        "\n",
        "\n",
        "Address of nth position = Start address + n-1 * size of data\n",
        "\n",
        "How to store 44.5 --check IEEE convention to store doubles.\n",
        "\n",
        "In order to store Array (we need 2 details (data type and its size)\n",
        "incase if we don't know the size \n",
        "e.g. we created array for 100 values but requirements increased then we cannot store the data in that array.\n",
        "\n",
        "\n",
        "**ARRAYS are of 2 types**\n",
        "1. Static\n",
        "2. Dynamic\n",
        "\n",
        "\n",
        "\n",
        "\n"
      ],
      "metadata": {
        "id": "Jud--GuN79QA"
      }
    }
  ]
}