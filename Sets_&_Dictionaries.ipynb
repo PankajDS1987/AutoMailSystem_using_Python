{
  "nbformat": 4,
  "nbformat_minor": 0,
  "metadata": {
    "colab": {
      "name": "Sets & Dictionaries.ipynb",
      "provenance": [],
      "collapsed_sections": [],
      "authorship_tag": "ABX9TyO21rH2MfEeuBmfPFZHvx+u",
      "include_colab_link": true
    },
    "kernelspec": {
      "name": "python3",
      "display_name": "Python 3"
    },
    "language_info": {
      "name": "python"
    }
  },
  "cells": [
    {
      "cell_type": "markdown",
      "metadata": {
        "id": "view-in-github",
        "colab_type": "text"
      },
      "source": [
        "<a href=\"https://colab.research.google.com/github/PankajDS1987/AutoMailSystem_using_Python/blob/master/Sets_%26_Dictionaries.ipynb\" target=\"_parent\"><img src=\"https://colab.research.google.com/assets/colab-badge.svg\" alt=\"Open In Colab\"/></a>"
      ]
    },
    {
      "cell_type": "markdown",
      "source": [
        "Sets and *Dictionaries*\n",
        "\n",
        "# In Python Dictionaries are unordered\n",
        "its a Key : Value Pair\n",
        "e.g. Country : Capital\n",
        "Dictionaries are implemented by {}\n",
        "\n",
        "\n",
        "Errors:\n",
        "\n",
        "\n",
        "Error 1:\n",
        "Keyerror: 'Valye' -- this error comes when requested key does not exist in the dictionary\n",
        "\n",
        "Error 2:\n",
        "NameError                                 Traceback (most recent call last)\n",
        "<ipython-input-9-b39ee79efedb> in <module>()\n",
        "      1 # Indexing : it does not work in dictionaries since it does not keep any order so it does not know which key value was entered at first.\n",
        "----> 2 nick_names(0)\n",
        "\n",
        "NameError: name 'nick_names' is not defined"
      ],
      "metadata": {
        "id": "RWo6wuCeaHQp"
      }
    },
    {
      "cell_type": "code",
      "source": [
        "def nickname(name):\n",
        "  if name == \"Pankaj\":\n",
        "    return 'Panku'\n",
        "  elif name == \"Bandna\":\n",
        "    return 'Bandu'  \n",
        "\n",
        "  return nickname"
      ],
      "metadata": {
        "id": "wnRu66VBaJWY"
      },
      "execution_count": 26,
      "outputs": []
    },
    {
      "cell_type": "code",
      "source": [
        "nickname(\"Pankaj\")"
      ],
      "metadata": {
        "colab": {
          "base_uri": "https://localhost:8080/",
          "height": 35
        },
        "id": "BZQCsurNbt_Y",
        "outputId": "6d152349-ef64-46f6-8308-23cf651dbef8"
      },
      "execution_count": 27,
      "outputs": [
        {
          "output_type": "execute_result",
          "data": {
            "text/plain": [
              "'Panku'"
            ],
            "application/vnd.google.colaboratory.intrinsic+json": {
              "type": "string"
            }
          },
          "metadata": {},
          "execution_count": 27
        }
      ]
    },
    {
      "cell_type": "code",
      "source": [
        "#another approach can be using tuples inside list\n",
        "def nicknames (name):\n",
        "  names = [('')]"
      ],
      "metadata": {
        "id": "HACfS1IYfrPC"
      },
      "execution_count": 28,
      "outputs": []
    },
    {
      "cell_type": "code",
      "source": [
        "# Let's understand Dictionary\n",
        "\n",
        "nick_name = {\n",
        "    'Pankaj': 'Panku',\n",
        "    'Bandna': 'Bandu',\n",
        "    'Pritish': 'Prashu',\n",
        "    'Shirish': 'Shishu'\n",
        "  \n",
        "}"
      ],
      "metadata": {
        "id": "EY12j3pAbScz"
      },
      "execution_count": 29,
      "outputs": []
    },
    {
      "cell_type": "code",
      "source": [
        "print(nick_name)"
      ],
      "metadata": {
        "colab": {
          "base_uri": "https://localhost:8080/"
        },
        "id": "aSzd4DKGhw2B",
        "outputId": "2a9fe72b-6cec-4c55-bb59-5bf40eb93e07"
      },
      "execution_count": 30,
      "outputs": [
        {
          "output_type": "stream",
          "name": "stdout",
          "text": [
            "{'Pankaj': 'Panku', 'Bandna': 'Bandu', 'Pritish': 'Prashu', 'Shirish': 'Shishu'}\n"
          ]
        }
      ]
    },
    {
      "cell_type": "code",
      "source": [
        "# Indexing : it does not work in dictionaries since it does not keep any order so it does not know which key value was entered at first.\n",
        "nick_names(0)"
      ],
      "metadata": {
        "colab": {
          "base_uri": "https://localhost:8080/",
          "height": 183
        },
        "id": "kkoDKwgGh_vH",
        "outputId": "e364b995-d23a-4028-a207-b2d306619273"
      },
      "execution_count": 32,
      "outputs": [
        {
          "output_type": "error",
          "ename": "NameError",
          "evalue": "ignored",
          "traceback": [
            "\u001b[0;31m---------------------------------------------------------------------------\u001b[0m",
            "\u001b[0;31mNameError\u001b[0m                                 Traceback (most recent call last)",
            "\u001b[0;32m<ipython-input-32-b39ee79efedb>\u001b[0m in \u001b[0;36m<module>\u001b[0;34m()\u001b[0m\n\u001b[1;32m      1\u001b[0m \u001b[0;31m# Indexing : it does not work in dictionaries since it does not keep any order so it does not know which key value was entered at first.\u001b[0m\u001b[0;34m\u001b[0m\u001b[0;34m\u001b[0m\u001b[0;34m\u001b[0m\u001b[0m\n\u001b[0;32m----> 2\u001b[0;31m \u001b[0mnick_names\u001b[0m\u001b[0;34m(\u001b[0m\u001b[0;36m0\u001b[0m\u001b[0;34m)\u001b[0m\u001b[0;34m\u001b[0m\u001b[0;34m\u001b[0m\u001b[0m\n\u001b[0m",
            "\u001b[0;31mNameError\u001b[0m: name 'nick_names' is not defined"
          ]
        }
      ]
    },
    {
      "cell_type": "code",
      "source": [
        "# INSERT\n",
        "\n",
        "nick_name ['Mikul']= 'Micky'\n",
        "nick_name ['Ajeet'] = 'Pinku'\n",
        "\n"
      ],
      "metadata": {
        "id": "_11aHBO2iTEh"
      },
      "execution_count": 33,
      "outputs": []
    },
    {
      "cell_type": "code",
      "source": [
        "# UPDATE\n",
        "# if we try to reinsert the key:value it would undo the previous one and put the new one. We can update the Value but not the key -- it overrides the previous value\n",
        "# If we have to update a key then we need to delete it first and then reinsert the key with correct INPUT\n",
        "# Key is always unique -- you can generally have 2 same names in the class however in dictionary you would need to put something along withe key and make it unique\n",
        "# We can give default values in order to avoid NONE\n",
        "\n",
        "nick_name ['Mikul']= 'Micki'\n",
        "\n"
      ],
      "metadata": {
        "id": "8i8j1ih8jVWw"
      },
      "execution_count": 34,
      "outputs": []
    },
    {
      "cell_type": "code",
      "source": [
        "print(nick_name)"
      ],
      "metadata": {
        "id": "sm-oUvsJi4Wr"
      },
      "execution_count": null,
      "outputs": []
    },
    {
      "cell_type": "code",
      "source": [
        "# GET VALUE\n",
        "# If Key exists but value doesn't then it would return None\n",
        "\n",
        "print(nick_name.get(\"Pankaj\"))\n",
        "nick_name['Shirish']\n"
      ],
      "metadata": {
        "id": "P68A1oRPjtJI"
      },
      "execution_count": null,
      "outputs": []
    },
    {
      "cell_type": "code",
      "source": [
        "# Assigning Multiple Values to a key - this could be achived by giving the values inside a list.\n",
        "nick_name ['Random']=['Babu','Kaka','Munnu']\n",
        "nick_name['Random']"
      ],
      "metadata": {
        "colab": {
          "base_uri": "https://localhost:8080/"
        },
        "id": "xR9xKCa0mz0d",
        "outputId": "e3b4efc7-c86e-4f70-8e42-6af2500c9fd4"
      },
      "execution_count": 38,
      "outputs": [
        {
          "output_type": "execute_result",
          "data": {
            "text/plain": [
              "['Babu', 'Kaka', 'Munnu']"
            ]
          },
          "metadata": {},
          "execution_count": 38
        }
      ]
    },
    {
      "cell_type": "code",
      "source": [
        "# Length of a Dictionary : its returned as per the sum of the keys inside the dictionary.\n",
        "print(len(nick_name))"
      ],
      "metadata": {
        "id": "UZQJfc98p-FT"
      },
      "execution_count": null,
      "outputs": []
    },
    {
      "cell_type": "code",
      "source": [
        "nick_name.pop('Ajeet','Shirish')\n",
        "# This would pop the first value only not the second one."
      ],
      "metadata": {
        "id": "XBL28vW8-YPB"
      },
      "execution_count": null,
      "outputs": []
    },
    {
      "cell_type": "code",
      "source": [
        "print(nick_name)"
      ],
      "metadata": {
        "id": "qENXzhsa-jf7"
      },
      "execution_count": null,
      "outputs": []
    },
    {
      "cell_type": "code",
      "source": [
        "#Keys of Dict\n",
        "print(nick_name.keys())\n",
        "\n",
        "print() # printing empty line to keep a space between\n",
        "for keys in nick_name:\n",
        "  print(keys, end = \" \") \n",
        "\n",
        "print() # printing empty line to keep a space between\n",
        "for i in nick_name.keys():\n",
        "  print(i, end = \" \") "
      ],
      "metadata": {
        "id": "4Wq8IvZnB4oz"
      },
      "execution_count": null,
      "outputs": []
    },
    {
      "cell_type": "code",
      "source": [
        "# IN OPERATOR\n",
        "\"Pritish\" in nick_name"
      ],
      "metadata": {
        "colab": {
          "base_uri": "https://localhost:8080/"
        },
        "id": "hV0kCHCySDYS",
        "outputId": "91dbb81c-25da-4d6b-c7de-56bbd3a0f1ff"
      },
      "execution_count": 37,
      "outputs": [
        {
          "output_type": "execute_result",
          "data": {
            "text/plain": [
              "True"
            ]
          },
          "metadata": {},
          "execution_count": 37
        }
      ]
    },
    {
      "cell_type": "code",
      "source": [
        "Devices = {\n",
        "    \"Pankaj\": [\"Laptop\",\"Mobile\",\"Power Bank\",\"Dock\"],\n",
        "    \"Pritish\": [\"Laptop\",\"Mobile\",\"Table\"],\n",
        "    \"Mikul\": ['Books',\"Table\"]\n",
        "}"
      ],
      "metadata": {
        "id": "SwZK_dLzSanG"
      },
      "execution_count": 39,
      "outputs": []
    },
    {
      "cell_type": "code",
      "source": [
        "Devices.get('Bandna',['Mobile'])\n",
        "#its getting the mobile value as it exists in the dictionary"
      ],
      "metadata": {
        "colab": {
          "base_uri": "https://localhost:8080/"
        },
        "id": "n96ppyZWTZUk",
        "outputId": "60a4995b-3216-4872-a421-8b22f0bb461c"
      },
      "execution_count": 40,
      "outputs": [
        {
          "output_type": "execute_result",
          "data": {
            "text/plain": [
              "['Mobile']"
            ]
          },
          "metadata": {},
          "execution_count": 40
        }
      ]
    },
    {
      "cell_type": "code",
      "source": [
        "Devices['Bandna']"
      ],
      "metadata": {
        "colab": {
          "base_uri": "https://localhost:8080/",
          "height": 165
        },
        "id": "4_YseG1tTdDV",
        "outputId": "5e280100-8c23-4796-c8d4-4472bf8735d0"
      },
      "execution_count": 41,
      "outputs": [
        {
          "output_type": "error",
          "ename": "KeyError",
          "evalue": "ignored",
          "traceback": [
            "\u001b[0;31m---------------------------------------------------------------------------\u001b[0m",
            "\u001b[0;31mKeyError\u001b[0m                                  Traceback (most recent call last)",
            "\u001b[0;32m<ipython-input-41-73789f23c3a1>\u001b[0m in \u001b[0;36m<module>\u001b[0;34m()\u001b[0m\n\u001b[0;32m----> 1\u001b[0;31m \u001b[0mDevices\u001b[0m\u001b[0;34m[\u001b[0m\u001b[0;34m'Bandna'\u001b[0m\u001b[0;34m]\u001b[0m\u001b[0;34m\u001b[0m\u001b[0;34m\u001b[0m\u001b[0m\n\u001b[0m",
            "\u001b[0;31mKeyError\u001b[0m: 'Bandna'"
          ]
        }
      ]
    },
    {
      "cell_type": "markdown",
      "source": [
        "# Given a String , print the charcaters and their count\n",
        "\n",
        "input = 'Woolf Neovarsity'\n",
        "\n",
        "print\n",
        "\n",
        "W-1\n",
        "0-3\n",
        "l-1\n",
        "f-1\n",
        "' '-1\n",
        "N-1\n",
        "e-1\n",
        "v-1\n",
        "a-1\n",
        "r-1\n",
        "s-1\n",
        "i-1\n",
        "t-1\n",
        "y-1\n",
        "\n",
        "\n"
      ],
      "metadata": {
        "id": "ponp68YNT8_g"
      }
    },
    {
      "cell_type": "code",
      "source": [
        "s1 = 'Woolf Neovarsity'\n",
        "freq={}\n",
        "for i in s1:\n",
        "  if i in freq:\n",
        "    freq[i] = freq [i] + 1\n",
        "  else:\n",
        "     freq[i] = 1\n",
        "print(freq)"
      ],
      "metadata": {
        "colab": {
          "base_uri": "https://localhost:8080/"
        },
        "id": "WbI0zyjLT_Ab",
        "outputId": "dbb56fb4-fb02-4426-937e-c2eb8c615890"
      },
      "execution_count": 44,
      "outputs": [
        {
          "output_type": "stream",
          "name": "stdout",
          "text": [
            "{'W': 1, 'o': 3, 'l': 1, 'f': 1, ' ': 1, 'N': 1, 'e': 1, 'v': 1, 'a': 1, 'r': 1, 's': 1, 'i': 1, 't': 1, 'y': 1}\n"
          ]
        }
      ]
    },
    {
      "cell_type": "code",
      "source": [
        "test = \"this is a test string\"\n",
        "ed={}\n",
        "for i in test:\n",
        "  ed[i]=1\n",
        "print(ed)"
      ],
      "metadata": {
        "colab": {
          "base_uri": "https://localhost:8080/"
        },
        "id": "Ikq1R9Tg8nX0",
        "outputId": "bbc5b803-0e14-4d92-a3a9-13cd82baf558"
      },
      "execution_count": 48,
      "outputs": [
        {
          "output_type": "stream",
          "name": "stdout",
          "text": [
            "{'t': 1, 'h': 1, 'i': 1, 's': 1, ' ': 1, 'a': 1, 'e': 1, 'r': 1, 'n': 1, 'g': 1}\n"
          ]
        }
      ]
    },
    {
      "cell_type": "code",
      "source": [
        "test1 = \"this is a test string\"\n",
        "ed1={}\n",
        "for i in test:\n",
        "  if i in ed1:\n",
        "    ed1[i]=ed1[i]+1\n",
        "# remember we can change value not the key within a dict.\n",
        "# [''] so whatever is inside - this syntax would fetch the value of that key, so when t comes first time - value is 1 , then it falls in if condition ed1[i] = 1 , so we are doing 1+1 or ed[i]+1\n",
        "  else:\n",
        "    ed1[i]=1\n",
        "print(ed1)"
      ],
      "metadata": {
        "colab": {
          "base_uri": "https://localhost:8080/"
        },
        "id": "Rayt-vtm9gSM",
        "outputId": "f1c22b91-0863-44c8-bc91-0f326ee6006b"
      },
      "execution_count": 50,
      "outputs": [
        {
          "output_type": "stream",
          "name": "stdout",
          "text": [
            "{'t': 4, 'h': 1, 'i': 3, 's': 4, ' ': 4, 'a': 1, 'e': 1, 'r': 1, 'n': 1, 'g': 1}\n"
          ]
        }
      ]
    },
    {
      "cell_type": "code",
      "source": [
        "print(ed['a'])\n",
        "#when we are asking to print 'a' which is a key - it gives its value as the output so in earlier we "
      ],
      "metadata": {
        "colab": {
          "base_uri": "https://localhost:8080/"
        },
        "id": "XfX3M5iu-lqt",
        "outputId": "02c2939b-1349-4011-ea46-1cc9f0e5c805"
      },
      "execution_count": 51,
      "outputs": [
        {
          "output_type": "stream",
          "name": "stdout",
          "text": [
            "1\n"
          ]
        }
      ]
    },
    {
      "cell_type": "markdown",
      "source": [
        "**SETS**\n",
        "Sets are Group of Unique elements.\n",
        "\n",
        "Set1 and Set 2 \n",
        "VENN Diagram\n",
        "UNION\n",
        "\n",
        "Difference S1-S2 = remove the common\n",
        "make 2 different sets\n"
      ],
      "metadata": {
        "id": "UJ3YlazlEVPF"
      }
    },
    {
      "cell_type": "code",
      "source": [
        "# INITIALIZATION\n",
        "set2 ={} \n",
        "#set2 is an empty dictionary\n",
        "\n",
        "# Create Empty Set \n",
        "set1= set()\n",
        "# Create Set with values - we use curly braces to create set-- for empty set we have to use set function \n",
        "set3={11,22,33}\n"
      ],
      "metadata": {
        "id": "csE8aYFtG06y"
      },
      "execution_count": 52,
      "outputs": []
    },
    {
      "cell_type": "code",
      "source": [
        "print(type(set1), set1)\n",
        "print(type(set2), set2)\n",
        "print(type(set3), set3)"
      ],
      "metadata": {
        "colab": {
          "base_uri": "https://localhost:8080/"
        },
        "id": "oprmbDaWIxNU",
        "outputId": "ea22a527-d9d1-451f-8ff4-2af411961fb6"
      },
      "execution_count": 54,
      "outputs": [
        {
          "output_type": "stream",
          "name": "stdout",
          "text": [
            "<class 'set'> set()\n",
            "<class 'dict'> {}\n",
            "<class 'set'> {33, 11, 22}\n"
          ]
        }
      ]
    },
    {
      "cell_type": "code",
      "source": [
        "s4 = {1,2,3,4,4,5,3,5}\n",
        "print(s4)\n",
        "# So sets would remove the duplicte elements itself, this is the beauty or power of sets - we can use sets in some operations where we have to ensure there are no duplicates."
      ],
      "metadata": {
        "colab": {
          "base_uri": "https://localhost:8080/"
        },
        "id": "7bGaJ3kRJGYo",
        "outputId": "e0252dff-563a-43e3-c8da-36cbe1c68984"
      },
      "execution_count": 56,
      "outputs": [
        {
          "output_type": "stream",
          "name": "stdout",
          "text": [
            "{1, 2, 3, 4, 5}\n"
          ]
        }
      ]
    },
    {
      "cell_type": "code",
      "source": [
        "# INDEXING - Sets just like dictionary are not ordered so it wouldn't get any output when try to get value - so the TYPE ERROR\n",
        "s4[2]\n",
        "set3[1]\n",
        "set1[0]"
      ],
      "metadata": {
        "colab": {
          "base_uri": "https://localhost:8080/",
          "height": 217
        },
        "id": "UEowjTZuG4Hz",
        "outputId": "63d3b3d2-20b9-45c2-cc2e-0da4618214c2"
      },
      "execution_count": 57,
      "outputs": [
        {
          "output_type": "error",
          "ename": "TypeError",
          "evalue": "ignored",
          "traceback": [
            "\u001b[0;31m---------------------------------------------------------------------------\u001b[0m",
            "\u001b[0;31mTypeError\u001b[0m                                 Traceback (most recent call last)",
            "\u001b[0;32m<ipython-input-57-2681bb4342b0>\u001b[0m in \u001b[0;36m<module>\u001b[0;34m()\u001b[0m\n\u001b[1;32m      1\u001b[0m \u001b[0;31m# INDEXING\u001b[0m\u001b[0;34m\u001b[0m\u001b[0;34m\u001b[0m\u001b[0;34m\u001b[0m\u001b[0m\n\u001b[0;32m----> 2\u001b[0;31m \u001b[0ms4\u001b[0m\u001b[0;34m[\u001b[0m\u001b[0;36m2\u001b[0m\u001b[0;34m]\u001b[0m\u001b[0;34m\u001b[0m\u001b[0;34m\u001b[0m\u001b[0m\n\u001b[0m\u001b[1;32m      3\u001b[0m \u001b[0mset3\u001b[0m\u001b[0;34m[\u001b[0m\u001b[0;36m1\u001b[0m\u001b[0;34m]\u001b[0m\u001b[0;34m\u001b[0m\u001b[0;34m\u001b[0m\u001b[0m\n\u001b[1;32m      4\u001b[0m \u001b[0mset1\u001b[0m\u001b[0;34m[\u001b[0m\u001b[0;36m0\u001b[0m\u001b[0;34m]\u001b[0m\u001b[0;34m\u001b[0m\u001b[0;34m\u001b[0m\u001b[0m\n",
            "\u001b[0;31mTypeError\u001b[0m: 'set' object is not subscriptable"
          ]
        }
      ]
    },
    {
      "cell_type": "code",
      "source": [
        "#INSERT\n",
        "colors ={'Red','White','Black','Yellow'}\n",
        "print(colors)"
      ],
      "metadata": {
        "colab": {
          "base_uri": "https://localhost:8080/"
        },
        "id": "Xg-Q8GahG-xu",
        "outputId": "14294b4b-105d-4ab3-f5a6-8c2ee6b3487e"
      },
      "execution_count": 58,
      "outputs": [
        {
          "output_type": "stream",
          "name": "stdout",
          "text": [
            "{'Black', 'Red', 'White', 'Yellow'}\n"
          ]
        }
      ]
    },
    {
      "cell_type": "code",
      "source": [
        "# with add function we can only add one value at a time.\n",
        "colors.add('Green','Orange')\n",
        "print(colors)\n",
        "#we will get the error: TypeError: add() takes exactly one argument (2 given)\n",
        "\n"
      ],
      "metadata": {
        "colab": {
          "base_uri": "https://localhost:8080/",
          "height": 235
        },
        "id": "nlR1V7IIKr55",
        "outputId": "90043de1-dcd7-4cbd-ed67-6d5b5ec74140"
      },
      "execution_count": 60,
      "outputs": [
        {
          "output_type": "error",
          "ename": "TypeError",
          "evalue": "ignored",
          "traceback": [
            "\u001b[0;31m---------------------------------------------------------------------------\u001b[0m",
            "\u001b[0;31mTypeError\u001b[0m                                 Traceback (most recent call last)",
            "\u001b[0;32m<ipython-input-60-7b87e0f91f6d>\u001b[0m in \u001b[0;36m<module>\u001b[0;34m()\u001b[0m\n\u001b[1;32m      1\u001b[0m \u001b[0;31m# with add function we can only add one value at a time.\u001b[0m\u001b[0;34m\u001b[0m\u001b[0;34m\u001b[0m\u001b[0;34m\u001b[0m\u001b[0m\n\u001b[0;32m----> 2\u001b[0;31m \u001b[0mcolors\u001b[0m\u001b[0;34m.\u001b[0m\u001b[0madd\u001b[0m\u001b[0;34m(\u001b[0m\u001b[0;34m'Green'\u001b[0m\u001b[0;34m,\u001b[0m\u001b[0;34m'Orange'\u001b[0m\u001b[0;34m)\u001b[0m\u001b[0;34m\u001b[0m\u001b[0;34m\u001b[0m\u001b[0m\n\u001b[0m\u001b[1;32m      3\u001b[0m \u001b[0mprint\u001b[0m\u001b[0;34m(\u001b[0m\u001b[0mcolors\u001b[0m\u001b[0;34m)\u001b[0m\u001b[0;34m\u001b[0m\u001b[0;34m\u001b[0m\u001b[0m\n\u001b[1;32m      4\u001b[0m \u001b[0;31m#we will get the error: TypeError: add() takes exactly one argument (2 given)\u001b[0m\u001b[0;34m\u001b[0m\u001b[0;34m\u001b[0m\u001b[0;34m\u001b[0m\u001b[0m\n\u001b[1;32m      5\u001b[0m \u001b[0mcolors\u001b[0m\u001b[0;34m.\u001b[0m\u001b[0madd\u001b[0m\u001b[0;34m(\u001b[0m\u001b[0;34m'Green'\u001b[0m\u001b[0;34m)\u001b[0m\u001b[0;34m\u001b[0m\u001b[0;34m\u001b[0m\u001b[0m\n",
            "\u001b[0;31mTypeError\u001b[0m: add() takes exactly one argument (2 given)"
          ]
        }
      ]
    },
    {
      "cell_type": "code",
      "source": [
        "colors.add('Green')\n",
        "colors.add('Orange')\n",
        "print(colors)"
      ],
      "metadata": {
        "colab": {
          "base_uri": "https://localhost:8080/"
        },
        "id": "_S7laZ_eNFSz",
        "outputId": "70a37acf-0585-45d9-92e2-aa01e84b21cc"
      },
      "execution_count": 61,
      "outputs": [
        {
          "output_type": "stream",
          "name": "stdout",
          "text": [
            "{'Orange', 'Green', 'Black', 'Red', 'White', 'Yellow'}\n"
          ]
        }
      ]
    },
    {
      "cell_type": "code",
      "source": [
        "# UPDATE - \n",
        "colors.update('Skyblue','Purple','Brown')\n",
        "print(colors)\n",
        "# So you would need to update the multiple values inside a list with braces."
      ],
      "metadata": {
        "colab": {
          "base_uri": "https://localhost:8080/"
        },
        "id": "oBq2Tuq8MzdO",
        "outputId": "b6af1329-e61a-4f74-b070-273516110886"
      },
      "execution_count": 64,
      "outputs": [
        {
          "output_type": "stream",
          "name": "stdout",
          "text": [
            "{'w', 'e', 'k', 'Skyblue', 'n', 'White', 'Purple', 'o', 'Red', 'y', 'l', 'r', 'Orange', 'Green', 'Brown', 'u', 'p', 'B', 'S', 'b', 'Black', 'P', 'Yellow'}\n"
          ]
        }
      ]
    },
    {
      "cell_type": "code",
      "source": [
        "colors.update(['Skyblue','Purple','Brown'])\n",
        "print(colors)"
      ],
      "metadata": {
        "colab": {
          "base_uri": "https://localhost:8080/"
        },
        "id": "ZVv8vkiWNW7d",
        "outputId": "80f8bb6a-18e2-4ff8-a001-01a5dd06bcd0"
      },
      "execution_count": 63,
      "outputs": [
        {
          "output_type": "stream",
          "name": "stdout",
          "text": [
            "{'w', 'e', 'k', 'Skyblue', 'n', 'White', 'Purple', 'o', 'Red', 'y', 'l', 'r', 'Orange', 'Green', 'Brown', 'u', 'p', 'B', 'S', 'b', 'Black', 'P', 'Yellow'}\n"
          ]
        }
      ]
    },
    {
      "cell_type": "code",
      "source": [
        "# Delete (.remove) - this function takes one argument only.\n",
        "colors.remove('w')\n",
        "print(colors)\n"
      ],
      "metadata": {
        "colab": {
          "base_uri": "https://localhost:8080/"
        },
        "id": "EhQmDHODHBZl",
        "outputId": "267ad5a5-be8f-4b83-ed60-ecc8f96212b3"
      },
      "execution_count": 66,
      "outputs": [
        {
          "output_type": "stream",
          "name": "stdout",
          "text": [
            "{'e', 'k', 'Skyblue', 'n', 'White', 'Purple', 'o', 'Red', 'y', 'l', 'r', 'Orange', 'Green', 'Brown', 'u', 'p', 'B', 'S', 'b', 'Black', 'P', 'Yellow'}\n"
          ]
        }
      ]
    },
    {
      "cell_type": "code",
      "source": [
        ""
      ],
      "metadata": {
        "id": "RjQgZ878HInG"
      },
      "execution_count": null,
      "outputs": []
    },
    {
      "cell_type": "code",
      "source": [
        "# PRINT\n",
        "for i in colors:\n",
        "  print(i, end = ' ')"
      ],
      "metadata": {
        "colab": {
          "base_uri": "https://localhost:8080/"
        },
        "id": "bjug2AvUHJ8j",
        "outputId": "7ab8484c-d8f8-458e-f830-d7c964d64e7f"
      },
      "execution_count": 67,
      "outputs": [
        {
          "output_type": "stream",
          "name": "stdout",
          "text": [
            "e k Skyblue n White Purple o Red y l r Orange Green Brown u p B S b Black P Yellow "
          ]
        }
      ]
    },
    {
      "cell_type": "code",
      "source": [
        "# Intersections, Union, Difference (optional)\n",
        "\n",
        "fruits = {'Papaya','Kiwi','Pomegranate','Apple','Watermelon','DragonFruit','Litchi'}\n",
        "Healthy_fruits = {'Kiwi','Pomegrante','Orange','Apple'} \n"
      ],
      "metadata": {
        "id": "9JUylyzoHLHf"
      },
      "execution_count": 68,
      "outputs": []
    },
    {
      "cell_type": "code",
      "source": [
        "fruits.intersection(Healthy_fruits)\n",
        "#intersection would give us the common elements between sets"
      ],
      "metadata": {
        "colab": {
          "base_uri": "https://localhost:8080/"
        },
        "id": "PbgvVgMZPsgx",
        "outputId": "7f3bfe04-86b1-468d-f36a-3012528c860b"
      },
      "execution_count": 70,
      "outputs": [
        {
          "output_type": "execute_result",
          "data": {
            "text/plain": [
              "{'Apple', 'Kiwi'}"
            ]
          },
          "metadata": {},
          "execution_count": 70
        }
      ]
    },
    {
      "cell_type": "code",
      "source": [
        "# Union would give us the unique value while combining both the sets\n",
        "fruits.union(Healthy_fruits)"
      ],
      "metadata": {
        "colab": {
          "base_uri": "https://localhost:8080/"
        },
        "id": "pt00u50HQSfu",
        "outputId": "e95d39c7-9af6-435b-c3b6-5b1784d8cce8"
      },
      "execution_count": 71,
      "outputs": [
        {
          "output_type": "execute_result",
          "data": {
            "text/plain": [
              "{'Apple',\n",
              " 'DragonFruit',\n",
              " 'Kiwi',\n",
              " 'Litchi',\n",
              " 'Orange',\n",
              " 'Papaya',\n",
              " 'Pomegranate',\n",
              " 'Pomegrante',\n",
              " 'Watermelon'}"
            ]
          },
          "metadata": {},
          "execution_count": 71
        }
      ]
    },
    {
      "cell_type": "code",
      "source": [
        "items = fruits.union(Healthy_fruits)\n",
        "print(type(items), items)"
      ],
      "metadata": {
        "colab": {
          "base_uri": "https://localhost:8080/"
        },
        "id": "h7QCXElVQh4N",
        "outputId": "ce0a7431-8658-426f-87a7-4ca840228d20"
      },
      "execution_count": 72,
      "outputs": [
        {
          "output_type": "stream",
          "name": "stdout",
          "text": [
            "<class 'set'> {'Orange', 'Watermelon', 'Papaya', 'Litchi', 'Pomegranate', 'Apple', 'Pomegrante', 'Kiwi', 'DragonFruit'}\n"
          ]
        }
      ]
    },
    {
      "cell_type": "code",
      "source": [
        "# difference would give us the uncommon values by removing the common values.\n",
        "t = fruits.difference(Healthy_fruits)\n",
        "print(t)\n",
        "# this would give us  fruits by removing common values as with healthy fruits."
      ],
      "metadata": {
        "colab": {
          "base_uri": "https://localhost:8080/"
        },
        "id": "cdQ-SlMKQ1w7",
        "outputId": "76b99b0c-73d2-468b-9864-0deef98284fa"
      },
      "execution_count": 73,
      "outputs": [
        {
          "output_type": "stream",
          "name": "stdout",
          "text": [
            "{'Watermelon', 'Papaya', 'Litchi', 'Pomegranate', 'DragonFruit'}\n"
          ]
        }
      ]
    },
    {
      "cell_type": "code",
      "source": [
        "print(Healthy_fruits.difference(fruits))\n",
        "# this would give us Healthy fruits from healthy fruits list by removing the common fruits "
      ],
      "metadata": {
        "colab": {
          "base_uri": "https://localhost:8080/"
        },
        "id": "W1HhU5NNRZ_G",
        "outputId": "4aa07a69-0be6-40ae-c6b3-42873e57858c"
      },
      "execution_count": 74,
      "outputs": [
        {
          "output_type": "stream",
          "name": "stdout",
          "text": [
            "{'Orange', 'Pomegrante'}\n"
          ]
        }
      ]
    },
    {
      "cell_type": "code",
      "source": [
        "# we can use minus symbol to get the difference \n",
        "fruits - Healthy_fruits\n"
      ],
      "metadata": {
        "colab": {
          "base_uri": "https://localhost:8080/"
        },
        "id": "vol5ZomXSPAM",
        "outputId": "99c2aaa8-54f0-4668-dbb6-532225597dba"
      },
      "execution_count": 77,
      "outputs": [
        {
          "output_type": "execute_result",
          "data": {
            "text/plain": [
              "{'DragonFruit', 'Litchi', 'Papaya', 'Pomegranate', 'Watermelon'}"
            ]
          },
          "metadata": {},
          "execution_count": 77
        }
      ]
    },
    {
      "cell_type": "code",
      "source": [
        "Healthy_fruits - fruits"
      ],
      "metadata": {
        "colab": {
          "base_uri": "https://localhost:8080/"
        },
        "id": "goKvTr0XSo_u",
        "outputId": "7f8987c0-a92f-497c-847a-bf685d7cf4c0"
      },
      "execution_count": 78,
      "outputs": [
        {
          "output_type": "execute_result",
          "data": {
            "text/plain": [
              "{'Orange', 'Pomegrante'}"
            ]
          },
          "metadata": {},
          "execution_count": 78
        }
      ]
    },
    {
      "cell_type": "markdown",
      "source": [
        "Given two strings, find the unique characters that are there in the first string but not in the second string."
      ],
      "metadata": {
        "id": "2mFp_88aSL23"
      }
    },
    {
      "cell_type": "code",
      "source": [
        "string_1 = \"Fundamentals used in attempt of Long Term Investments\"\n",
        "string_2 = \"Fundamentals of Options Trading\"\n"
      ],
      "metadata": {
        "id": "tcLOIOhpTU7l"
      },
      "execution_count": 87,
      "outputs": []
    },
    {
      "cell_type": "code",
      "source": [
        "def solution(string_1,string_2):\n",
        "  s1 = set(string_1)\n",
        "  s2 = set(string_2)\n",
        "\n",
        "  s_diff = s1-s2\n",
        "  return list(s_diff)"
      ],
      "metadata": {
        "id": "C_pJhfr0TtUO"
      },
      "execution_count": 84,
      "outputs": []
    },
    {
      "cell_type": "code",
      "source": [
        "a = solution(string_1,string_2)\n",
        "print(a)\n",
        "# it checks for each character and returns the chars not present in set2 but present in set 1"
      ],
      "metadata": {
        "colab": {
          "base_uri": "https://localhost:8080/"
        },
        "id": "LE2K7IvyUNsE",
        "outputId": "c1197d38-008f-410c-9c17-371523f619ee"
      },
      "execution_count": 89,
      "outputs": [
        {
          "output_type": "stream",
          "name": "stdout",
          "text": [
            "['v', 'L', 'I']\n"
          ]
        }
      ]
    }
  ]
}