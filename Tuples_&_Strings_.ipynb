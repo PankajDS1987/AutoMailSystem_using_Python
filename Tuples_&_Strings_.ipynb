{
  "cells": [
    {
      "cell_type": "markdown",
      "metadata": {
        "id": "view-in-github",
        "colab_type": "text"
      },
      "source": [
        "<a href=\"https://colab.research.google.com/github/PankajDS1987/AutoMailSystem_using_Python/blob/master/Tuples_%26_Strings_.ipynb\" target=\"_parent\"><img src=\"https://colab.research.google.com/assets/colab-badge.svg\" alt=\"Open In Colab\"/></a>"
      ]
    },
    {
      "cell_type": "markdown",
      "metadata": {
        "id": "9mu1QKfXmS8V"
      },
      "source": [
        "# LISTS are mutable - you can change (modify/remove) data within list\n",
        "#TUPLES are immutable data types - these are generally used where we don't have to change the data e.g. defining a week or year or planets or some record that you would not want to be changed. \n",
        "\n",
        "You can not change the data as in the case of list \n",
        "e.g ls[o] = \"syt\"\n"
      ]
    },
    {
      "cell_type": "markdown",
      "source": [
        "**Operation  - Time**\n",
        "\n",
        "**Index -  O(1)** - order of 1 since we are finding one element\n",
        "**Slice - 0(k)** - order of K - K being the element - give it the index and it would returb back the elemtn\n",
        "in operator (n) - Order of n - as it would go through the n elements present in the tuple.\n",
        "\n",
        "best case when its at the first index that was requested\n",
        "worst is when element is not there - as it would go through entire typle\n"
      ],
      "metadata": {
        "id": "3mvTtXa4ydLi"
      }
    },
    {
      "cell_type": "markdown",
      "source": [
        ""
      ],
      "metadata": {
        "id": "g2h6UbydzlLT"
      }
    },
    {
      "cell_type": "markdown",
      "source": [
        "![image.png]( )"
      ],
      "metadata": {
        "id": "60_zYnsLzbxX"
      }
    },
    {
      "cell_type": "markdown",
      "source": [
        "Tuple Characterstics\n",
        "\n",
        "when we create a tuple and deletes it -- this results in memory fragmentation\n",
        "\n",
        "To reduce memory fragmentation and for performance, Python tuples are reused (i.e.) the memory id of the previously cleared tuples of the same size is used for a new tuple\n",
        "\n",
        "e.g.\n",
        "\n",
        "tup = (2,3,11)\n",
        "print(id(tup))\n",
        "\n",
        "tup1 =(4.5.34)\n",
        "print(id(tup1))\n",
        "\n",
        "it may be same ... generally python does to avoid overallocate\n",
        "when the size is same - it tries to give same size free tuple earlier created\n",
        "\n"
      ],
      "metadata": {
        "id": "3Ymk_bfiySLB"
      }
    },
    {
      "cell_type": "markdown",
      "source": [
        "# **Conclusion:**\n",
        "\n",
        "**Use the appropriate data structure for the appropriate purpose.**\n",
        "e.g if you requirement is  to change the data/collection regularly then go for LIST -without any choice\n",
        "\n",
        "if the collection has to remain same -would not be changed\n",
        "then select TUPLE -- e.g. defining a calendar etc.\n",
        "\n",
        "**Returning collection from function, use a tuple**\n",
        "e.g . if you have to return a collection from the function - use TUPLE instead of LIST \n",
        "there is no point of wasting the memory operation to make it expensive.\n",
        "because no change in the data is going to happen when processing in the function.\n",
        "if you don't make tuple and just give values like 1,2,3,4 the PYTHON would itself make it a tuple and give it back.\n",
        "\n",
        "\n",
        "**List are more complex to implement and hence need 3000+ lines of code while TUPLE requires only 1000 lines of code**"
      ],
      "metadata": {
        "id": "Oq9B0oWm0oG8"
      }
    },
    {
      "cell_type": "code",
      "execution_count": null,
      "metadata": {
        "id": "AmXUQbUK5kHR"
      },
      "outputs": [],
      "source": [
        ""
      ]
    },
    {
      "cell_type": "code",
      "execution_count": null,
      "metadata": {
        "colab": {
          "base_uri": "https://localhost:8080/"
        },
        "id": "qpwLQrabIz5U",
        "outputId": "8d071e45-3a22-44b8-da3d-e83431a7511c"
      },
      "outputs": [
        {
          "name": "stdout",
          "output_type": "stream",
          "text": [
            "<class 'tuple'>\n",
            "<class 'str'>\n",
            "<class 'int'>\n",
            "<class 'tuple'>\n",
            "<class 'tuple'>\n",
            "<class 'tuple'>\n"
          ]
        }
      ],
      "source": [
        "t = (\"Rahul\", \"Pankaj\")\n",
        "print(type(t))\n",
        "\n",
        "et=(\"Rahul\")\n",
        "print(type(et))\n",
        "\n",
        "tup=(11)\n",
        "print(type(tup))\n",
        "\n",
        "tuple1=()\n",
        "print(type(tuple1))\n",
        "\n",
        "tuple2=(\"Pankaj\",)\n",
        "print(type(tuple2))\n",
        "\n",
        "tuple3 = (11,)\n",
        "print(type(tuple3))\n",
        "\n",
        "#by using comma we tell it that there can be another value coming in future though we are assigning single value at this time. It will consider it as tuple then."
      ]
    },
    {
      "cell_type": "code",
      "execution_count": null,
      "metadata": {
        "colab": {
          "base_uri": "https://localhost:8080/"
        },
        "id": "vepvNTuWJUMK",
        "outputId": "1c232c7f-7c05-4ab6-a1ef-2b9a2c9543eb"
      },
      "outputs": [
        {
          "name": "stdout",
          "output_type": "stream",
          "text": [
            "<class 'tuple'>\n",
            "<class 'list'>\n",
            "<class 'tuple'>\n"
          ]
        }
      ],
      "source": [
        "t= (11,21,32)\n",
        "l=list(t)\n",
        "lt=tuple(l)\n",
        "\n",
        "print(type(t))\n",
        "print(type(l))\n",
        "print(type(lt))"
      ]
    },
    {
      "cell_type": "code",
      "execution_count": null,
      "metadata": {
        "colab": {
          "base_uri": "https://localhost:8080/"
        },
        "id": "kxouKVfOLRzb",
        "outputId": "e24b8d34-3d6d-4388-bb42-d395c9b6d7f3"
      },
      "outputs": [
        {
          "name": "stdout",
          "output_type": "stream",
          "text": [
            "11 21 32 "
          ]
        }
      ],
      "source": [
        "for i in lt:\n",
        "  print(i,end=' ')"
      ]
    },
    {
      "cell_type": "code",
      "source": [
        "# packing and unpacking through tuple\n",
        "# order is maintained.\n",
        "a = (1,2,3)\n",
        "x,y,z=a\n",
        "print(a)\n",
        "print(x,y,z)"
      ],
      "metadata": {
        "colab": {
          "base_uri": "https://localhost:8080/"
        },
        "id": "bXxd0LvmvwP4",
        "outputId": "f2459324-df4e-4254-9e13-3a6650b50b33"
      },
      "execution_count": null,
      "outputs": [
        {
          "output_type": "stream",
          "name": "stdout",
          "text": [
            "(1, 2, 3)\n",
            "1 2 3\n"
          ]
        }
      ]
    },
    {
      "cell_type": "code",
      "execution_count": null,
      "metadata": {
        "colab": {
          "base_uri": "https://localhost:8080/"
        },
        "id": "CFrLEvY6WikU",
        "outputId": "13472135-c04e-4b29-b044-337780d0b022"
      },
      "outputs": [
        {
          "name": "stdout",
          "output_type": "stream",
          "text": [
            "3\n"
          ]
        }
      ],
      "source": [
        "print(len(lt))"
      ]
    },
    {
      "cell_type": "code",
      "execution_count": null,
      "metadata": {
        "colab": {
          "base_uri": "https://localhost:8080/",
          "height": 183
        },
        "id": "dkrUP86XmY-l",
        "outputId": "26d1a87e-1803-42e6-a1c1-88e81ada7c93"
      },
      "outputs": [
        {
          "ename": "TypeError",
          "evalue": "ignored",
          "output_type": "error",
          "traceback": [
            "\u001b[0;31m---------------------------------------------------------------------------\u001b[0m",
            "\u001b[0;31mTypeError\u001b[0m                                 Traceback (most recent call last)",
            "\u001b[0;32m<ipython-input-2-71712cb4576d>\u001b[0m in \u001b[0;36m<module>\u001b[0;34m()\u001b[0m\n\u001b[1;32m      1\u001b[0m \u001b[0mtValue\u001b[0m \u001b[0;34m=\u001b[0m \u001b[0;34m(\u001b[0m\u001b[0;34m\"Pankaj\"\u001b[0m\u001b[0;34m,\u001b[0m\u001b[0;36m26\u001b[0m\u001b[0;34m,\u001b[0m\u001b[0;34m\"Palampur\"\u001b[0m\u001b[0;34m,\u001b[0m\u001b[0;36m87\u001b[0m\u001b[0;34m)\u001b[0m\u001b[0;34m\u001b[0m\u001b[0;34m\u001b[0m\u001b[0m\n\u001b[0;32m----> 2\u001b[0;31m \u001b[0mprint\u001b[0m\u001b[0;34m(\u001b[0m\u001b[0mmax\u001b[0m\u001b[0;34m(\u001b[0m\u001b[0mtValue\u001b[0m\u001b[0;34m)\u001b[0m\u001b[0;34m)\u001b[0m\u001b[0;34m\u001b[0m\u001b[0;34m\u001b[0m\u001b[0m\n\u001b[0m",
            "\u001b[0;31mTypeError\u001b[0m: '>' not supported between instances of 'int' and 'str'"
          ]
        }
      ],
      "source": [
        "tValue = (\"Pankaj\",26,\"Palampur\",87)\n",
        "print(max(tValue))"
      ]
    },
    {
      "cell_type": "code",
      "execution_count": null,
      "metadata": {
        "colab": {
          "base_uri": "https://localhost:8080/",
          "height": 165
        },
        "id": "BFqEXtU2m1l1",
        "outputId": "f771faac-8d4f-40ca-c732-169ef45a002a"
      },
      "outputs": [
        {
          "ename": "TypeError",
          "evalue": "ignored",
          "output_type": "error",
          "traceback": [
            "\u001b[0;31m---------------------------------------------------------------------------\u001b[0m",
            "\u001b[0;31mTypeError\u001b[0m                                 Traceback (most recent call last)",
            "\u001b[0;32m<ipython-input-3-0a4557b1842d>\u001b[0m in \u001b[0;36m<module>\u001b[0;34m()\u001b[0m\n\u001b[0;32m----> 1\u001b[0;31m \u001b[0mtValue\u001b[0m\u001b[0;34m[\u001b[0m\u001b[0;36m0\u001b[0m\u001b[0;34m]\u001b[0m\u001b[0;34m=\u001b[0m\u001b[0;36m50\u001b[0m\u001b[0;34m\u001b[0m\u001b[0;34m\u001b[0m\u001b[0m\n\u001b[0m",
            "\u001b[0;31mTypeError\u001b[0m: 'tuple' object does not support item assignment"
          ]
        }
      ],
      "source": [
        "tValue[0]=50"
      ]
    },
    {
      "cell_type": "code",
      "execution_count": null,
      "metadata": {
        "colab": {
          "base_uri": "https://localhost:8080/"
        },
        "id": "TxJw5q7Pn5lX",
        "outputId": "08575940-dc52-42e8-8ecd-0cd16c73b2f5"
      },
      "outputs": [
        {
          "name": "stdout",
          "output_type": "stream",
          "text": [
            "('Item_1', 0.5, ['Vijay', 'Vickey', 'Vishal'])\n"
          ]
        }
      ],
      "source": [
        "name_lst = [\"Vijay\", \"Vickey\"]\n",
        "tup = (\"Item_1\", 0.5, name_lst)\n",
        "name_lst.append(\"Vishal\")\n",
        "print(tup)"
      ]
    },
    {
      "cell_type": "markdown",
      "metadata": {
        "id": "6zzCn47BLjS7"
      },
      "source": [
        "**STRINGS** - its a sequence of characters\n",
        "characters can be alphabets, numbers, special characters, spaces.\n",
        "You need to assign a string inside 'string' OR \"string\" OR \"'string\"' OR \"\"\"string\"\"\" \n",
        "ASCII :: American Standard Code for Information Exchange\n",
        "Since computers understand only binary numbers so question arises how do they know or remember the characters.\n",
        "so there is a standard maintained to bring everyone to a common understanding and values gets \n",
        "\n",
        "e.g.\n",
        "input: ord('Y'), ord('y') \n",
        "output: (89, 121)"
      ]
    },
    {
      "cell_type": "code",
      "execution_count": null,
      "metadata": {
        "colab": {
          "base_uri": "https://localhost:8080/"
        },
        "id": "ytphp-q7QP5o",
        "outputId": "a9d19219-ee6d-4e8c-83fd-20a41601c2b4"
      },
      "outputs": [
        {
          "data": {
            "text/plain": [
              "97"
            ]
          },
          "execution_count": 16,
          "metadata": {},
          "output_type": "execute_result"
        }
      ],
      "source": [
        "ord('a')"
      ]
    },
    {
      "cell_type": "code",
      "execution_count": null,
      "metadata": {
        "colab": {
          "base_uri": "https://localhost:8080/"
        },
        "id": "bnMU587rQZC3",
        "outputId": "6ea0ce64-5613-48ad-b86b-f877236e8bfb"
      },
      "outputs": [
        {
          "data": {
            "text/plain": [
              "False"
            ]
          },
          "execution_count": 18,
          "metadata": {},
          "output_type": "execute_result"
        }
      ],
      "source": [
        "\"a\"==int(97)"
      ]
    },
    {
      "cell_type": "code",
      "execution_count": null,
      "metadata": {
        "colab": {
          "base_uri": "https://localhost:8080/",
          "height": 165
        },
        "id": "q2WS49OSQwCG",
        "outputId": "28f02b6a-680c-4784-ecb9-49641a4d8e4b"
      },
      "outputs": [
        {
          "ename": "TypeError",
          "evalue": "ignored",
          "output_type": "error",
          "traceback": [
            "\u001b[0;31m---------------------------------------------------------------------------\u001b[0m",
            "\u001b[0;31mTypeError\u001b[0m                                 Traceback (most recent call last)",
            "\u001b[0;32m<ipython-input-20-2bb07e009c25>\u001b[0m in \u001b[0;36m<module>\u001b[0;34m()\u001b[0m\n\u001b[0;32m----> 1\u001b[0;31m \u001b[0mord\u001b[0m\u001b[0;34m(\u001b[0m\u001b[0;34m'97'\u001b[0m\u001b[0;34m)\u001b[0m\u001b[0;34m\u001b[0m\u001b[0;34m\u001b[0m\u001b[0m\n\u001b[0m",
            "\u001b[0;31mTypeError\u001b[0m: ord() expected a character, but string of length 2 found"
          ]
        }
      ],
      "source": [
        "ord('97')\n"
      ]
    },
    {
      "cell_type": "code",
      "execution_count": null,
      "metadata": {
        "colab": {
          "base_uri": "https://localhost:8080/"
        },
        "id": "iJd-fyBKLmr7",
        "outputId": "5a1ea3aa-b7c8-41ad-bbe7-89425eb81bc0"
      },
      "outputs": [
        {
          "data": {
            "text/plain": [
              "(89, 121)"
            ]
          },
          "execution_count": 14,
          "metadata": {},
          "output_type": "execute_result"
        }
      ],
      "source": [
        "ord('Y'), ord('y')"
      ]
    },
    {
      "cell_type": "code",
      "execution_count": null,
      "metadata": {
        "colab": {
          "base_uri": "https://localhost:8080/",
          "height": 35
        },
        "id": "WQSX7Nw3RQZ3",
        "outputId": "4cfec9f7-820a-40ac-8fdb-9f05cacd6278"
      },
      "outputs": [
        {
          "data": {
            "application/vnd.google.colaboratory.intrinsic+json": {
              "type": "string"
            },
            "text/plain": [
              "'\\t'"
            ]
          },
          "execution_count": 25,
          "metadata": {},
          "output_type": "execute_result"
        }
      ],
      "source": [
        "chr(97)\n",
        "chr(9)"
      ]
    },
    {
      "cell_type": "markdown",
      "metadata": {
        "id": "WrCT57cKXu1Q"
      },
      "source": [
        "# Capitalize would set first letter of first world to capital\n",
        "# Title would set every word's first letter to Capital"
      ]
    },
    {
      "cell_type": "code",
      "execution_count": null,
      "metadata": {
        "colab": {
          "base_uri": "https://localhost:8080/"
        },
        "id": "WvdYy4K7VhKI",
        "outputId": "71606aba-cce5-42c3-cc0a-32948053058f"
      },
      "outputs": [
        {
          "name": "stdout",
          "output_type": "stream",
          "text": [
            "text typed is in small characters.\n",
            "<built-in method capitalize of str object at 0x7efefbcd4630>\n",
            "Text typed is in small characters.\n",
            "Text Typed Is In Small Characters.\n"
          ]
        }
      ],
      "source": [
        "txt = \"text typed is in small characters.\"\n",
        "print(txt)\n",
        "txt1 = txt.capitalize\n",
        "print(txt1)\n",
        "print(txt.capitalize())\n",
        "print(txt.title())"
      ]
    },
    {
      "cell_type": "code",
      "execution_count": null,
      "metadata": {
        "colab": {
          "base_uri": "https://localhost:8080/"
        },
        "id": "G80oaa6hX53B",
        "outputId": "6b530762-1f51-41e4-f5f7-ddacf58e1d5b"
      },
      "outputs": [
        {
          "data": {
            "text/plain": [
              "2"
            ]
          },
          "execution_count": 34,
          "metadata": {},
          "output_type": "execute_result"
        }
      ],
      "source": [
        "txt.count(\"i\")\n",
        "#count functions gets the count of character/s requested."
      ]
    },
    {
      "cell_type": "code",
      "execution_count": null,
      "metadata": {
        "colab": {
          "base_uri": "https://localhost:8080/",
          "height": 35
        },
        "id": "aYtcQxBkYYlp",
        "outputId": "0c62b9c9-6764-4736-b9a9-6305b2094f5e"
      },
      "outputs": [
        {
          "data": {
            "application/vnd.google.colaboratory.intrinsic+json": {
              "type": "string"
            },
            "text/plain": [
              "'text typed is in sm*ll ch*r*cters.'"
            ]
          },
          "execution_count": 36,
          "metadata": {},
          "output_type": "execute_result"
        }
      ],
      "source": [
        "txt.replace(\"a\",\"*\")\n",
        "#replace takes 2 arguments replacable character and to be replaced with character"
      ]
    },
    {
      "cell_type": "code",
      "execution_count": null,
      "metadata": {
        "colab": {
          "base_uri": "https://localhost:8080/"
        },
        "id": "l5umADp_YpLz",
        "outputId": "1aeefc4a-754c-435c-8e4d-57a9adbce273"
      },
      "outputs": [
        {
          "data": {
            "text/plain": [
              "['text', 'typed', 'is', 'in', 'small', 'characters.']"
            ]
          },
          "execution_count": 37,
          "metadata": {},
          "output_type": "execute_result"
        }
      ],
      "source": [
        "txt.split()"
      ]
    },
    {
      "cell_type": "code",
      "execution_count": null,
      "metadata": {
        "colab": {
          "base_uri": "https://localhost:8080/"
        },
        "id": "2kq9XWE4ZFIN",
        "outputId": "6baa1b20-e7da-4096-abc9-b2a96f23b5b7"
      },
      "outputs": [
        {
          "data": {
            "text/plain": [
              "['text typed ', 's ', 'n small characters.']"
            ]
          },
          "execution_count": 38,
          "metadata": {},
          "output_type": "execute_result"
        }
      ],
      "source": [
        "txt.split(\"i\")"
      ]
    },
    {
      "cell_type": "code",
      "execution_count": null,
      "metadata": {
        "colab": {
          "base_uri": "https://localhost:8080/"
        },
        "id": "V22FZSSXZLyk",
        "outputId": "9265c136-9127-4f53-c115-0546066da871"
      },
      "outputs": [
        {
          "data": {
            "text/plain": [
              "['9876']"
            ]
          },
          "execution_count": 41,
          "metadata": {},
          "output_type": "execute_result"
        }
      ],
      "source": [
        "num=\"9876\"\n",
        "num.split()\n"
      ]
    },
    {
      "cell_type": "code",
      "execution_count": null,
      "metadata": {
        "colab": {
          "base_uri": "https://localhost:8080/"
        },
        "id": "rlnyeOqBZZAx",
        "outputId": "63655797-c7d7-4ea2-da26-71e3cea8d1a5"
      },
      "outputs": [
        {
          "data": {
            "text/plain": [
              "['9', '8', '7', '6']"
            ]
          },
          "execution_count": 42,
          "metadata": {},
          "output_type": "execute_result"
        }
      ],
      "source": [
        "num=\"9 8 7 6\"\n",
        "num.split()\n"
      ]
    },
    {
      "cell_type": "code",
      "execution_count": null,
      "metadata": {
        "colab": {
          "base_uri": "https://localhost:8080/"
        },
        "id": "7_5Zj3HAZNpp",
        "outputId": "63e02752-0032-4a4e-f2f0-73886a562034"
      },
      "outputs": [
        {
          "name": "stdout",
          "output_type": "stream",
          "text": [
            "P\n",
            "a\n",
            "n\n",
            "k\n",
            "a\n",
            "j\n"
          ]
        }
      ],
      "source": [
        "name=\"Pankaj\"\n",
        "for i in name:\n",
        "  print(i)"
      ]
    },
    {
      "cell_type": "code",
      "execution_count": null,
      "metadata": {
        "colab": {
          "base_uri": "https://localhost:8080/"
        },
        "id": "ex3goYGhZ-au",
        "outputId": "925be485-6444-4db8-c8f9-6f7b2f4750a3"
      },
      "outputs": [
        {
          "name": "stdout",
          "output_type": "stream",
          "text": [
            "t\n",
            "e\n",
            "x\n",
            "t\n",
            " \n",
            "t\n",
            "y\n",
            "p\n",
            "e\n",
            "d\n",
            " \n",
            "i\n",
            "s\n",
            " \n",
            "i\n",
            "n\n",
            " \n",
            "s\n",
            "m\n",
            "a\n",
            "l\n",
            "l\n",
            " \n",
            "c\n",
            "h\n",
            "a\n",
            "r\n",
            "a\n",
            "c\n",
            "t\n",
            "e\n",
            "r\n",
            "s\n",
            ".\n"
          ]
        }
      ],
      "source": [
        "for i in txt:\n",
        "  print(i)"
      ]
    },
    {
      "cell_type": "code",
      "execution_count": null,
      "metadata": {
        "colab": {
          "base_uri": "https://localhost:8080/"
        },
        "id": "E21RblegaD-M",
        "outputId": "f2fa781a-87c6-4d5e-b23e-22e9fb307f2d"
      },
      "outputs": [
        {
          "name": "stdout",
          "output_type": "stream",
          "text": [
            "x\n",
            ".\n"
          ]
        }
      ],
      "source": [
        "print(txt[2]) # prints the 3 character(i.e. index 0)\n",
        "print(txt[-1]) # prints the dot\n",
        "#"
      ]
    },
    {
      "cell_type": "code",
      "execution_count": null,
      "metadata": {
        "colab": {
          "base_uri": "https://localhost:8080/",
          "height": 165
        },
        "id": "QyGrOuCoarqe",
        "outputId": "17b4bbda-db9d-435f-baf6-07178987e33a"
      },
      "outputs": [
        {
          "ename": "AttributeError",
          "evalue": "ignored",
          "output_type": "error",
          "traceback": [
            "\u001b[0;31m---------------------------------------------------------------------------\u001b[0m",
            "\u001b[0;31mAttributeError\u001b[0m                            Traceback (most recent call last)",
            "\u001b[0;32m<ipython-input-47-45009ba05e26>\u001b[0m in \u001b[0;36m<module>\u001b[0;34m()\u001b[0m\n\u001b[0;32m----> 1\u001b[0;31m \u001b[0mprint\u001b[0m\u001b[0;34m(\u001b[0m\u001b[0mname\u001b[0m\u001b[0;34m.\u001b[0m\u001b[0mreverse\u001b[0m\u001b[0;34m)\u001b[0m\u001b[0;34m\u001b[0m\u001b[0;34m\u001b[0m\u001b[0m\n\u001b[0m",
            "\u001b[0;31mAttributeError\u001b[0m: 'str' object has no attribute 'reverse'"
          ]
        }
      ],
      "source": [
        "print(name.reverse)"
      ]
    },
    {
      "cell_type": "code",
      "execution_count": null,
      "metadata": {
        "colab": {
          "base_uri": "https://localhost:8080/"
        },
        "id": "GCVDfgZ2a1Hx",
        "outputId": "21f3bd03-1e4a-4cbc-c624-4d69cb6c6132"
      },
      "outputs": [
        {
          "name": "stdout",
          "output_type": "stream",
          "text": [
            "Pankaj\n",
            "jaknaP\n",
            "No\n"
          ]
        }
      ],
      "source": [
        "#Palindrome -- a word which when reversed would mean the same thing, there are many such words i.e. mom dad radar level tat did etc.\n",
        "\n",
        "name = input()\n",
        "\n",
        "reverse = name[::-1]\n",
        "print(reverse)\n",
        "\n",
        "if name == reverse:\n",
        "  print(\"Yes\")\n",
        "else:\n",
        "  print(\"No\")"
      ]
    },
    {
      "cell_type": "code",
      "execution_count": null,
      "metadata": {
        "colab": {
          "base_uri": "https://localhost:8080/"
        },
        "id": "ZJcGMNcHcReC",
        "outputId": "0dfc43e5-1718-4439-b814-cdf6474bc4b6"
      },
      "outputs": [
        {
          "name": "stdout",
          "output_type": "stream",
          "text": [
            "0 1 2 3 4 5 "
          ]
        }
      ],
      "source": [
        "for i in range(len(name)):\n",
        "  print(i,end=' ')\n",
        "  #this prints the index not the characters when we use the range."
      ]
    },
    {
      "cell_type": "code",
      "execution_count": null,
      "metadata": {
        "id": "lIVW775Rcepa"
      },
      "outputs": [],
      "source": [
        "for i in name:\n",
        "  print(i)\n",
        "  print(ord(i),end=' ')"
      ]
    },
    {
      "cell_type": "code",
      "execution_count": null,
      "metadata": {
        "colab": {
          "base_uri": "https://localhost:8080/"
        },
        "id": "6fTOWTtsoQ--",
        "outputId": "47d6e6e4-b7cb-4b17-b8ee-dc2433cfd6b8"
      },
      "outputs": [
        {
          "name": "stdout",
          "output_type": "stream",
          "text": [
            "nce\n",
            "t\n",
            "ecneics atad rof nohtyp\n"
          ]
        }
      ],
      "source": [
        "s='python for data science'\n",
        "\n",
        "print(s[-3:])\n",
        "print(s[2])\n",
        "print(s[::-1])\n"
      ]
    },
    {
      "cell_type": "code",
      "execution_count": null,
      "metadata": {
        "id": "lxnOTJAjtN3H"
      },
      "outputs": [],
      "source": [
        "#Multiple approachs to Check an element in a list\n",
        "\n",
        "For a given list list1, which of the following methods are true for checking if the element 6 is present in the list?\n",
        "\n",
        "list1=[2,12,45,6,8,32,17]\n"
      ]
    },
    {
      "cell_type": "code",
      "execution_count": null,
      "metadata": {
        "colab": {
          "base_uri": "https://localhost:8080/",
          "height": 130
        },
        "id": "qaRPO0HHwF_D",
        "outputId": "ce6581f7-a7c4-42f5-9414-0df8c12b9872"
      },
      "outputs": [
        {
          "ename": "IndentationError",
          "evalue": "ignored",
          "output_type": "error",
          "traceback": [
            "\u001b[0;36m  File \u001b[0;32m\"<ipython-input-8-c82f2d58bbff>\"\u001b[0;36m, line \u001b[0;32m2\u001b[0m\n\u001b[0;31m    if(i==6):\u001b[0m\n\u001b[0m    ^\u001b[0m\n\u001b[0;31mIndentationError\u001b[0m\u001b[0;31m:\u001b[0m unexpected indent\n"
          ]
        }
      ],
      "source": [
        "# 1st Method:\n",
        "for i in list1:\n",
        "  if(i==6):\n",
        "    print('Element exists')"
      ]
    },
    {
      "cell_type": "code",
      "execution_count": null,
      "metadata": {
        "colab": {
          "base_uri": "https://localhost:8080/"
        },
        "id": "WrxMl0IkwOIY",
        "outputId": "95444e53-0316-4a26-cecb-28107bcca9f7"
      },
      "outputs": [
        {
          "name": "stdout",
          "output_type": "stream",
          "text": [
            "Element exists\n"
          ]
        }
      ],
      "source": [
        "# 2nd Method\n",
        "if (6 in list1):\n",
        "     print('Element exists')"
      ]
    },
    {
      "cell_type": "code",
      "source": [
        "print(\"\")"
      ],
      "metadata": {
        "id": "tmiDBGDoEev5"
      },
      "execution_count": null,
      "outputs": []
    },
    {
      "cell_type": "code",
      "execution_count": null,
      "metadata": {
        "colab": {
          "base_uri": "https://localhost:8080/"
        },
        "id": "k9DPzk7AwgKB",
        "outputId": "763a8ea1-82e2-42e3-cbb0-525bfc5c9377"
      },
      "outputs": [
        {
          "name": "stdout",
          "output_type": "stream",
          "text": [
            "Yes, 6 exists in list\n"
          ]
        }
      ],
      "source": [
        "# 3rd Method\n",
        "e_count = list1.count(6)\n",
        "if e_count > 0:\n",
        "  print(\"Yes, 6 exists in list\")\n",
        "else:\n",
        "  print(\"No, 6 does not exists in list\")"
      ]
    },
    {
      "cell_type": "code",
      "execution_count": null,
      "metadata": {
        "colab": {
          "base_uri": "https://localhost:8080/",
          "height": 339
        },
        "id": "ux_dqPY0FWZv",
        "outputId": "332ece78-9097-4132-f981-35686bdf8d54"
      },
      "outputs": [
        {
          "name": "stdout",
          "output_type": "stream",
          "text": [
            "fruit\n"
          ]
        },
        {
          "ename": "KeyboardInterrupt",
          "evalue": "ignored",
          "output_type": "error",
          "traceback": [
            "\u001b[0;31m---------------------------------------------------------------------------\u001b[0m",
            "\u001b[0;31mKeyboardInterrupt\u001b[0m                         Traceback (most recent call last)",
            "\u001b[0;32m<ipython-input-11-7a7ecb7656d6>\u001b[0m in \u001b[0;36m<module>\u001b[0;34m()\u001b[0m\n\u001b[1;32m     17\u001b[0m  \u001b[0;34m'''Calling the function'''\u001b[0m\u001b[0;34m\u001b[0m\u001b[0;34m\u001b[0m\u001b[0m\n\u001b[1;32m     18\u001b[0m \u001b[0;34m\u001b[0m\u001b[0m\n\u001b[0;32m---> 19\u001b[0;31m \u001b[0mshopping_list\u001b[0m\u001b[0;34m(\u001b[0m\u001b[0;34m)\u001b[0m\u001b[0;34m\u001b[0m\u001b[0;34m\u001b[0m\u001b[0m\n\u001b[0m",
            "\u001b[0;32m<ipython-input-11-7a7ecb7656d6>\u001b[0m in \u001b[0;36mshopping_list\u001b[0;34m()\u001b[0m\n\u001b[1;32m      8\u001b[0m  \u001b[0mitem\u001b[0m\u001b[0;34m=\u001b[0m\u001b[0minput\u001b[0m\u001b[0;34m(\u001b[0m\u001b[0;34m)\u001b[0m\u001b[0;34m\u001b[0m\u001b[0;34m\u001b[0m\u001b[0m\n\u001b[1;32m      9\u001b[0m  \u001b[0;32mwhile\u001b[0m \u001b[0mitem\u001b[0m\u001b[0;34m!=\u001b[0m\u001b[0;34m\"end\"\u001b[0m\u001b[0;34m:\u001b[0m\u001b[0;34m\u001b[0m\u001b[0;34m\u001b[0m\u001b[0m\n\u001b[0;32m---> 10\u001b[0;31m      \u001b[0mshoplist\u001b[0m\u001b[0;34m.\u001b[0m\u001b[0mappend\u001b[0m\u001b[0;34m(\u001b[0m\u001b[0mitem\u001b[0m\u001b[0;34m)\u001b[0m\u001b[0;34m\u001b[0m\u001b[0;34m\u001b[0m\u001b[0m\n\u001b[0m\u001b[1;32m     11\u001b[0m      \u001b[0;32mcontinue\u001b[0m\u001b[0;34m\u001b[0m\u001b[0;34m\u001b[0m\u001b[0m\n\u001b[1;32m     12\u001b[0m \u001b[0;34m\u001b[0m\u001b[0m\n",
            "\u001b[0;31mKeyboardInterrupt\u001b[0m: "
          ]
        }
      ],
      "source": [
        ""
      ]
    },
    {
      "cell_type": "code",
      "execution_count": null,
      "metadata": {
        "colab": {
          "base_uri": "https://localhost:8080/"
        },
        "id": "Uv71a8fr4kMh",
        "outputId": "7fbbdf9c-d13b-4dc2-a734-c53adf131440"
      },
      "outputs": [
        {
          "name": "stdout",
          "output_type": "stream",
          "text": [
            "10 3\n",
            "8 4\n",
            "5 2\n",
            "2 2\n",
            "10 3\n",
            "15 1\n",
            "10 3\n",
            "8 4\n",
            "5 2\n",
            "8 4\n",
            "8 4\n",
            "2 2\n"
          ]
        }
      ],
      "source": [
        "A = (10, 8, 5, 2, 10, 15, 10, 8, 5, 8, 8, 2)\n",
        "for i in A:\n",
        "  print(i, A.count(i))"
      ]
    },
    {
      "cell_type": "code",
      "execution_count": null,
      "metadata": {
        "colab": {
          "base_uri": "https://localhost:8080/"
        },
        "id": "TfqonYCPcdLx",
        "outputId": "963130b9-434f-46f6-c3de-58ce05054071"
      },
      "outputs": [
        {
          "name": "stdout",
          "output_type": "stream",
          "text": [
            "my name is Pankaj Kumar and age is 34\n"
          ]
        }
      ],
      "source": [
        "name = \"Pankaj Kumar\"\n",
        "age=34\n",
        "\n",
        "print(\"my name is\",name,\"and age is\",age)\n",
        "print(\"my name is \")"
      ]
    },
    {
      "cell_type": "code",
      "execution_count": null,
      "metadata": {
        "colab": {
          "base_uri": "https://localhost:8080/"
        },
        "id": "kws7RuOJgKNH",
        "outputId": "bb8e32aa-1a42-4861-8613-f5c7aa56510c"
      },
      "outputs": [
        {
          "data": {
            "text/plain": [
              "65"
            ]
          },
          "execution_count": 4,
          "metadata": {},
          "output_type": "execute_result"
        }
      ],
      "source": [
        "ord(\"A\")"
      ]
    },
    {
      "cell_type": "code",
      "execution_count": null,
      "metadata": {
        "colab": {
          "base_uri": "https://localhost:8080/"
        },
        "id": "rdUR6Y_ZhowQ",
        "outputId": "e904287c-6b63-4cd7-e681-dd505ce680ae"
      },
      "outputs": [
        {
          "name": "stdout",
          "output_type": "stream",
          "text": [
            "PANKAJ\n"
          ]
        }
      ],
      "source": [
        "name=\"Pankaj\"\n",
        "Cname=name.upper()\n",
        "print(Cname)"
      ]
    },
    {
      "cell_type": "code",
      "execution_count": null,
      "metadata": {
        "colab": {
          "base_uri": "https://localhost:8080/"
        },
        "id": "UXMqUOmXcmkY",
        "outputId": "907505c5-ad33-45f8-e1e1-ecd04aa9cfb2"
      },
      "outputs": [
        {
          "data": {
            "text/plain": [
              "False"
            ]
          },
          "execution_count": 8,
          "metadata": {},
          "output_type": "execute_result"
        }
      ],
      "source": [
        "'p'.isupper()"
      ]
    },
    {
      "cell_type": "code",
      "execution_count": null,
      "metadata": {
        "colab": {
          "base_uri": "https://localhost:8080/"
        },
        "id": "14oWuF7AkoXD",
        "outputId": "37ea37d1-098c-4901-bd81-0101934ff476"
      },
      "outputs": [
        {
          "data": {
            "text/plain": [
              "True"
            ]
          },
          "execution_count": 9,
          "metadata": {},
          "output_type": "execute_result"
        }
      ],
      "source": [
        "\"P\".isupper()"
      ]
    },
    {
      "cell_type": "code",
      "execution_count": null,
      "metadata": {
        "colab": {
          "base_uri": "https://localhost:8080/",
          "height": 217
        },
        "id": "tBc0-Kk0kroZ",
        "outputId": "58d5f044-fce3-45f5-e375-ad8fd193db3d"
      },
      "outputs": [
        {
          "ename": "TypeError",
          "evalue": "ignored",
          "output_type": "error",
          "traceback": [
            "\u001b[0;31m---------------------------------------------------------------------------\u001b[0m",
            "\u001b[0;31mTypeError\u001b[0m                                 Traceback (most recent call last)",
            "\u001b[0;32m<ipython-input-17-d731e4b7e1be>\u001b[0m in \u001b[0;36m<module>\u001b[0;34m()\u001b[0m\n\u001b[1;32m      1\u001b[0m \u001b[0mx\u001b[0m\u001b[0;34m=\u001b[0m\u001b[0;34m\"abc\"\u001b[0m\u001b[0;34m\u001b[0m\u001b[0;34m\u001b[0m\u001b[0m\n\u001b[1;32m      2\u001b[0m \u001b[0my\u001b[0m\u001b[0;34m=\u001b[0m\u001b[0;34m\"xyz\"\u001b[0m\u001b[0;34m\u001b[0m\u001b[0;34m\u001b[0m\u001b[0m\n\u001b[0;32m----> 3\u001b[0;31m \u001b[0mx\u001b[0m\u001b[0;34m.\u001b[0m\u001b[0mjoin\u001b[0m\u001b[0;34m(\u001b[0m\u001b[0;36m1\u001b[0m\u001b[0;34m)\u001b[0m\u001b[0;34m\u001b[0m\u001b[0;34m\u001b[0m\u001b[0m\n\u001b[0m\u001b[1;32m      4\u001b[0m \u001b[0mprint\u001b[0m\u001b[0;34m(\u001b[0m\u001b[0mx\u001b[0m\u001b[0;34m)\u001b[0m\u001b[0;34m\u001b[0m\u001b[0;34m\u001b[0m\u001b[0m\n",
            "\u001b[0;31mTypeError\u001b[0m: can only join an iterable"
          ]
        }
      ],
      "source": [
        "x=\"abc\"\n",
        "y=\"xyz\"\n",
        "x.join(1)\n",
        "print(x)"
      ]
    },
    {
      "cell_type": "code",
      "execution_count": null,
      "metadata": {
        "colab": {
          "base_uri": "https://localhost:8080/"
        },
        "id": "w7Q-BKeBqbRG",
        "outputId": "0c87c577-591a-4f16-b84a-b44b5c347296"
      },
      "outputs": [
        {
          "name": "stdout",
          "output_type": "stream",
          "text": [
            "abcabcabc\n"
          ]
        }
      ],
      "source": [
        "print(\"\".join(x)*3)"
      ]
    },
    {
      "cell_type": "code",
      "execution_count": null,
      "metadata": {
        "colab": {
          "base_uri": "https://localhost:8080/"
        },
        "id": "o5xyrBP5qpR5",
        "outputId": "45238f64-bf3a-432b-9b92-5b3d12079fc4"
      },
      "outputs": [
        {
          "data": {
            "text/plain": [
              "True"
            ]
          },
          "execution_count": 20,
          "metadata": {},
          "output_type": "execute_result"
        }
      ],
      "source": [
        "#is Alpha\n",
        "\"PankajKumar\".isalnum()\n",
        "\n"
      ]
    },
    {
      "cell_type": "code",
      "execution_count": null,
      "metadata": {
        "id": "44bq6xWWq4dj"
      },
      "outputs": [],
      "source": [
        "\"PankajKumar\".isalpha()"
      ]
    },
    {
      "cell_type": "code",
      "execution_count": null,
      "metadata": {
        "colab": {
          "base_uri": "https://localhost:8080/"
        },
        "id": "yncWp5VnrFIh",
        "outputId": "270907ea-a333-4502-a311-1a584f069e36"
      },
      "outputs": [
        {
          "data": {
            "text/plain": [
              "True"
            ]
          },
          "execution_count": 21,
          "metadata": {},
          "output_type": "execute_result"
        }
      ],
      "source": [
        "\"11\".isdigit()"
      ]
    },
    {
      "cell_type": "code",
      "execution_count": null,
      "metadata": {
        "colab": {
          "base_uri": "https://localhost:8080/"
        },
        "id": "QFNVtx2hrIud",
        "outputId": "bbf61bc2-a157-4fc5-9b66-56f4b31efd1d"
      },
      "outputs": [
        {
          "data": {
            "text/plain": [
              "False"
            ]
          },
          "execution_count": 22,
          "metadata": {},
          "output_type": "execute_result"
        }
      ],
      "source": [
        "\"123a\".isdigit()"
      ]
    },
    {
      "cell_type": "code",
      "execution_count": null,
      "metadata": {
        "colab": {
          "base_uri": "https://localhost:8080/"
        },
        "id": "MQnAiS9YrTd5",
        "outputId": "803e96e0-9771-4a5a-fb71-1af64f826a2c"
      },
      "outputs": [
        {
          "data": {
            "text/plain": [
              "True"
            ]
          },
          "execution_count": 23,
          "metadata": {},
          "output_type": "execute_result"
        }
      ],
      "source": [
        "\"12pan\".isalnum()"
      ]
    },
    {
      "cell_type": "code",
      "execution_count": null,
      "metadata": {
        "colab": {
          "base_uri": "https://localhost:8080/"
        },
        "id": "fK_HMbN0ra-u",
        "outputId": "e9a8c7e6-6b5c-4b4b-f8cf-5c5a5062da14"
      },
      "outputs": [
        {
          "data": {
            "text/plain": [
              "False"
            ]
          },
          "execution_count": 25,
          "metadata": {},
          "output_type": "execute_result"
        }
      ],
      "source": [
        "\"\".isspace()"
      ]
    },
    {
      "cell_type": "code",
      "execution_count": null,
      "metadata": {
        "id": "-v7ANuF4r3W-"
      },
      "outputs": [],
      "source": [
        "\"\".istitle"
      ]
    },
    {
      "cell_type": "code",
      "execution_count": null,
      "metadata": {
        "colab": {
          "base_uri": "https://localhost:8080/"
        },
        "id": "QKTjiKuvryF1",
        "outputId": "3b3d49ed-4dcc-4831-b8ef-23275b414240"
      },
      "outputs": [
        {
          "data": {
            "text/plain": [
              "False"
            ]
          },
          "execution_count": 24,
          "metadata": {},
          "output_type": "execute_result"
        }
      ],
      "source": [
        "\".\".isdecimal()"
      ]
    },
    {
      "cell_type": "code",
      "execution_count": null,
      "metadata": {
        "colab": {
          "background_save": true,
          "base_uri": "https://localhost:8080/"
        },
        "id": "grIFXDAB5mds",
        "outputId": "a8ef34c8-aedc-4c48-f984-88ead605396e"
      },
      "outputs": [
        {
          "name": "stdout",
          "output_type": "stream",
          "text": [
            "Pankaj\n"
          ]
        }
      ],
      "source": [
        "n = \"Pankaj\"\n",
        "n.split()\n",
        "print(n)"
      ]
    },
    {
      "cell_type": "code",
      "source": [
        "s = \"hello\""
      ],
      "metadata": {
        "id": "3g2CdKNZZ6Ga"
      },
      "execution_count": null,
      "outputs": []
    },
    {
      "cell_type": "code",
      "source": [
        "print(s[0:9])"
      ],
      "metadata": {
        "colab": {
          "base_uri": "https://localhost:8080/"
        },
        "id": "LAk-bvSCZ8sV",
        "outputId": "ddac029b-1f85-417f-dd9e-4f70f02c30fc"
      },
      "execution_count": null,
      "outputs": [
        {
          "output_type": "stream",
          "name": "stdout",
          "text": [
            "hello\n"
          ]
        }
      ]
    },
    {
      "cell_type": "code",
      "source": [
        "print( s[: : -1] )"
      ],
      "metadata": {
        "colab": {
          "base_uri": "https://localhost:8080/"
        },
        "id": "rnina_l-aAtZ",
        "outputId": "6efabdc6-e098-480a-bbe5-b9a2cbac16a2"
      },
      "execution_count": null,
      "outputs": [
        {
          "output_type": "stream",
          "name": "stdout",
          "text": [
            "olleh\n"
          ]
        }
      ]
    },
    {
      "cell_type": "code",
      "source": [
        "s[2] = ‘a’"
      ],
      "metadata": {
        "id": "5v1jKSaYaKrS",
        "outputId": "70d19b29-985a-42c8-a739-d830f68410d5",
        "colab": {
          "base_uri": "https://localhost:8080/",
          "height": 130
        }
      },
      "execution_count": null,
      "outputs": [
        {
          "output_type": "error",
          "ename": "SyntaxError",
          "evalue": "ignored",
          "traceback": [
            "\u001b[0;36m  File \u001b[0;32m\"<ipython-input-5-effd64238343>\"\u001b[0;36m, line \u001b[0;32m1\u001b[0m\n\u001b[0;31m    s[2] = ‘a’\u001b[0m\n\u001b[0m             ^\u001b[0m\n\u001b[0;31mSyntaxError\u001b[0m\u001b[0;31m:\u001b[0m invalid character in identifier\n"
          ]
        }
      ]
    },
    {
      "cell_type": "code",
      "source": [
        "print( s[9] )"
      ],
      "metadata": {
        "colab": {
          "base_uri": "https://localhost:8080/",
          "height": 165
        },
        "id": "uh-DmaWBaFPz",
        "outputId": "53218e17-ec7b-441c-b73a-8c1d66cf20d2"
      },
      "execution_count": null,
      "outputs": [
        {
          "output_type": "error",
          "ename": "IndexError",
          "evalue": "ignored",
          "traceback": [
            "\u001b[0;31m---------------------------------------------------------------------------\u001b[0m",
            "\u001b[0;31mIndexError\u001b[0m                                Traceback (most recent call last)",
            "\u001b[0;32m<ipython-input-4-a0a05c62718b>\u001b[0m in \u001b[0;36m<module>\u001b[0;34m()\u001b[0m\n\u001b[0;32m----> 1\u001b[0;31m \u001b[0mprint\u001b[0m\u001b[0;34m(\u001b[0m \u001b[0ms\u001b[0m\u001b[0;34m[\u001b[0m\u001b[0;36m9\u001b[0m\u001b[0;34m]\u001b[0m \u001b[0;34m)\u001b[0m\u001b[0;34m\u001b[0m\u001b[0;34m\u001b[0m\u001b[0m\n\u001b[0m",
            "\u001b[0;31mIndexError\u001b[0m: string index out of range"
          ]
        }
      ]
    },
    {
      "cell_type": "code",
      "source": [
        "ate=\"08/12/1998\"\n",
        "ot=ate[-4:]+\"/\"+ate[-7:-5]+\"/\"+ate[:2]\n",
        "print(ot)\n",
        "t=ate[3:5]+\"/\"+ate[:2]+\"/\"+ate[-4:]\n",
        "print(t)"
      ],
      "metadata": {
        "colab": {
          "base_uri": "https://localhost:8080/"
        },
        "id": "e_aWD1vqNt3X",
        "outputId": "2a540988-4ce8-4283-e2a8-a738dcf34ae9"
      },
      "execution_count": null,
      "outputs": [
        {
          "output_type": "stream",
          "name": "stdout",
          "text": [
            "1998/12/08\n",
            "12/08/1998\n"
          ]
        }
      ]
    },
    {
      "cell_type": "code",
      "source": [
        "date=\"08/12/1998\"\n",
        "output=date[3:5]+\"/\"+date[:2]+\"/\"+date[-4:]\n",
        "output1=date[-4:]+\"/\"+date[-7:-5]+\"/\"+date[:2]\n",
        "print(output)\n",
        "print(output1)"
      ],
      "metadata": {
        "colab": {
          "base_uri": "https://localhost:8080/"
        },
        "id": "Zs6QoSa3V7Po",
        "outputId": "6e1877e6-f144-4205-e628-2f2087523bea"
      },
      "execution_count": null,
      "outputs": [
        {
          "output_type": "stream",
          "name": "stdout",
          "text": [
            "12/08/1998\n",
            "1998/12/08\n"
          ]
        }
      ]
    },
    {
      "cell_type": "markdown",
      "source": [
        "#if a = “Random String”, then which of the following variables has the same string value?"
      ],
      "metadata": {
        "id": "wY027QOCXin9"
      }
    },
    {
      "cell_type": "code",
      "source": [
        "a = \"Random String\"\n",
        "b = a\n",
        "c = str(a)\n",
        "d = a[:]\n",
        "\n",
        "print(a)\n",
        "print(b)\n",
        "print(c)\n",
        "print(d)\n"
      ],
      "metadata": {
        "colab": {
          "base_uri": "https://localhost:8080/"
        },
        "id": "iKaAZVmZXlqX",
        "outputId": "f60dc224-1029-4aa1-f61b-4b1387521332"
      },
      "execution_count": null,
      "outputs": [
        {
          "output_type": "stream",
          "name": "stdout",
          "text": [
            "Random String\n",
            "Random String\n",
            "Random String\n",
            "Random String\n"
          ]
        }
      ]
    },
    {
      "cell_type": "code",
      "source": [
        "word = \"aCademy\"\n",
        "word1 = word.upper()\n",
        "word2= word.lower()\n",
        "print(word1)\n",
        "print(word2)"
      ],
      "metadata": {
        "colab": {
          "base_uri": "https://localhost:8080/"
        },
        "id": "QOnyjf2SaCja",
        "outputId": "49767b3d-26d8-4889-9c10-7cd4bc25f265"
      },
      "execution_count": null,
      "outputs": [
        {
          "output_type": "stream",
          "name": "stdout",
          "text": [
            "ACADEMY\n",
            "academy\n"
          ]
        }
      ]
    },
    {
      "cell_type": "code",
      "source": [
        "a = \"\"\n",
        "print(type(a))\n",
        "print(a)"
      ],
      "metadata": {
        "colab": {
          "base_uri": "https://localhost:8080/"
        },
        "id": "HQI-VMTAdGL2",
        "outputId": "2558fe5d-1831-4771-e8b9-f545811e0cf3"
      },
      "execution_count": null,
      "outputs": [
        {
          "output_type": "stream",
          "name": "stdout",
          "text": [
            "<class 'str'>\n",
            "\n"
          ]
        }
      ]
    },
    {
      "cell_type": "code",
      "source": [
        "t=\"here\"\n",
        "a = a+t\n",
        "print(a)"
      ],
      "metadata": {
        "colab": {
          "base_uri": "https://localhost:8080/"
        },
        "id": "zESo-Y3OaBff",
        "outputId": "da7afbc7-ae70-4c35-e254-ededd77b9d22"
      },
      "execution_count": null,
      "outputs": [
        {
          "output_type": "stream",
          "name": "stdout",
          "text": [
            "here\n"
          ]
        }
      ]
    },
    {
      "cell_type": "code",
      "source": [
        "What is the output of the following python statement?\n",
        "\n",
        "print(“hello”+1+2+3)"
      ],
      "metadata": {
        "colab": {
          "base_uri": "https://localhost:8080/",
          "height": 130
        },
        "id": "DDjgc2Old3KA",
        "outputId": "f0168892-33b6-48e4-ef90-3cd726f40b11"
      },
      "execution_count": null,
      "outputs": [
        {
          "output_type": "error",
          "ename": "SyntaxError",
          "evalue": "ignored",
          "traceback": [
            "\u001b[0;36m  File \u001b[0;32m\"<ipython-input-15-53790ead83f2>\"\u001b[0;36m, line \u001b[0;32m3\u001b[0m\n\u001b[0;31m    print(“hello”+1+2+3)\u001b[0m\n\u001b[0m                ^\u001b[0m\n\u001b[0;31mSyntaxError\u001b[0m\u001b[0;31m:\u001b[0m invalid character in identifier\n"
          ]
        }
      ]
    },
    {
      "cell_type": "code",
      "source": [
        "print(\"Hello\"+\"1\"+\"2\"+\"3\")"
      ],
      "metadata": {
        "colab": {
          "base_uri": "https://localhost:8080/"
        },
        "id": "peeyqVPxd5GU",
        "outputId": "3d680f53-fba3-48f5-ed45-2cfd0ace08a6"
      },
      "execution_count": null,
      "outputs": [
        {
          "output_type": "stream",
          "name": "stdout",
          "text": [
            "Hello123\n"
          ]
        }
      ]
    },
    {
      "cell_type": "code",
      "source": [
        "def change_char(s):\n",
        "    '''Input: s takes the string as input\n",
        "       Output:return the resultant string'''\n",
        "    ls=list(s)   \n",
        "    res = ''\n",
        "    # YOUR CODE GOES HERE\n",
        "    #letter=ls(0)\n",
        "    for i in s:\n",
        "\n",
        "        if i==letter:\n",
        "            i=\"$\"\n",
        "            res+=i\n",
        "        else:\n",
        "            res+=i\n",
        "    \n",
        "    return res\n",
        "    "
      ],
      "metadata": {
        "id": "PLD_tCHwgu_a"
      },
      "execution_count": null,
      "outputs": []
    },
    {
      "cell_type": "code",
      "source": [
        "res= change_char(\"Telephone\")\n",
        "print(res)"
      ],
      "metadata": {
        "colab": {
          "base_uri": "https://localhost:8080/",
          "height": 304
        },
        "id": "a_p5kjx6gyJs",
        "outputId": "4f3afef3-37be-4092-e3d6-535bedd25913"
      },
      "execution_count": null,
      "outputs": [
        {
          "output_type": "error",
          "ename": "TypeError",
          "evalue": "ignored",
          "traceback": [
            "\u001b[0;31m---------------------------------------------------------------------------\u001b[0m",
            "\u001b[0;31mTypeError\u001b[0m                                 Traceback (most recent call last)",
            "\u001b[0;32m<ipython-input-19-be79f647a869>\u001b[0m in \u001b[0;36m<module>\u001b[0;34m()\u001b[0m\n\u001b[0;32m----> 1\u001b[0;31m \u001b[0mres\u001b[0m\u001b[0;34m=\u001b[0m \u001b[0mchange_char\u001b[0m\u001b[0;34m(\u001b[0m\u001b[0;34m\"Telephone\"\u001b[0m\u001b[0;34m)\u001b[0m\u001b[0;34m\u001b[0m\u001b[0;34m\u001b[0m\u001b[0m\n\u001b[0m\u001b[1;32m      2\u001b[0m \u001b[0mprint\u001b[0m\u001b[0;34m(\u001b[0m\u001b[0mres\u001b[0m\u001b[0;34m)\u001b[0m\u001b[0;34m\u001b[0m\u001b[0;34m\u001b[0m\u001b[0m\n",
            "\u001b[0;32m<ipython-input-17-76fc946fd697>\u001b[0m in \u001b[0;36mchange_char\u001b[0;34m(s)\u001b[0m\n\u001b[1;32m      5\u001b[0m     \u001b[0mres\u001b[0m \u001b[0;34m=\u001b[0m \u001b[0;34m''\u001b[0m\u001b[0;34m\u001b[0m\u001b[0;34m\u001b[0m\u001b[0m\n\u001b[1;32m      6\u001b[0m     \u001b[0;31m# YOUR CODE GOES HERE\u001b[0m\u001b[0;34m\u001b[0m\u001b[0;34m\u001b[0m\u001b[0;34m\u001b[0m\u001b[0m\n\u001b[0;32m----> 7\u001b[0;31m     \u001b[0mletter\u001b[0m\u001b[0;34m=\u001b[0m\u001b[0ms\u001b[0m\u001b[0;34m(\u001b[0m\u001b[0;36m0\u001b[0m\u001b[0;34m)\u001b[0m\u001b[0;34m\u001b[0m\u001b[0;34m\u001b[0m\u001b[0m\n\u001b[0m\u001b[1;32m      8\u001b[0m     \u001b[0;32mfor\u001b[0m \u001b[0mi\u001b[0m \u001b[0;32min\u001b[0m \u001b[0ms\u001b[0m\u001b[0;34m:\u001b[0m\u001b[0;34m\u001b[0m\u001b[0;34m\u001b[0m\u001b[0m\n\u001b[1;32m      9\u001b[0m         \u001b[0;32mif\u001b[0m \u001b[0mi\u001b[0m\u001b[0;34m==\u001b[0m\u001b[0mletter\u001b[0m\u001b[0;34m:\u001b[0m\u001b[0;34m\u001b[0m\u001b[0;34m\u001b[0m\u001b[0m\n",
            "\u001b[0;31mTypeError\u001b[0m: 'str' object is not callable"
          ]
        }
      ]
    }
  ],
  "metadata": {
    "colab": {
      "collapsed_sections": [],
      "name": "Tuples & Strings .ipynb",
      "provenance": [],
      "authorship_tag": "ABX9TyO7IIVzs3IwsVJbgiH3Rwnn",
      "include_colab_link": true
    },
    "kernelspec": {
      "display_name": "Python 3",
      "name": "python3"
    },
    "language_info": {
      "name": "python"
    }
  },
  "nbformat": 4,
  "nbformat_minor": 0
}