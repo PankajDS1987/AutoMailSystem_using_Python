{
  "nbformat": 4,
  "nbformat_minor": 0,
  "metadata": {
    "colab": {
      "name": "Searching.ipynb",
      "provenance": [],
      "collapsed_sections": [],
      "authorship_tag": "ABX9TyODvYNkklG09j+qB32JUxq3",
      "include_colab_link": true
    },
    "kernelspec": {
      "name": "python3",
      "display_name": "Python 3"
    },
    "language_info": {
      "name": "python"
    }
  },
  "cells": [
    {
      "cell_type": "markdown",
      "metadata": {
        "id": "view-in-github",
        "colab_type": "text"
      },
      "source": [
        "<a href=\"https://colab.research.google.com/github/PankajDS1987/AutoMailSystem_using_Python/blob/master/Searching.ipynb\" target=\"_parent\"><img src=\"https://colab.research.google.com/assets/colab-badge.svg\" alt=\"Open In Colab\"/></a>"
      ]
    },
    {
      "cell_type": "markdown",
      "source": [
        "\n",
        "Searching can be done using two methods\n",
        "\n",
        ">  Linear Search\n",
        "\n",
        ">  Binary Search\n",
        "\n",
        "\n",
        "\n",
        "---\n",
        "\n",
        "\n",
        "\n",
        "\n"
      ],
      "metadata": {
        "id": "uEUX0zsDdeQc"
      }
    },
    {
      "cell_type": "code",
      "source": [
        "#let's understand it from BASIC to PRO level \n",
        "lst = [14,167,43,6,4,56,44,100,34,55,]\n",
        "#now we are trying to find if 44 exits in the above list or not\n",
        "#we perform a for loop to get the answer along with its index.\n",
        "index=0\n",
        "for i in lst:\n",
        "  index+=1\n",
        "  if i==44:\n",
        "    print(index)\n",
        "  "
      ],
      "metadata": {
        "colab": {
          "base_uri": "https://localhost:8080/"
        },
        "id": "Yca83SQXdeuo",
        "outputId": "76434317-cf62-4b8d-d83f-eeea551180ae"
      },
      "execution_count": 4,
      "outputs": [
        {
          "output_type": "stream",
          "name": "stdout",
          "text": [
            "not found\n",
            "not found\n",
            "not found\n",
            "not found\n",
            "not found\n",
            "not found\n",
            "7\n",
            "not found\n",
            "not found\n",
            "not found\n"
          ]
        }
      ]
    },
    {
      "cell_type": "code",
      "source": [
        "print(len(lst))"
      ],
      "metadata": {
        "colab": {
          "base_uri": "https://localhost:8080/"
        },
        "id": "Rbmz9h4fi7X4",
        "outputId": "33b15647-923a-4e46-88d3-7d46740e77b6"
      },
      "execution_count": 26,
      "outputs": [
        {
          "output_type": "stream",
          "name": "stdout",
          "text": [
            "10\n"
          ]
        }
      ]
    },
    {
      "cell_type": "code",
      "source": [
        "#we can create a function of the same\n",
        "def linear_search(lst, target):\n",
        "  tgt = \"Not Found\"\n",
        "  index=0\n",
        "  for i in lst:\n",
        "    if i==target:\n",
        "      return index\n",
        "    index+=1\n",
        "\n",
        "  return tgt\n",
        "  \n"
      ],
      "metadata": {
        "id": "z7w8UTNfe6DT"
      },
      "execution_count": 9,
      "outputs": []
    },
    {
      "cell_type": "code",
      "source": [
        "#calling the function\n",
        "x = linear_search(lst,66)\n",
        "print(x)"
      ],
      "metadata": {
        "colab": {
          "base_uri": "https://localhost:8080/"
        },
        "id": "p6NzTGN8geNC",
        "outputId": "a69bbc74-3e7d-4314-a7aa-145f2c3a9d18"
      },
      "execution_count": 11,
      "outputs": [
        {
          "output_type": "stream",
          "name": "stdout",
          "text": [
            "Not Found\n"
          ]
        }
      ]
    },
    {
      "cell_type": "code",
      "source": [
        "#calling the function\n",
        "x = linear_search(lst,44)\n",
        "print(x)"
      ],
      "metadata": {
        "colab": {
          "base_uri": "https://localhost:8080/"
        },
        "id": "MbW07eu-hB-w",
        "outputId": "abf8b36b-0576-4322-87c1-b3201ca23bb4"
      },
      "execution_count": 12,
      "outputs": [
        {
          "output_type": "stream",
          "name": "stdout",
          "text": [
            "6\n"
          ]
        }
      ]
    },
    {
      "cell_type": "code",
      "source": [
        "#we can use enumerate function to get the index (easier way than previous method)\n",
        "enum_List = enumerate(lst)\n",
        "print(enum_List)\n",
        "enum_List"
      ],
      "metadata": {
        "colab": {
          "base_uri": "https://localhost:8080/"
        },
        "id": "NR9cNH6UhEOx",
        "outputId": "28afd28a-b24f-477d-9a38-eea224f7c7d4"
      },
      "execution_count": 21,
      "outputs": [
        {
          "output_type": "stream",
          "name": "stdout",
          "text": [
            "<enumerate object at 0x7f5c4d1a68c0>\n"
          ]
        },
        {
          "output_type": "execute_result",
          "data": {
            "text/plain": [
              "<enumerate at 0x7f5c4d1a68c0>"
            ]
          },
          "metadata": {},
          "execution_count": 21
        }
      ]
    },
    {
      "cell_type": "code",
      "source": [
        "list(enum_List)"
      ],
      "metadata": {
        "colab": {
          "base_uri": "https://localhost:8080/"
        },
        "id": "m9j5aH7ChnX4",
        "outputId": "0879ea1c-6771-482c-d31d-9ca837f2a58a"
      },
      "execution_count": 22,
      "outputs": [
        {
          "output_type": "execute_result",
          "data": {
            "text/plain": [
              "[(0, 14),\n",
              " (1, 167),\n",
              " (2, 43),\n",
              " (3, 6),\n",
              " (4, 4),\n",
              " (5, 56),\n",
              " (6, 44),\n",
              " (7, 100),\n",
              " (8, 34),\n",
              " (9, 55)]"
            ]
          },
          "metadata": {},
          "execution_count": 22
        }
      ]
    },
    {
      "cell_type": "code",
      "source": [
        "def linear_search_enum(lst,target):\n",
        "  for index,value in enumerate(lst):\n",
        "    if value==target:\n",
        "      return index\n",
        "  return \"not found\""
      ],
      "metadata": {
        "id": "-uguPNCzh7_j"
      },
      "execution_count": 23,
      "outputs": []
    },
    {
      "cell_type": "code",
      "source": [
        "res = linear_search_enum(lst,94)\n",
        "print(res)"
      ],
      "metadata": {
        "colab": {
          "base_uri": "https://localhost:8080/"
        },
        "id": "iHY4SH8Hinv7",
        "outputId": "a2a661d0-f573-43ac-a883-0403abd1ab9b"
      },
      "execution_count": 27,
      "outputs": [
        {
          "output_type": "stream",
          "name": "stdout",
          "text": [
            "not found\n"
          ]
        }
      ]
    },
    {
      "cell_type": "code",
      "source": [
        "res = linear_search_enum(lst,34)\n",
        "print(res)"
      ],
      "metadata": {
        "colab": {
          "base_uri": "https://localhost:8080/"
        },
        "id": "zNIygiEUi1qT",
        "outputId": "b86805ed-6a86-4732-d577-e764511fbdee"
      },
      "execution_count": 28,
      "outputs": [
        {
          "output_type": "stream",
          "name": "stdout",
          "text": [
            "8\n"
          ]
        }
      ]
    },
    {
      "cell_type": "code",
      "source": [
        ""
      ],
      "metadata": {
        "id": "vOGIaNOrjWGw"
      },
      "execution_count": null,
      "outputs": []
    }
  ]
}