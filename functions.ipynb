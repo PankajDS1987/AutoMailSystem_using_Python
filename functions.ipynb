{
  "nbformat": 4,
  "nbformat_minor": 0,
  "metadata": {
    "colab": {
      "name": "functions.ipynb",
      "provenance": [],
      "authorship_tag": "ABX9TyOwKvXyjV8gTn34bub6A8lR",
      "include_colab_link": true
    },
    "kernelspec": {
      "name": "python3",
      "display_name": "Python 3"
    },
    "language_info": {
      "name": "python"
    }
  },
  "cells": [
    {
      "cell_type": "markdown",
      "metadata": {
        "id": "view-in-github",
        "colab_type": "text"
      },
      "source": [
        "<a href=\"https://colab.research.google.com/github/PankajDS1987/AutoMailSystem_using_Python/blob/master/functions.ipynb\" target=\"_parent\"><img src=\"https://colab.research.google.com/assets/colab-badge.svg\" alt=\"Open In Colab\"/></a>"
      ]
    },
    {
      "cell_type": "code",
      "execution_count": 1,
      "metadata": {
        "id": "7K_N-nMeuIk9"
      },
      "outputs": [],
      "source": [
        "def Intro(name):\n",
        "  print(\"My name is\",name)\n",
        "  print()\n",
        "\n"
      ]
    },
    {
      "cell_type": "markdown",
      "source": [
        "In Functions if an argument is passed and then you can not call/run the function without passing the argument.\n",
        "\n",
        "You would need to take care of the order in which function accepts the arguments. Else, the results could be different.\n",
        "\n",
        "\n",
        "If we have to define any default parameters in a function then the same should be added at the end among all parameters.\n",
        "\n",
        "\n",
        "in print() function the default parameters are (end & separator). \n",
        "Separator contains space (' ')\n",
        "end contains a new line ()"
      ],
      "metadata": {
        "id": "rYeNmsfkwqys"
      }
    },
    {
      "cell_type": "markdown",
      "source": [
        "**Positional Argument**\n",
        "\n",
        "**Keyword Argument**: Keyword argument is an argument which is passed with assignment operator. (e.g. def intro (name,age,place) \n",
        "print(name,age,place) \n",
        "\n",
        "intro(Pankaj,35,place=\"Palampur\")\n",
        "\n",
        "\n",
        "Fix: SyntaxError: positional argument follows keyword argument in Python\n",
        "\n",
        "\n",
        "**PASS** does nothing. \n",
        "def test():\n",
        "  pass\n",
        "\n",
        "  this will help in creating the function otherwise\n",
        "\n",
        "\n",
        "**RETURN** return statement gives the value \n",
        "print does not return the value.\n",
        "\n",
        "What are the allowed characters in Python function names?\n",
        "\n",
        "\n",
        "The user-defined names that are given to Functions or variables are known as Identifiers. It helps in differentiating one entity from another and also serves as a definition of the use of that entity sometimes. As in every programming language, there are some restrictions/ limitations for Identifiers. So, is the case with Python, we need to take care of the following points before using an Identifier.\n",
        "\n",
        "Rules for writing Identifiers:\n",
        "\n",
        "The first and foremost restriction is that Identifiers cannot be the same as Keywords. There are special reserved keywords in every programming language that has its own meaning and these names can’t be used as Identifiers in Python."
      ],
      "metadata": {
        "id": "jv6Pek9S1E9X"
      }
    },
    {
      "cell_type": "markdown",
      "source": [
        "**Docstring** is used to give details of the function ( explanation about parameters, result etc. )\n",
        "print?*\n",
        "A docstring can be added using \"\"\".......text.....\"\"\"\n",
        "\"\"\" this function returns sum of variable a and variable b. \"\"\"\n"
      ],
      "metadata": {
        "id": "nrktZ_3768R8"
      }
    },
    {
      "cell_type": "code",
      "source": [
        "Intro()\n",
        "#this returns an error since we are not passing the argument as we have setup the argument"
      ],
      "metadata": {
        "colab": {
          "base_uri": "https://localhost:8080/",
          "height": 165
        },
        "id": "Gf1o3pn2vHMq",
        "outputId": "b659d115-fc26-4ca3-c573-c00ca60a3368"
      },
      "execution_count": 2,
      "outputs": [
        {
          "output_type": "error",
          "ename": "TypeError",
          "evalue": "ignored",
          "traceback": [
            "\u001b[0;31m---------------------------------------------------------------------------\u001b[0m",
            "\u001b[0;31mTypeError\u001b[0m                                 Traceback (most recent call last)",
            "\u001b[0;32m<ipython-input-2-005817303e8e>\u001b[0m in \u001b[0;36m<module>\u001b[0;34m()\u001b[0m\n\u001b[0;32m----> 1\u001b[0;31m \u001b[0mIntro\u001b[0m\u001b[0;34m(\u001b[0m\u001b[0;34m)\u001b[0m\u001b[0;34m\u001b[0m\u001b[0;34m\u001b[0m\u001b[0m\n\u001b[0m",
            "\u001b[0;31mTypeError\u001b[0m: Intro() missing 1 required positional argument: 'name'"
          ]
        }
      ]
    },
    {
      "cell_type": "code",
      "source": [
        "Intro(\"Rahul\")\n"
      ],
      "metadata": {
        "colab": {
          "base_uri": "https://localhost:8080/"
        },
        "id": "G0Fwnf2V2QEX",
        "outputId": "62cfbb49-582f-4e74-c703-02e74c853d05"
      },
      "execution_count": null,
      "outputs": [
        {
          "output_type": "stream",
          "name": "stdout",
          "text": [
            "My name is Rahul\n",
            "\n"
          ]
        }
      ]
    },
    {
      "cell_type": "code",
      "source": [
        "Intro?\n"
      ],
      "metadata": {
        "id": "oBe00kd97AeV"
      },
      "execution_count": 14,
      "outputs": []
    },
    {
      "cell_type": "code",
      "source": [
        "def Introduction(name,age,city):\n",
        "  print(\"my name is\", name)\n",
        "  print(\"my age is\", age)\n",
        "  print(\"I Live in\" , city)"
      ],
      "metadata": {
        "id": "cavBEbZP2U9z"
      },
      "execution_count": 5,
      "outputs": []
    },
    {
      "cell_type": "code",
      "source": [
        "Introduction(\"Pankaj\",34,\"Palampur\")"
      ],
      "metadata": {
        "colab": {
          "base_uri": "https://localhost:8080/",
          "height": 165
        },
        "id": "mTQsUrLOFBVA",
        "outputId": "2a3ed431-b10b-451a-a2a2-11350cdd05e3"
      },
      "execution_count": 4,
      "outputs": [
        {
          "output_type": "error",
          "ename": "NameError",
          "evalue": "ignored",
          "traceback": [
            "\u001b[0;31m---------------------------------------------------------------------------\u001b[0m",
            "\u001b[0;31mNameError\u001b[0m                                 Traceback (most recent call last)",
            "\u001b[0;32m<ipython-input-4-68fa74e56e1a>\u001b[0m in \u001b[0;36m<module>\u001b[0;34m()\u001b[0m\n\u001b[0;32m----> 1\u001b[0;31m \u001b[0mIntroduction\u001b[0m\u001b[0;34m(\u001b[0m\u001b[0;34m\"Pankaj\"\u001b[0m\u001b[0;34m,\u001b[0m\u001b[0;36m34\u001b[0m\u001b[0;34m,\u001b[0m\u001b[0;34m\"Palampur\"\u001b[0m\u001b[0;34m)\u001b[0m\u001b[0;34m\u001b[0m\u001b[0;34m\u001b[0m\u001b[0m\n\u001b[0m",
            "\u001b[0;31mNameError\u001b[0m: name 'Introduction' is not defined"
          ]
        }
      ]
    },
    {
      "cell_type": "code",
      "source": [
        "Introduction (age=35, city=\"Amrtisar\",name=\"Pankaj\")"
      ],
      "metadata": {
        "colab": {
          "base_uri": "https://localhost:8080/"
        },
        "id": "AnhhK30xxro1",
        "outputId": "c8a67e3d-5062-424b-fb27-4c3fd13242d4"
      },
      "execution_count": 6,
      "outputs": [
        {
          "output_type": "stream",
          "name": "stdout",
          "text": [
            "my name is Pankaj\n",
            "my age is 35\n",
            "I Live in Amrtisar\n"
          ]
        }
      ]
    },
    {
      "cell_type": "code",
      "source": [
        "Introduction (\"Pankaj\", city=\"Amrtisar\",age=35)"
      ],
      "metadata": {
        "colab": {
          "base_uri": "https://localhost:8080/"
        },
        "id": "U9UEob7bx_2S",
        "outputId": "98e33369-c03c-486c-a7bb-1a880f876458"
      },
      "execution_count": 7,
      "outputs": [
        {
          "output_type": "stream",
          "name": "stdout",
          "text": [
            "my name is Pankaj\n",
            "my age is 35\n",
            "I Live in Amrtisar\n"
          ]
        }
      ]
    },
    {
      "cell_type": "code",
      "source": [
        "def fun1 (name,age):\n",
        "  print(name,age)"
      ],
      "metadata": {
        "id": "ATsPpphYzUjE"
      },
      "execution_count": 9,
      "outputs": []
    },
    {
      "cell_type": "code",
      "source": [
        "fun1(\"Mohit\", age=23)"
      ],
      "metadata": {
        "colab": {
          "base_uri": "https://localhost:8080/"
        },
        "id": "1eypN89Yzd46",
        "outputId": "a6dde2bd-a725-4caf-a4ed-ab38d8e7e5e2"
      },
      "execution_count": 11,
      "outputs": [
        {
          "output_type": "stream",
          "name": "stdout",
          "text": [
            "Mohit 23\n"
          ]
        }
      ]
    },
    {
      "cell_type": "code",
      "source": [
        "fun1(age =23, name=\"Mohit\")"
      ],
      "metadata": {
        "colab": {
          "base_uri": "https://localhost:8080/"
        },
        "id": "VSTTfexizg6J",
        "outputId": "b78820c8-4124-44f0-e926-00a098b9375a"
      },
      "execution_count": 12,
      "outputs": [
        {
          "output_type": "stream",
          "name": "stdout",
          "text": [
            "Mohit 23\n"
          ]
        }
      ]
    },
    {
      "cell_type": "code",
      "source": [
        "fun1(name=\"Mohit\", 23)"
      ],
      "metadata": {
        "colab": {
          "base_uri": "https://localhost:8080/",
          "height": 130
        },
        "id": "04d6SCdIzlQi",
        "outputId": "2164f69c-0c62-47a8-f838-ee4069837988"
      },
      "execution_count": 13,
      "outputs": [
        {
          "output_type": "error",
          "ename": "SyntaxError",
          "evalue": "ignored",
          "traceback": [
            "\u001b[0;36m  File \u001b[0;32m\"<ipython-input-13-b1b88943b664>\"\u001b[0;36m, line \u001b[0;32m1\u001b[0m\n\u001b[0;31m    fun1(name=\"Mohit\", 23)\u001b[0m\n\u001b[0m                      ^\u001b[0m\n\u001b[0;31mSyntaxError\u001b[0m\u001b[0;31m:\u001b[0m positional argument follows keyword argument\n"
          ]
        }
      ]
    },
    {
      "cell_type": "code",
      "source": [
        "def solve(A, B):\n",
        "  return A + B\n"
      ],
      "metadata": {
        "id": "-YLgdHPIQbBv"
      },
      "execution_count": 19,
      "outputs": []
    },
    {
      "cell_type": "code",
      "source": [
        "output = solve(34,85)\n",
        "print(output)\n"
      ],
      "metadata": {
        "colab": {
          "base_uri": "https://localhost:8080/"
        },
        "id": "wWanzzZk8jki",
        "outputId": "78dedbd2-2fb6-4f03-89a1-2a4f98b4ba1f"
      },
      "execution_count": 21,
      "outputs": [
        {
          "output_type": "stream",
          "name": "stdout",
          "text": [
            "119\n"
          ]
        }
      ]
    },
    {
      "cell_type": "code",
      "source": [
        "def my_function(x):\n",
        "  return 5 * x\n",
        "\n",
        "print(my_function(3))\n",
        "print(my_function(5))\n",
        "print(my_function(9))"
      ],
      "metadata": {
        "colab": {
          "base_uri": "https://localhost:8080/"
        },
        "id": "MKAxwyaUdhMi",
        "outputId": "f58d2169-bffc-4491-df0c-b4022dc5715c"
      },
      "execution_count": null,
      "outputs": [
        {
          "output_type": "stream",
          "name": "stdout",
          "text": [
            "15\n",
            "25\n",
            "45\n"
          ]
        }
      ]
    },
    {
      "cell_type": "code",
      "source": [
        "def solve(A):\n",
        "  s=int(sqrt(A)\n",
        "  if (A*A) == s:\n",
        "    print(1)\n",
        "  else:\n",
        "    print(-1)"
      ],
      "metadata": {
        "id": "8oW1UdB8Wcnf"
      },
      "execution_count": null,
      "outputs": []
    },
    {
      "cell_type": "markdown",
      "source": [
        "**Create a function to return the absolute of a number.**"
      ],
      "metadata": {
        "id": "Gi0GE9GF9tMM"
      }
    },
    {
      "cell_type": "code",
      "source": [
        "def my_absolute(x):\n",
        "  return abs(x)\n",
        "\n",
        "print(my_absolute(-5.6))"
      ],
      "metadata": {
        "colab": {
          "base_uri": "https://localhost:8080/"
        },
        "id": "nYk9aWas8w1s",
        "outputId": "7674b8e0-9787-4897-8253-ef7486b09059"
      },
      "execution_count": null,
      "outputs": [
        {
          "output_type": "stream",
          "name": "stdout",
          "text": [
            "5.6\n"
          ]
        }
      ]
    },
    {
      "cell_type": "code",
      "source": [
        "def myAbs(x):\n",
        "#if the number is negative - just multiply with -1 to return a positive number\n",
        "  if x<0:\n",
        "    return (-1)*x\n",
        "  else:\n",
        "    return (x)\n",
        "print(my_absolute(-15.6))    "
      ],
      "metadata": {
        "colab": {
          "base_uri": "https://localhost:8080/"
        },
        "id": "NolIHoBQ9FWK",
        "outputId": "1eb4dd9e-d092-4057-facb-1b094c75bc86"
      },
      "execution_count": null,
      "outputs": [
        {
          "output_type": "stream",
          "name": "stdout",
          "text": [
            "15.6\n"
          ]
        }
      ]
    },
    {
      "cell_type": "code",
      "source": [
        "#Find if an input number is Sqaure or not\n",
        "import math\n",
        "\n",
        "def square(A):\n",
        "  sq=int(math.sqrt(A))\n",
        "  if sq*sq==A:\n",
        "    return (sq)\n",
        "  else:\n",
        "    return (-1)\n",
        "print(square(64))"
      ],
      "metadata": {
        "colab": {
          "base_uri": "https://localhost:8080/"
        },
        "id": "vHwkaYFLVtRS",
        "outputId": "5acf6c04-b842-4cdc-f20f-457b79e1773e"
      },
      "execution_count": null,
      "outputs": [
        {
          "output_type": "stream",
          "name": "stdout",
          "text": [
            "8\n"
          ]
        }
      ]
    }
  ]
}