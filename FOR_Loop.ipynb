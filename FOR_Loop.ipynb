{
  "nbformat": 4,
  "nbformat_minor": 0,
  "metadata": {
    "colab": {
      "name": "FOR Loop.ipynb",
      "provenance": [],
      "collapsed_sections": [],
      "authorship_tag": "ABX9TyNc9FpwIWxht1+E3xpxsIeh",
      "include_colab_link": true
    },
    "kernelspec": {
      "name": "python3",
      "display_name": "Python 3"
    },
    "language_info": {
      "name": "python"
    }
  },
  "cells": [
    {
      "cell_type": "markdown",
      "metadata": {
        "id": "view-in-github",
        "colab_type": "text"
      },
      "source": [
        "<a href=\"https://colab.research.google.com/github/PankajDS1987/AutoMailSystem_using_Python/blob/master/FOR_Loop.ipynb\" target=\"_parent\"><img src=\"https://colab.research.google.com/assets/colab-badge.svg\" alt=\"Open In Colab\"/></a>"
      ]
    },
    {
      "cell_type": "markdown",
      "source": [
        "**For Loops**\n",
        "While vs For Loops\n",
        "for initialize the iterator -- in case of while loop- it contains the condition"
      ],
      "metadata": {
        "id": "DFuOJE1f5PD6"
      }
    },
    {
      "cell_type": "markdown",
      "source": [
        "For Loop\n",
        "The ierator starts form the beginning of the sequence. In each iteration, the iterator updates to the next value in the sequence.\n",
        "\n",
        "In a for loop, we need to define 3 main points:\n",
        "1. Name of the iterator.\n",
        "2. The sequence to be traversed.\n",
        "3. The set of operations to perform\n",
        "\n",
        "for <var> in <iterable>:\n",
        "    <statement(s)>\n",
        "    \n",
        "<iterable> is a collection of objects—for example, a list or tuple. The <statement(s)> in the loop body are denoted by indentation, as with all Python control structures, and are executed once for each item in <iterable>. The loop variable <var> takes on the value of the next element in <iterable> each time through the loop."
      ],
      "metadata": {
        "id": "1Fxjvg8ydAB2"
      }
    },
    {
      "cell_type": "code",
      "execution_count": null,
      "metadata": {
        "colab": {
          "base_uri": "https://localhost:8080/"
        },
        "id": "NV2RIOvh44J3",
        "outputId": "38198f8a-8abb-4955-867e-564b314581ee"
      },
      "outputs": [
        {
          "output_type": "stream",
          "name": "stdout",
          "text": [
            "range(0, 5)\n"
          ]
        }
      ],
      "source": [
        "print(range(5))"
      ]
    },
    {
      "cell_type": "code",
      "source": [
        "print(range(1))"
      ],
      "metadata": {
        "colab": {
          "base_uri": "https://localhost:8080/"
        },
        "id": "49va_xi4ebQE",
        "outputId": "4a7d5cbd-5e5b-4f3e-c41f-19048fd274c9"
      },
      "execution_count": 1,
      "outputs": [
        {
          "output_type": "stream",
          "name": "stdout",
          "text": [
            "range(0, 1)\n"
          ]
        }
      ]
    },
    {
      "cell_type": "code",
      "source": [
        "for i in range(1):\n",
        "  print(i)\n",
        "  print('*')"
      ],
      "metadata": {
        "colab": {
          "base_uri": "https://localhost:8080/"
        },
        "id": "OcFYE7v9eeb7",
        "outputId": "8d0f095c-18b8-4efd-cb9f-3fad185a4838"
      },
      "execution_count": 2,
      "outputs": [
        {
          "output_type": "stream",
          "name": "stdout",
          "text": [
            "0\n",
            "*\n"
          ]
        }
      ]
    },
    {
      "cell_type": "code",
      "source": [
        "n=1\n",
        "for i in range(n):\n",
        "  print(i)\n",
        "  print('*')"
      ],
      "metadata": {
        "colab": {
          "base_uri": "https://localhost:8080/"
        },
        "id": "o5uocdmafi6T",
        "outputId": "24817548-6ff8-4226-d2bd-8170c7425192"
      },
      "execution_count": 5,
      "outputs": [
        {
          "output_type": "stream",
          "name": "stdout",
          "text": [
            "0\n",
            "*\n"
          ]
        }
      ]
    },
    {
      "cell_type": "code",
      "source": [
        "n=5\n",
        "for i in n:\n",
        "  print(i)\n",
        "  print('*')\n",
        "  #it will not run since variable'n' has not been set as list or tupe or array so, iterator is not able to iterate.\n",
        "  #let's understand an iterator itrates over the ojects (sequence of objects)\n",
        "  #so unless we use range(function) with it, it won't be able to iterate.\n",
        "\n"
      ],
      "metadata": {
        "colab": {
          "base_uri": "https://localhost:8080/",
          "height": 235
        },
        "id": "8__lzqcZgW7z",
        "outputId": "5dcd6906-9a98-4172-967e-40954d040104"
      },
      "execution_count": 8,
      "outputs": [
        {
          "output_type": "error",
          "ename": "TypeError",
          "evalue": "ignored",
          "traceback": [
            "\u001b[0;31m---------------------------------------------------------------------------\u001b[0m",
            "\u001b[0;31mTypeError\u001b[0m                                 Traceback (most recent call last)",
            "\u001b[0;32m<ipython-input-8-e28aa90260a3>\u001b[0m in \u001b[0;36m<module>\u001b[0;34m()\u001b[0m\n\u001b[1;32m      1\u001b[0m \u001b[0mn\u001b[0m\u001b[0;34m=\u001b[0m\u001b[0;36m5\u001b[0m\u001b[0;34m\u001b[0m\u001b[0;34m\u001b[0m\u001b[0m\n\u001b[0;32m----> 2\u001b[0;31m \u001b[0;32mfor\u001b[0m \u001b[0mi\u001b[0m \u001b[0;32min\u001b[0m \u001b[0mn\u001b[0m\u001b[0;34m:\u001b[0m\u001b[0;34m\u001b[0m\u001b[0;34m\u001b[0m\u001b[0m\n\u001b[0m\u001b[1;32m      3\u001b[0m   \u001b[0mprint\u001b[0m\u001b[0;34m(\u001b[0m\u001b[0mi\u001b[0m\u001b[0;34m)\u001b[0m\u001b[0;34m\u001b[0m\u001b[0;34m\u001b[0m\u001b[0m\n\u001b[1;32m      4\u001b[0m   \u001b[0mprint\u001b[0m\u001b[0;34m(\u001b[0m\u001b[0;34m'*'\u001b[0m\u001b[0;34m)\u001b[0m\u001b[0;34m\u001b[0m\u001b[0;34m\u001b[0m\u001b[0m\n\u001b[1;32m      5\u001b[0m   \u001b[0;31m#it will not run since variable'n' has not been set as list or\u001b[0m\u001b[0;34m\u001b[0m\u001b[0;34m\u001b[0m\u001b[0;34m\u001b[0m\u001b[0m\n",
            "\u001b[0;31mTypeError\u001b[0m: 'int' object is not iterable"
          ]
        }
      ]
    },
    {
      "cell_type": "code",
      "source": [
        "n=122\n",
        "for i in range(n):\n",
        "  print(i)\n",
        "  #it prints till 121 (0 to 121)"
      ],
      "metadata": {
        "colab": {
          "base_uri": "https://localhost:8080/"
        },
        "id": "TSHpiMhBg-Qt",
        "outputId": "5f0978ce-811f-4b54-d8cb-676e8f256804"
      },
      "execution_count": 13,
      "outputs": [
        {
          "output_type": "stream",
          "name": "stdout",
          "text": [
            "0\n",
            "1\n",
            "2\n",
            "3\n",
            "4\n",
            "5\n",
            "6\n",
            "7\n",
            "8\n",
            "9\n",
            "10\n",
            "11\n",
            "12\n",
            "13\n",
            "14\n",
            "15\n",
            "16\n",
            "17\n",
            "18\n",
            "19\n",
            "20\n",
            "21\n",
            "22\n",
            "23\n",
            "24\n",
            "25\n",
            "26\n",
            "27\n",
            "28\n",
            "29\n",
            "30\n",
            "31\n",
            "32\n",
            "33\n",
            "34\n",
            "35\n",
            "36\n",
            "37\n",
            "38\n",
            "39\n",
            "40\n",
            "41\n",
            "42\n",
            "43\n",
            "44\n",
            "45\n",
            "46\n",
            "47\n",
            "48\n",
            "49\n",
            "50\n",
            "51\n",
            "52\n",
            "53\n",
            "54\n",
            "55\n",
            "56\n",
            "57\n",
            "58\n",
            "59\n",
            "60\n",
            "61\n",
            "62\n",
            "63\n",
            "64\n",
            "65\n",
            "66\n",
            "67\n",
            "68\n",
            "69\n",
            "70\n",
            "71\n",
            "72\n",
            "73\n",
            "74\n",
            "75\n",
            "76\n",
            "77\n",
            "78\n",
            "79\n",
            "80\n",
            "81\n",
            "82\n",
            "83\n",
            "84\n",
            "85\n",
            "86\n",
            "87\n",
            "88\n",
            "89\n",
            "90\n",
            "91\n",
            "92\n",
            "93\n",
            "94\n",
            "95\n",
            "96\n",
            "97\n",
            "98\n",
            "99\n",
            "100\n",
            "101\n",
            "102\n",
            "103\n",
            "104\n",
            "105\n",
            "106\n",
            "107\n",
            "108\n",
            "109\n",
            "110\n",
            "111\n",
            "112\n",
            "113\n",
            "114\n",
            "115\n",
            "116\n",
            "117\n",
            "118\n",
            "119\n",
            "120\n",
            "121\n"
          ]
        }
      ]
    },
    {
      "cell_type": "code",
      "source": [
        "n=int(input())\n",
        "print(type,id(n))\n",
        "#its printing the type of the variable n which belongs to a class category type."
      ],
      "metadata": {
        "colab": {
          "base_uri": "https://localhost:8080/"
        },
        "id": "Yvu2L8PYhcsc",
        "outputId": "1e716708-8065-4297-c24d-0de945da3d8e"
      },
      "execution_count": 14,
      "outputs": [
        {
          "output_type": "stream",
          "name": "stdout",
          "text": [
            "12345\n",
            "<class 'type'> 139818439768336\n"
          ]
        }
      ]
    },
    {
      "cell_type": "code",
      "source": [
        "n=int(input())\n",
        "print(n)\n",
        "print(type(n))"
      ],
      "metadata": {
        "colab": {
          "base_uri": "https://localhost:8080/"
        },
        "id": "vh5ycZWqhv8Q",
        "outputId": "dd34304a-bde4-4ccb-9f38-6c4f2a24c01d"
      },
      "execution_count": 17,
      "outputs": [
        {
          "output_type": "stream",
          "name": "stdout",
          "text": [
            "12345\n",
            "12345\n",
            "<class 'int'>\n"
          ]
        }
      ]
    },
    {
      "cell_type": "code",
      "source": [
        "n=list(map(int, input()))\n",
        "print(n)"
      ],
      "metadata": {
        "colab": {
          "base_uri": "https://localhost:8080/"
        },
        "id": "MGSPlNnJj-bv",
        "outputId": "90cc3fff-f2c7-442a-e68b-c79e786cd8d3"
      },
      "execution_count": 20,
      "outputs": [
        {
          "output_type": "stream",
          "name": "stdout",
          "text": [
            "12345\n",
            "[1, 2, 3, 4, 5]\n"
          ]
        }
      ]
    },
    {
      "cell_type": "code",
      "source": [
        "print(\"#1st example:\")\n",
        "print('')\n",
        "for i in n:\n",
        "  print(i)\n",
        "  \n",
        "print(\"#2nd example:\")\n",
        "print('')\n",
        "for i in n:\n",
        "  print(n)\n",
        "print(\"#3rd example:\")\n",
        "\n",
        "print('')\n",
        "for i in range(len(n)):\n",
        "  print(i)\n",
        "\n",
        "print(\"#4th example:\")\n",
        "print('')\n",
        "for i in range(n):\n",
        "  print(n)"
      ],
      "metadata": {
        "colab": {
          "base_uri": "https://localhost:8080/",
          "height": 617
        },
        "id": "XOxyVCrHkXNb",
        "outputId": "9804f1a5-b21d-4934-85f4-113167d1db6a"
      },
      "execution_count": 28,
      "outputs": [
        {
          "output_type": "stream",
          "name": "stdout",
          "text": [
            "#1st example:\n",
            "\n",
            "1\n",
            "2\n",
            "3\n",
            "4\n",
            "5\n",
            "#2nd example:\n",
            "\n",
            "[1, 2, 3, 4, 5]\n",
            "[1, 2, 3, 4, 5]\n",
            "[1, 2, 3, 4, 5]\n",
            "[1, 2, 3, 4, 5]\n",
            "[1, 2, 3, 4, 5]\n",
            "#3rd example:\n",
            "\n",
            "0\n",
            "1\n",
            "2\n",
            "3\n",
            "4\n",
            "#4th example:\n",
            "\n"
          ]
        },
        {
          "output_type": "error",
          "ename": "TypeError",
          "evalue": "ignored",
          "traceback": [
            "\u001b[0;31m---------------------------------------------------------------------------\u001b[0m",
            "\u001b[0;31mTypeError\u001b[0m                                 Traceback (most recent call last)",
            "\u001b[0;32m<ipython-input-28-a55708dd950a>\u001b[0m in \u001b[0;36m<module>\u001b[0;34m()\u001b[0m\n\u001b[1;32m     16\u001b[0m \u001b[0mprint\u001b[0m\u001b[0;34m(\u001b[0m\u001b[0;34m\"#4th example:\"\u001b[0m\u001b[0;34m)\u001b[0m\u001b[0;34m\u001b[0m\u001b[0;34m\u001b[0m\u001b[0m\n\u001b[1;32m     17\u001b[0m \u001b[0mprint\u001b[0m\u001b[0;34m(\u001b[0m\u001b[0;34m''\u001b[0m\u001b[0;34m)\u001b[0m\u001b[0;34m\u001b[0m\u001b[0;34m\u001b[0m\u001b[0m\n\u001b[0;32m---> 18\u001b[0;31m \u001b[0;32mfor\u001b[0m \u001b[0mi\u001b[0m \u001b[0;32min\u001b[0m \u001b[0mrange\u001b[0m\u001b[0;34m(\u001b[0m\u001b[0mn\u001b[0m\u001b[0;34m)\u001b[0m\u001b[0;34m:\u001b[0m\u001b[0;34m\u001b[0m\u001b[0;34m\u001b[0m\u001b[0m\n\u001b[0m\u001b[1;32m     19\u001b[0m   \u001b[0mprint\u001b[0m\u001b[0;34m(\u001b[0m\u001b[0mn\u001b[0m\u001b[0;34m)\u001b[0m\u001b[0;34m\u001b[0m\u001b[0;34m\u001b[0m\u001b[0m\n",
            "\u001b[0;31mTypeError\u001b[0m: 'list' object cannot be interpreted as an integer"
          ]
        }
      ]
    },
    {
      "cell_type": "markdown",
      "source": [
        ""
      ],
      "metadata": {
        "id": "tqOG6cJAsMl3"
      }
    },
    {
      "cell_type": "markdown",
      "source": [
        "**LIST is a pre-defined data type. in above example Range gives a range simply (0,5) when we print this range into a list it gives us the 5 values starting from 0)**"
      ],
      "metadata": {
        "id": "L4CeE1bI5MtE"
      }
    },
    {
      "cell_type": "code",
      "source": [
        "print(list(range(5)))"
      ],
      "metadata": {
        "colab": {
          "base_uri": "https://localhost:8080/"
        },
        "id": "WYKbKmfz5XXj",
        "outputId": "58e36fa8-840f-44a3-eab5-724e5d8c909a"
      },
      "execution_count": null,
      "outputs": [
        {
          "output_type": "stream",
          "name": "stdout",
          "text": [
            "[0, 1, 2, 3, 4]\n"
          ]
        }
      ]
    },
    {
      "cell_type": "code",
      "source": [
        "print(list(range(1,6)))"
      ],
      "metadata": {
        "colab": {
          "base_uri": "https://localhost:8080/"
        },
        "id": "mCoceLL66KFd",
        "outputId": "b14a7288-8ec8-4565-a959-24558e9f2a16"
      },
      "execution_count": null,
      "outputs": [
        {
          "output_type": "stream",
          "name": "stdout",
          "text": [
            "[1, 2, 3, 4, 5]\n"
          ]
        }
      ]
    },
    {
      "cell_type": "markdown",
      "source": [
        "its bit different from mathematics. in above example we are calling the function of range and passing 2 arguments. in previous example . It includes Starting point and excludes the end point while we try to print the range."
      ],
      "metadata": {
        "id": "6CVY3O756-RS"
      }
    },
    {
      "cell_type": "code",
      "source": [
        "print(list(range(2,8)))"
      ],
      "metadata": {
        "colab": {
          "base_uri": "https://localhost:8080/"
        },
        "id": "6cl-M3Q07Pel",
        "outputId": "23d6a562-6fe6-4ef6-b6c0-6e131f1dfdea"
      },
      "execution_count": null,
      "outputs": [
        {
          "output_type": "stream",
          "name": "stdout",
          "text": [
            "[2, 3, 4, 5, 6, 7]\n"
          ]
        }
      ]
    },
    {
      "cell_type": "markdown",
      "source": [
        "**Printing ODD Numbers in a range** now in the range function we can add one more argument of the gap, e.g. size of 2 (incremented by 2 we can say)"
      ],
      "metadata": {
        "id": "hUFVFo-98Wcn"
      }
    },
    {
      "cell_type": "code",
      "source": [
        "print(list(range(2,20,2)))"
      ],
      "metadata": {
        "colab": {
          "base_uri": "https://localhost:8080/"
        },
        "id": "ZBryPPQF8ay-",
        "outputId": "f0c410b0-8466-42ad-e154-77146900ca31"
      },
      "execution_count": null,
      "outputs": [
        {
          "output_type": "stream",
          "name": "stdout",
          "text": [
            "[2, 4, 6, 8, 10, 12, 14, 16, 18]\n"
          ]
        }
      ]
    },
    {
      "cell_type": "code",
      "source": [
        "print(range(2,20,2))"
      ],
      "metadata": {
        "colab": {
          "base_uri": "https://localhost:8080/"
        },
        "id": "yzQcKnDC9R4u",
        "outputId": "630f38e7-d30c-4a3d-c9b1-1fe913839052"
      },
      "execution_count": null,
      "outputs": [
        {
          "output_type": "stream",
          "name": "stdout",
          "text": [
            "range(2, 20, 2)\n"
          ]
        }
      ]
    },
    {
      "cell_type": "code",
      "source": [
        "print(list(range(1,21,3)))"
      ],
      "metadata": {
        "colab": {
          "base_uri": "https://localhost:8080/"
        },
        "id": "DVAMpyf590wn",
        "outputId": "c4141f2f-9831-4a8a-e762-5233797ddc17"
      },
      "execution_count": null,
      "outputs": [
        {
          "output_type": "stream",
          "name": "stdout",
          "text": [
            "[1, 4, 7, 10, 13, 16, 19]\n"
          ]
        }
      ]
    },
    {
      "cell_type": "code",
      "source": [
        "print(list(range(20,10,-4))) #here 10 is the last digit so it won't be included since we are decreasing."
      ],
      "metadata": {
        "colab": {
          "base_uri": "https://localhost:8080/"
        },
        "id": "RjtofP---IF6",
        "outputId": "c9609888-dc89-41a7-c616-630dc8523110"
      },
      "execution_count": null,
      "outputs": [
        {
          "output_type": "stream",
          "name": "stdout",
          "text": [
            "[20, 16, 12]\n"
          ]
        }
      ]
    },
    {
      "cell_type": "markdown",
      "source": [
        "## **Challenge 1: Sum of Number from 1 to N** "
      ],
      "metadata": {
        "id": "vU6fFdFW8g5V"
      }
    },
    {
      "cell_type": "code",
      "source": [
        "n = int(input())"
      ],
      "metadata": {
        "colab": {
          "base_uri": "https://localhost:8080/"
        },
        "id": "32BKc7n69bmN",
        "outputId": "02bc2e5f-7681-4794-b21d-6d5247a81204"
      },
      "execution_count": null,
      "outputs": [
        {
          "name": "stdout",
          "output_type": "stream",
          "text": [
            "10\n"
          ]
        }
      ]
    },
    {
      "cell_type": "code",
      "source": [
        "sum=0\n",
        "for i in range(1,n+1):\n",
        "  sum+=i\n",
        "print(sum)  "
      ],
      "metadata": {
        "colab": {
          "base_uri": "https://localhost:8080/"
        },
        "id": "daUdWPl_9pSJ",
        "outputId": "274758ee-c336-4be3-ff70-7badaf9edc9b"
      },
      "execution_count": null,
      "outputs": [
        {
          "output_type": "stream",
          "name": "stdout",
          "text": [
            "55\n"
          ]
        }
      ]
    },
    {
      "cell_type": "markdown",
      "source": [
        "Challenge 2: answet the output for the below code:\n",
        "\n",
        "N = int(input())\n",
        "for i in range(N):\n",
        "  print(i, end =' ')"
      ],
      "metadata": {
        "id": "I4YGYtnt-tiU"
      }
    },
    {
      "cell_type": "code",
      "source": [
        "N = int(input())\n",
        "for i in range(N):\n",
        "  print(i, end =' ')"
      ],
      "metadata": {
        "colab": {
          "base_uri": "https://localhost:8080/"
        },
        "id": "Y1Uv0odG_I2i",
        "outputId": "20f4adfe-6e35-403b-ba92-23110f0bc6a4"
      },
      "execution_count": null,
      "outputs": [
        {
          "output_type": "stream",
          "name": "stdout",
          "text": [
            "12\n",
            "0 1 2 3 4 5 6 7 8 9 10 11 "
          ]
        }
      ]
    },
    {
      "cell_type": "code",
      "source": [
        "#print the first N natural number from 1 to N\n",
        "\n",
        "n = int(input())\n",
        "for i in range(1,n+1):\n",
        "  print(i, end = ' ,')"
      ],
      "metadata": {
        "colab": {
          "base_uri": "https://localhost:8080/"
        },
        "id": "iQPToRIK_n20",
        "outputId": "3f424a5a-2014-4676-8b30-b1a5ec78ffd6"
      },
      "execution_count": null,
      "outputs": [
        {
          "output_type": "stream",
          "name": "stdout",
          "text": [
            "3\n",
            "1 ,2 ,3 ,"
          ]
        }
      ]
    },
    {
      "cell_type": "code",
      "source": [
        "#Print the Odd numbers from n to 1 -- eg. if n = 5 print(5 3 1), n = 10 print( 9 7 5 3 1)\n",
        "n = int(input())\n",
        "odd=0\n",
        "for i in range (n,0,-2)"
      ],
      "metadata": {
        "id": "DUiJKwoXHDht"
      },
      "execution_count": null,
      "outputs": []
    },
    {
      "cell_type": "code",
      "source": [
        "n = int(input())\n",
        "# check if a number is even\n",
        "if n %2==0:\n",
        "  for i in range(n-1,0,-2):\n",
        "    print(i, end = ',')\n",
        "else:\n",
        "  for i in range(n,0,-2):\n",
        "    print(i, end = ',')"
      ],
      "metadata": {
        "colab": {
          "base_uri": "https://localhost:8080/"
        },
        "id": "vJiK5I2XXFgV",
        "outputId": "93217f1b-f11a-4c22-c8dd-d0003973aa67"
      },
      "execution_count": null,
      "outputs": [
        {
          "output_type": "stream",
          "name": "stdout",
          "text": [
            "12\n",
            "11,9,7,5,3,1,"
          ]
        }
      ]
    },
    {
      "cell_type": "code",
      "source": [
        "#2nd approach Print the Odd numbers from n to 1 -- eg. if n = 5 print(5 3 1), n = 10 print( 9 7 5 3 1)\n",
        "n = int(input())\n",
        "if n%2 == 0:\n",
        "  n -= 1\n",
        "for i in range(n,0,-2):\n",
        "  print(i)"
      ],
      "metadata": {
        "colab": {
          "base_uri": "https://localhost:8080/"
        },
        "id": "FiNQsZ-Wp8wr",
        "outputId": "ccf21215-0cc2-43ec-a086-a3b50198c7cd"
      },
      "execution_count": null,
      "outputs": [
        {
          "output_type": "stream",
          "name": "stdout",
          "text": [
            "24\n",
            "23\n",
            "21\n",
            "19\n",
            "17\n",
            "15\n",
            "13\n",
            "11\n",
            "9\n",
            "7\n",
            "5\n",
            "3\n",
            "1\n"
          ]
        }
      ]
    },
    {
      "cell_type": "markdown",
      "source": [
        "#3rd approach Print the Odd numbers from n to 1 -- eg. if n = 5 print(5 3 1), n = 10 print( 9 7 5 3 1)"
      ],
      "metadata": {
        "id": "xL2VLkaKx_Bs"
      }
    },
    {
      "cell_type": "code",
      "source": [
        "#keeping the start point\n",
        "n = int(input())\n",
        "if n % 2 ==0:\n",
        "  x = n-1\n",
        "else:\n",
        "  x=n\n",
        "for i in range(x,0,-2):\n",
        "  print(i, end = ',')"
      ],
      "metadata": {
        "colab": {
          "base_uri": "https://localhost:8080/"
        },
        "id": "ZulVnqZoyFbk",
        "outputId": "5f383424-bf99-4b40-e1ed-398fde0edaef"
      },
      "execution_count": null,
      "outputs": [
        {
          "output_type": "stream",
          "name": "stdout",
          "text": [
            "28\n",
            "27,25,23,21,19,17,15,13,11,9,7,5,3,1,"
          ]
        }
      ]
    },
    {
      "cell_type": "markdown",
      "source": [
        "# **#Pattern Printing**\n",
        "#challenge - given n value as input print a square of stars of size NxN\n",
        "n = 2 \n",
        "#**\n",
        "#**\n",
        "\n",
        "n = 3\n",
        "#***\n",
        "#***\n",
        "#***\n",
        "\n",
        "n = 4\n",
        "#****\n",
        "#****\n",
        "#****\n",
        "#****"
      ],
      "metadata": {
        "id": "0PwpWKDIMSNV"
      }
    },
    {
      "cell_type": "code",
      "source": [
        "#challenge - given n value as input print a square of stars of size NxN\n",
        "\n",
        "n = int(input())\n",
        "for i in range (n):\n",
        "  print('*', end = '')\n",
        "\n",
        "for i in range (n):\n",
        "  print('*', end = '')\n",
        "\n",
        "for i in range (n):\n",
        "  print('*', end = '')\n"
      ],
      "metadata": {
        "colab": {
          "base_uri": "https://localhost:8080/"
        },
        "id": "RPZlBzSLyMqd",
        "outputId": "8f3c4883-9ad8-4ae7-8576-5920d1c5c518"
      },
      "execution_count": null,
      "outputs": [
        {
          "output_type": "stream",
          "name": "stdout",
          "text": [
            "3\n",
            "*********"
          ]
        }
      ]
    },
    {
      "cell_type": "code",
      "source": [
        "#with line break\n",
        "#challenge - given n value as input print a square of stars of size NxN\n",
        "\n",
        "n = int(input())\n",
        "for i in range (n):\n",
        "  print('*', end = '')\n",
        "print('')\n",
        "for i in range (n):\n",
        "  print('*', end = '')\n",
        "print('')\n",
        "for i in range (n):\n",
        "  print('*', end = '')\n",
        "print('')\n",
        "for i in range (n):\n",
        "  print('*', end = '')\n",
        "print('')\n",
        "for i in range (n):\n",
        "  print('*', end = '')"
      ],
      "metadata": {
        "colab": {
          "base_uri": "https://localhost:8080/"
        },
        "id": "2bAQvFo5Vngd",
        "outputId": "4901a8ec-e569-4480-b8f5-6460554db999"
      },
      "execution_count": null,
      "outputs": [
        {
          "output_type": "stream",
          "name": "stdout",
          "text": [
            "5\n",
            "*****\n",
            "*****\n",
            "*****\n",
            "*****\n",
            "*****"
          ]
        }
      ]
    },
    {
      "cell_type": "markdown",
      "source": [
        "# using For Loop instead of repeating the code"
      ],
      "metadata": {
        "id": "nfZlZ0HSWFeR"
      }
    },
    {
      "cell_type": "code",
      "source": [
        " N = int(input())\n",
        "for i in range(N):\n",
        "  print('*', end = ' ')"
      ],
      "metadata": {
        "colab": {
          "base_uri": "https://localhost:8080/"
        },
        "id": "xrmhCPElWRW3",
        "outputId": "8093a081-45b1-4a47-b58d-2701be82df6c"
      },
      "execution_count": null,
      "outputs": [
        {
          "output_type": "stream",
          "name": "stdout",
          "text": [
            "5\n",
            "* * * * * "
          ]
        }
      ]
    },
    {
      "cell_type": "code",
      "source": [
        "N = int(input())\n",
        "M = int(input())\n",
        "for i in range(N):\n",
        "    for j in range(M):\n",
        "        print('*',end='')\n",
        "    print('')   "
      ],
      "metadata": {
        "colab": {
          "base_uri": "https://localhost:8080/"
        },
        "id": "CJA23L5Og86z",
        "outputId": "21c5c395-e7e4-461b-836c-55a47573609f"
      },
      "execution_count": null,
      "outputs": [
        {
          "output_type": "stream",
          "name": "stdout",
          "text": [
            "3\n",
            "2\n",
            "**\n",
            "**\n",
            "**\n"
          ]
        }
      ]
    },
    {
      "cell_type": "code",
      "source": [
        "N = int(input())\n",
        "M = int(input())\n",
        "for i in range(N):\n",
        "    for j in range(M):\n",
        "        print('*', end = '')\n",
        "    print('')"
      ],
      "metadata": {
        "colab": {
          "base_uri": "https://localhost:8080/"
        },
        "id": "U-A4iZ06XswP",
        "outputId": "e2415531-9941-4ea4-9475-abffe4987f97"
      },
      "execution_count": null,
      "outputs": [
        {
          "output_type": "stream",
          "name": "stdout",
          "text": [
            "3\n",
            "2\n",
            "**\n",
            "**\n",
            "**\n"
          ]
        }
      ]
    },
    {
      "cell_type": "markdown",
      "source": [
        "PRINT Stairs as per the **input**"
      ],
      "metadata": {
        "id": "UppYRNWbQ7L3"
      }
    },
    {
      "cell_type": "code",
      "source": [
        "n= int(input())\n",
        "for i in range(1,n+1):\n",
        "  for j in range(i):\n",
        "    print('*',end='')\n",
        "  print('')"
      ],
      "metadata": {
        "colab": {
          "base_uri": "https://localhost:8080/"
        },
        "id": "D1QKmJnzXthv",
        "outputId": "7bc47056-ca67-49ef-ee5c-e5d9d6a79a2a"
      },
      "execution_count": null,
      "outputs": [
        {
          "output_type": "stream",
          "name": "stdout",
          "text": [
            "5\n",
            "*\n",
            "**\n",
            "***\n",
            "****\n",
            "*****\n"
          ]
        }
      ]
    },
    {
      "cell_type": "code",
      "source": [
        "#Checking PRIME number with IF Else"
      ],
      "metadata": {
        "id": "kgrFUlhBP5H1",
        "colab": {
          "base_uri": "https://localhost:8080/",
          "height": 130
        },
        "outputId": "52709938-6010-4489-e798-39c66a3ddeed"
      },
      "execution_count": null,
      "outputs": [
        {
          "output_type": "error",
          "ename": "SyntaxError",
          "evalue": "ignored",
          "traceback": [
            "\u001b[0;36m  File \u001b[0;32m\"<ipython-input-1-4181e28aedeb>\"\u001b[0;36m, line \u001b[0;32m1\u001b[0m\n\u001b[0;31m    Using if-else statements to check if a number is prime or not\u001b[0m\n\u001b[0m                ^\u001b[0m\n\u001b[0;31mSyntaxError\u001b[0m\u001b[0;31m:\u001b[0m invalid syntax\n"
          ]
        }
      ]
    },
    {
      "cell_type": "code",
      "source": [
        "n=int(input())\n",
        "if n>1:\n",
        "    for i in range(2,n//2):\n",
        "        if(n%i)==0:\n",
        "            print(n,\"is not a PRIME number\")\n",
        "    else:\n",
        "        print(n,\"is a PRIME number\")\n",
        "else:\n",
        "    print(n,\"Neither Prime Nor Composite\")"
      ],
      "metadata": {
        "id": "unVqMRotc061"
      },
      "execution_count": null,
      "outputs": []
    },
    {
      "cell_type": "markdown",
      "source": [
        "#frequency of even\n",
        "find the frequency of even numbers in the range 0-10 inclusive ?\n"
      ],
      "metadata": {
        "id": "2B_ZDR5wsOCd"
      }
    },
    {
      "cell_type": "code",
      "source": [
        "#Method 1\n",
        "print((10//2)+1)"
      ],
      "metadata": {
        "colab": {
          "base_uri": "https://localhost:8080/"
        },
        "id": "C6EEv26HsZUX",
        "outputId": "b89d4491-c9b5-4348-fad2-2784b7a505a0"
      },
      "execution_count": 29,
      "outputs": [
        {
          "output_type": "stream",
          "name": "stdout",
          "text": [
            "6\n"
          ]
        }
      ]
    },
    {
      "cell_type": "code",
      "source": [
        "#Method 2\n",
        "even=0\n",
        "for i in range(0, 11):\n",
        "    if i%2==0:\n",
        "        even=even+1\n",
        "print(even)"
      ],
      "metadata": {
        "colab": {
          "base_uri": "https://localhost:8080/"
        },
        "id": "gmuR0ZqPsutj",
        "outputId": "30c75ef9-1cc1-4001-fc94-9b22c04e0ba7"
      },
      "execution_count": 30,
      "outputs": [
        {
          "output_type": "stream",
          "name": "stdout",
          "text": [
            "6\n"
          ]
        }
      ]
    },
    {
      "cell_type": "code",
      "source": [
        "n=5\n",
        "for i in range(n):\n",
        "  print(i,end='')\n",
        "print(n,end='')\n",
        "print(\"*\")"
      ],
      "metadata": {
        "id": "RY1erWnxtW7T",
        "outputId": "be89d01b-788e-4611-dd48-2ee20f1ce0e5",
        "colab": {
          "base_uri": "https://localhost:8080/"
        }
      },
      "execution_count": 35,
      "outputs": [
        {
          "output_type": "stream",
          "name": "stdout",
          "text": [
            "012345*\n"
          ]
        }
      ]
    }
  ]
}