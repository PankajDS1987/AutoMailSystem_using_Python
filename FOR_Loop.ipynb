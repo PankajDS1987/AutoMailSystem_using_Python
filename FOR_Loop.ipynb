{
  "nbformat": 4,
  "nbformat_minor": 0,
  "metadata": {
    "colab": {
      "name": "FOR Loop.ipynb",
      "provenance": [],
      "collapsed_sections": [],
      "authorship_tag": "ABX9TyNd7xFdu0wmvWxlTRx3iDzr",
      "include_colab_link": true
    },
    "kernelspec": {
      "name": "python3",
      "display_name": "Python 3"
    },
    "language_info": {
      "name": "python"
    }
  },
  "cells": [
    {
      "cell_type": "markdown",
      "metadata": {
        "id": "view-in-github",
        "colab_type": "text"
      },
      "source": [
        "<a href=\"https://colab.research.google.com/github/PankajDS1987/AutoMailSystem_using_Python/blob/master/FOR_Loop.ipynb\" target=\"_parent\"><img src=\"https://colab.research.google.com/assets/colab-badge.svg\" alt=\"Open In Colab\"/></a>"
      ]
    },
    {
      "cell_type": "markdown",
      "source": [
        "**For Loops**\n",
        "\n",
        "for initialize the iterator -- in case of while loop- it contains the condition"
      ],
      "metadata": {
        "id": "DFuOJE1f5PD6"
      }
    },
    {
      "cell_type": "code",
      "execution_count": null,
      "metadata": {
        "colab": {
          "base_uri": "https://localhost:8080/"
        },
        "id": "NV2RIOvh44J3",
        "outputId": "38198f8a-8abb-4955-867e-564b314581ee"
      },
      "outputs": [
        {
          "output_type": "stream",
          "name": "stdout",
          "text": [
            "range(0, 5)\n"
          ]
        }
      ],
      "source": [
        "print(range(5))"
      ]
    },
    {
      "cell_type": "markdown",
      "source": [
        "**LIST is a pre-defined data type. in above example Range gives a range simply (0,5) when we print this range into a list it gives us the 5 values starting from 0)**"
      ],
      "metadata": {
        "id": "L4CeE1bI5MtE"
      }
    },
    {
      "cell_type": "code",
      "source": [
        "print(list(range(5)))"
      ],
      "metadata": {
        "colab": {
          "base_uri": "https://localhost:8080/"
        },
        "id": "WYKbKmfz5XXj",
        "outputId": "58e36fa8-840f-44a3-eab5-724e5d8c909a"
      },
      "execution_count": null,
      "outputs": [
        {
          "output_type": "stream",
          "name": "stdout",
          "text": [
            "[0, 1, 2, 3, 4]\n"
          ]
        }
      ]
    },
    {
      "cell_type": "code",
      "source": [
        "print(list(range(1,6)))"
      ],
      "metadata": {
        "colab": {
          "base_uri": "https://localhost:8080/"
        },
        "id": "mCoceLL66KFd",
        "outputId": "b14a7288-8ec8-4565-a959-24558e9f2a16"
      },
      "execution_count": null,
      "outputs": [
        {
          "output_type": "stream",
          "name": "stdout",
          "text": [
            "[1, 2, 3, 4, 5]\n"
          ]
        }
      ]
    },
    {
      "cell_type": "markdown",
      "source": [
        "its bit different from mathematics. in above example we are calling the function of range and passing 2 arguments. in previous example . It includes Starting point and excludes the end point while we try to print the range."
      ],
      "metadata": {
        "id": "6CVY3O756-RS"
      }
    },
    {
      "cell_type": "code",
      "source": [
        "print(list(range(2,8)))"
      ],
      "metadata": {
        "colab": {
          "base_uri": "https://localhost:8080/"
        },
        "id": "6cl-M3Q07Pel",
        "outputId": "23d6a562-6fe6-4ef6-b6c0-6e131f1dfdea"
      },
      "execution_count": null,
      "outputs": [
        {
          "output_type": "stream",
          "name": "stdout",
          "text": [
            "[2, 3, 4, 5, 6, 7]\n"
          ]
        }
      ]
    },
    {
      "cell_type": "markdown",
      "source": [
        "**Printing ODD Numbers in a range** now in the range function we can add one more argument of the gap, e.g. size of 2 (incremented by 2 we can say)"
      ],
      "metadata": {
        "id": "hUFVFo-98Wcn"
      }
    },
    {
      "cell_type": "code",
      "source": [
        "print(list(range(2,20,2)))"
      ],
      "metadata": {
        "colab": {
          "base_uri": "https://localhost:8080/"
        },
        "id": "ZBryPPQF8ay-",
        "outputId": "f0c410b0-8466-42ad-e154-77146900ca31"
      },
      "execution_count": null,
      "outputs": [
        {
          "output_type": "stream",
          "name": "stdout",
          "text": [
            "[2, 4, 6, 8, 10, 12, 14, 16, 18]\n"
          ]
        }
      ]
    },
    {
      "cell_type": "code",
      "source": [
        "print(range(2,20,2))"
      ],
      "metadata": {
        "colab": {
          "base_uri": "https://localhost:8080/"
        },
        "id": "yzQcKnDC9R4u",
        "outputId": "630f38e7-d30c-4a3d-c9b1-1fe913839052"
      },
      "execution_count": null,
      "outputs": [
        {
          "output_type": "stream",
          "name": "stdout",
          "text": [
            "range(2, 20, 2)\n"
          ]
        }
      ]
    },
    {
      "cell_type": "code",
      "source": [
        "print(list(range(1,21,3)))"
      ],
      "metadata": {
        "colab": {
          "base_uri": "https://localhost:8080/"
        },
        "id": "DVAMpyf590wn",
        "outputId": "c4141f2f-9831-4a8a-e762-5233797ddc17"
      },
      "execution_count": null,
      "outputs": [
        {
          "output_type": "stream",
          "name": "stdout",
          "text": [
            "[1, 4, 7, 10, 13, 16, 19]\n"
          ]
        }
      ]
    },
    {
      "cell_type": "code",
      "source": [
        "print(list(range(20,10,-4))) #here 10 is the last digit so it won't be included since we are decreasing."
      ],
      "metadata": {
        "colab": {
          "base_uri": "https://localhost:8080/"
        },
        "id": "RjtofP---IF6",
        "outputId": "c9609888-dc89-41a7-c616-630dc8523110"
      },
      "execution_count": null,
      "outputs": [
        {
          "output_type": "stream",
          "name": "stdout",
          "text": [
            "[20, 16, 12]\n"
          ]
        }
      ]
    },
    {
      "cell_type": "markdown",
      "source": [
        "## **Challenge 1: Sum of Number from 1 to N** "
      ],
      "metadata": {
        "id": "vU6fFdFW8g5V"
      }
    },
    {
      "cell_type": "code",
      "source": [
        "n = int(input())"
      ],
      "metadata": {
        "colab": {
          "base_uri": "https://localhost:8080/"
        },
        "id": "32BKc7n69bmN",
        "outputId": "02bc2e5f-7681-4794-b21d-6d5247a81204"
      },
      "execution_count": null,
      "outputs": [
        {
          "name": "stdout",
          "output_type": "stream",
          "text": [
            "10\n"
          ]
        }
      ]
    },
    {
      "cell_type": "code",
      "source": [
        "sum=0\n",
        "for i in range(1,n+1):\n",
        "  sum+=i\n",
        "print(sum)  "
      ],
      "metadata": {
        "colab": {
          "base_uri": "https://localhost:8080/"
        },
        "id": "daUdWPl_9pSJ",
        "outputId": "274758ee-c336-4be3-ff70-7badaf9edc9b"
      },
      "execution_count": null,
      "outputs": [
        {
          "output_type": "stream",
          "name": "stdout",
          "text": [
            "55\n"
          ]
        }
      ]
    },
    {
      "cell_type": "markdown",
      "source": [
        "Challenge 2: answet the output for the below code:\n",
        "\n",
        "N = int(input())\n",
        "for i in range(N):\n",
        "  print(i, end =' ')"
      ],
      "metadata": {
        "id": "I4YGYtnt-tiU"
      }
    },
    {
      "cell_type": "code",
      "source": [
        "N = int(input())\n",
        "for i in range(N):\n",
        "  print(i, end =' ')"
      ],
      "metadata": {
        "colab": {
          "base_uri": "https://localhost:8080/"
        },
        "id": "Y1Uv0odG_I2i",
        "outputId": "20f4adfe-6e35-403b-ba92-23110f0bc6a4"
      },
      "execution_count": null,
      "outputs": [
        {
          "output_type": "stream",
          "name": "stdout",
          "text": [
            "12\n",
            "0 1 2 3 4 5 6 7 8 9 10 11 "
          ]
        }
      ]
    },
    {
      "cell_type": "code",
      "source": [
        "#print the first N natural number from 1 to N\n",
        "\n",
        "n = int(input())\n",
        "for i in range(1,n+1):\n",
        "  print(i, end = ' ,')"
      ],
      "metadata": {
        "colab": {
          "base_uri": "https://localhost:8080/"
        },
        "id": "iQPToRIK_n20",
        "outputId": "3f424a5a-2014-4676-8b30-b1a5ec78ffd6"
      },
      "execution_count": null,
      "outputs": [
        {
          "output_type": "stream",
          "name": "stdout",
          "text": [
            "3\n",
            "1 ,2 ,3 ,"
          ]
        }
      ]
    },
    {
      "cell_type": "code",
      "source": [
        "#Print the Odd numbers from n to 1 -- eg. if n = 5 print(5 3 1), n = 10 print( 9 7 5 3 1)\n",
        "n = int(input())\n",
        "odd=0\n",
        "for i in range (n,0,-2)"
      ],
      "metadata": {
        "id": "DUiJKwoXHDht"
      },
      "execution_count": null,
      "outputs": []
    },
    {
      "cell_type": "code",
      "source": [
        "n = int(input())\n",
        "# check if a number is even\n",
        "if n %2==0:\n",
        "  for i in range(n-1,0,-2):\n",
        "    print(i, end = ',')\n",
        "else:\n",
        "  for i in range(n,0,-2):\n",
        "    print(i, end = ',')"
      ],
      "metadata": {
        "colab": {
          "base_uri": "https://localhost:8080/"
        },
        "id": "vJiK5I2XXFgV",
        "outputId": "93217f1b-f11a-4c22-c8dd-d0003973aa67"
      },
      "execution_count": null,
      "outputs": [
        {
          "output_type": "stream",
          "name": "stdout",
          "text": [
            "12\n",
            "11,9,7,5,3,1,"
          ]
        }
      ]
    },
    {
      "cell_type": "code",
      "source": [
        "#2nd approach Print the Odd numbers from n to 1 -- eg. if n = 5 print(5 3 1), n = 10 print( 9 7 5 3 1)\n",
        "n = int(input())\n",
        "if n%2 == 0:\n",
        "  n -= 1\n",
        "for i in range(n,0,-2):\n",
        "  print(i)\n"
      ],
      "metadata": {
        "colab": {
          "base_uri": "https://localhost:8080/"
        },
        "id": "FiNQsZ-Wp8wr",
        "outputId": "ccf21215-0cc2-43ec-a086-a3b50198c7cd"
      },
      "execution_count": null,
      "outputs": [
        {
          "output_type": "stream",
          "name": "stdout",
          "text": [
            "24\n",
            "23\n",
            "21\n",
            "19\n",
            "17\n",
            "15\n",
            "13\n",
            "11\n",
            "9\n",
            "7\n",
            "5\n",
            "3\n",
            "1\n"
          ]
        }
      ]
    },
    {
      "cell_type": "markdown",
      "source": [
        "#3rd approach Print the Odd numbers from n to 1 -- eg. if n = 5 print(5 3 1), n = 10 print( 9 7 5 3 1)"
      ],
      "metadata": {
        "id": "xL2VLkaKx_Bs"
      }
    },
    {
      "cell_type": "code",
      "source": [
        "#keeping the start point\n",
        "n = int(input())\n",
        "if n % 2 ==0:\n",
        "  x = n-1\n",
        "else:\n",
        "  x=n\n",
        "for i in range(x,0,-2):\n",
        "  print(i, end = ',')"
      ],
      "metadata": {
        "colab": {
          "base_uri": "https://localhost:8080/"
        },
        "id": "ZulVnqZoyFbk",
        "outputId": "5f383424-bf99-4b40-e1ed-398fde0edaef"
      },
      "execution_count": null,
      "outputs": [
        {
          "output_type": "stream",
          "name": "stdout",
          "text": [
            "28\n",
            "27,25,23,21,19,17,15,13,11,9,7,5,3,1,"
          ]
        }
      ]
    },
    {
      "cell_type": "markdown",
      "source": [
        "# **#Pattern Printing**\n",
        "#challenge - given n value as input print a square of stars of size NxN\n",
        "n = 2 \n",
        "#**\n",
        "#**\n",
        "\n",
        "n = 3\n",
        "#***\n",
        "#***\n",
        "#***\n",
        "\n",
        "n = 4\n",
        "#****\n",
        "#****\n",
        "#****\n",
        "#****"
      ],
      "metadata": {
        "id": "0PwpWKDIMSNV"
      }
    },
    {
      "cell_type": "code",
      "source": [
        "#challenge - given n value as input print a square of stars of size NxN\n",
        "\n",
        "n = int(input())\n",
        "for i in range (n):\n",
        "  print('*', end = '')\n",
        "\n",
        "for i in range (n):\n",
        "  print('*', end = '')\n",
        "\n",
        "for i in range (n):\n",
        "  print('*', end = '')\n"
      ],
      "metadata": {
        "colab": {
          "base_uri": "https://localhost:8080/"
        },
        "id": "RPZlBzSLyMqd",
        "outputId": "8f3c4883-9ad8-4ae7-8576-5920d1c5c518"
      },
      "execution_count": null,
      "outputs": [
        {
          "output_type": "stream",
          "name": "stdout",
          "text": [
            "3\n",
            "*********"
          ]
        }
      ]
    },
    {
      "cell_type": "code",
      "source": [
        "#with line break\n",
        "#challenge - given n value as input print a square of stars of size NxN\n",
        "\n",
        "n = int(input())\n",
        "for i in range (n):\n",
        "  print('*', end = '')\n",
        "print('')\n",
        "for i in range (n):\n",
        "  print('*', end = '')\n",
        "print('')\n",
        "for i in range (n):\n",
        "  print('*', end = '')\n",
        "print('')\n",
        "for i in range (n):\n",
        "  print('*', end = '')\n",
        "print('')\n",
        "for i in range (n):\n",
        "  print('*', end = '')"
      ],
      "metadata": {
        "colab": {
          "base_uri": "https://localhost:8080/"
        },
        "id": "2bAQvFo5Vngd",
        "outputId": "4901a8ec-e569-4480-b8f5-6460554db999"
      },
      "execution_count": null,
      "outputs": [
        {
          "output_type": "stream",
          "name": "stdout",
          "text": [
            "5\n",
            "*****\n",
            "*****\n",
            "*****\n",
            "*****\n",
            "*****"
          ]
        }
      ]
    },
    {
      "cell_type": "markdown",
      "source": [
        "# using For Loop instead of repeating the code"
      ],
      "metadata": {
        "id": "nfZlZ0HSWFeR"
      }
    },
    {
      "cell_type": "code",
      "source": [
        " N = int(input())\n",
        "for i in range(N):\n",
        "  print('*', end = ' ')"
      ],
      "metadata": {
        "colab": {
          "base_uri": "https://localhost:8080/"
        },
        "id": "xrmhCPElWRW3",
        "outputId": "8093a081-45b1-4a47-b58d-2701be82df6c"
      },
      "execution_count": null,
      "outputs": [
        {
          "output_type": "stream",
          "name": "stdout",
          "text": [
            "5\n",
            "* * * * * "
          ]
        }
      ]
    },
    {
      "cell_type": "code",
      "source": [
        "N = int(input())\n",
        "M = int(input())\n",
        "for i in range(N):\n",
        "    for j in range(M):\n",
        "        print('*',end='')\n",
        "    print('')   "
      ],
      "metadata": {
        "colab": {
          "base_uri": "https://localhost:8080/"
        },
        "id": "CJA23L5Og86z",
        "outputId": "21c5c395-e7e4-461b-836c-55a47573609f"
      },
      "execution_count": null,
      "outputs": [
        {
          "output_type": "stream",
          "name": "stdout",
          "text": [
            "3\n",
            "2\n",
            "**\n",
            "**\n",
            "**\n"
          ]
        }
      ]
    },
    {
      "cell_type": "code",
      "source": [
        "N = int(input())\n",
        "M = int(input())\n",
        "for i in range(N):\n",
        "    for j in range(M):\n",
        "        print('*', end = '')\n",
        "    print('')"
      ],
      "metadata": {
        "colab": {
          "base_uri": "https://localhost:8080/"
        },
        "id": "U-A4iZ06XswP",
        "outputId": "e2415531-9941-4ea4-9475-abffe4987f97"
      },
      "execution_count": null,
      "outputs": [
        {
          "output_type": "stream",
          "name": "stdout",
          "text": [
            "3\n",
            "2\n",
            "**\n",
            "**\n",
            "**\n"
          ]
        }
      ]
    },
    {
      "cell_type": "markdown",
      "source": [
        "PRINT Stairs as per the **input**"
      ],
      "metadata": {
        "id": "UppYRNWbQ7L3"
      }
    },
    {
      "cell_type": "code",
      "source": [
        "n= int(input())\n",
        "for i in range(1,n+1):\n",
        "  for j in range(i):\n",
        "    print('*',end='')\n",
        "  print('')"
      ],
      "metadata": {
        "colab": {
          "base_uri": "https://localhost:8080/"
        },
        "id": "D1QKmJnzXthv",
        "outputId": "7bc47056-ca67-49ef-ee5c-e5d9d6a79a2a"
      },
      "execution_count": null,
      "outputs": [
        {
          "output_type": "stream",
          "name": "stdout",
          "text": [
            "5\n",
            "*\n",
            "**\n",
            "***\n",
            "****\n",
            "*****\n"
          ]
        }
      ]
    },
    {
      "cell_type": "code",
      "source": [
        "#Checking PRIME number with IF Else"
      ],
      "metadata": {
        "id": "kgrFUlhBP5H1",
        "colab": {
          "base_uri": "https://localhost:8080/",
          "height": 130
        },
        "outputId": "52709938-6010-4489-e798-39c66a3ddeed"
      },
      "execution_count": null,
      "outputs": [
        {
          "output_type": "error",
          "ename": "SyntaxError",
          "evalue": "ignored",
          "traceback": [
            "\u001b[0;36m  File \u001b[0;32m\"<ipython-input-1-4181e28aedeb>\"\u001b[0;36m, line \u001b[0;32m1\u001b[0m\n\u001b[0;31m    Using if-else statements to check if a number is prime or not\u001b[0m\n\u001b[0m                ^\u001b[0m\n\u001b[0;31mSyntaxError\u001b[0m\u001b[0;31m:\u001b[0m invalid syntax\n"
          ]
        }
      ]
    },
    {
      "cell_type": "code",
      "source": [
        "n=int(input())\n",
        "if n>1:\n",
        "    for i in range(2,n//2):\n",
        "        if(n%i)==0:\n",
        "            print(n,\"is not a PRIME number\")\n",
        "    else:\n",
        "        print(n,\"is a PRIME number\")\n",
        "else:\n",
        "    print(n,\"Neither Prime Nor Composite\")"
      ],
      "metadata": {
        "id": "unVqMRotc061"
      },
      "execution_count": null,
      "outputs": []
    }
  ]
}